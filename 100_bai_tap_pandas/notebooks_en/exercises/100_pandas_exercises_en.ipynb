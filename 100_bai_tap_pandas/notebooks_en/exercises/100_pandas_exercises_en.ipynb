{
 "cells": [
  {
   "cell_type": "markdown",
   "metadata": {},
   "source": [
    "# **Data Science 100 Exercises (Structured Data Processing Edition) - Python**"
   ]
  },
  {
   "cell_type": "markdown",
   "metadata": {},
   "source": [
    "## Basic setting\n"
   ]
  },
  {
   "cell_type": "code",
   "execution_count": 1,
   "metadata": {
    "ExecuteTime": {
     "end_time": "2024-09-12T13:23:27.208340600Z",
     "start_time": "2024-09-12T13:23:25.941212700Z"
    }
   },
   "outputs": [],
   "source": [
    "import os\n",
    "import pandas as pd\n",
    "import numpy as np\n",
    "\n",
    "dtype = {\n",
    "    'customer_id': str,\n",
    "    'gender_cd': str,\n",
    "    'postal_cd': str,\n",
    "    'application_store_cd': str,\n",
    "    'status_cd': str,\n",
    "    'category_major_cd': str,\n",
    "    'category_medium_cd': str,\n",
    "    'category_small_cd': str,\n",
    "    'product_cd': str,\n",
    "    'store_cd': str,\n",
    "    'prefecture_cd': str,\n",
    "    'tel_no': str,\n",
    "    'postal_cd': str,\n",
    "    'street': str\n",
    "}\n",
    "\n",
    "df_customer = pd.read_csv(\"../../data/preprocessed/customer_eng.csv\", dtype=dtype)\n",
    "df_category = pd.read_csv(\"../../data/preprocessed/category_eng.csv\", dtype=dtype)\n",
    "df_product = pd.read_csv(\"../../data/preprocessed/product.csv\", dtype=dtype)\n",
    "df_receipt = pd.read_csv(\"../../data/preprocessed/receipt.csv\", dtype=dtype)\n",
    "df_store = pd.read_csv(\"../../data/preprocessed/store_eng.csv\", dtype=dtype)\n",
    "df_geocode = pd.read_csv(\"../../data/preprocessed/geocode_eng.csv\", dtype=dtype)\n"
   ]
  },
  {
   "cell_type": "code",
   "execution_count": 7,
   "outputs": [
    {
     "name": "stdout",
     "output_type": "stream",
     "text": [
      "customer_id             0\n",
      "customer_name           0\n",
      "gender_cd               0\n",
      "gender                  0\n",
      "birth_day               0\n",
      "age                     0\n",
      "postal_cd               0\n",
      "address                 0\n",
      "application_store_cd    0\n",
      "application_date        0\n",
      "status_cd               0\n",
      "dtype: int64\n"
     ]
    },
    {
     "data": {
      "text/plain": "customer_id             1099\ncustomer_name           1082\ngender_cd                  3\ngender                     3\nbirth_day               1067\nage                       74\npostal_cd                471\naddress                  469\napplication_store_cd      50\napplication_date         635\nstatus_cd                421\ndtype: int64"
     },
     "execution_count": 7,
     "metadata": {},
     "output_type": "execute_result"
    }
   ],
   "source": [
    "print(df_customer.isnull().sum())\n",
    "df_customer.nunique()"
   ],
   "metadata": {
    "collapsed": false,
    "ExecuteTime": {
     "end_time": "2024-09-12T13:29:15.992235400Z",
     "start_time": "2024-09-12T13:29:15.814945500Z"
    }
   }
  },
  {
   "cell_type": "markdown",
   "metadata": {},
   "source": [
    "## Exercise Problems"
   ]
  },
  {
   "cell_type": "markdown",
   "metadata": {},
   "source": [
    "---\n",
    "> P-001: Display the first 10 rows of all items from the receipt details data (df_receipt) to visually confirm what kind of data it contains."
   ]
  },
  {
   "cell_type": "code",
   "execution_count": 3,
   "metadata": {
    "ExecuteTime": {
     "end_time": "2024-09-05T10:43:51.705847200Z",
     "start_time": "2024-09-05T10:43:45.255513700Z"
    }
   },
   "outputs": [
    {
     "data": {
      "text/plain": "   sales_ymd  sales_epoch store_cd  receipt_no  receipt_sub_no  \\\n0   20181103   1541203200   S14006         112               1   \n1   20181118   1542499200   S13008        1132               2   \n2   20170712   1499817600   S14028        1102               1   \n3   20190205   1549324800   S14042        1132               1   \n4   20180821   1534809600   S14025        1102               2   \n5   20190605   1559692800   S13003        1112               1   \n6   20181205   1543968000   S14024        1102               2   \n7   20190922   1569110400   S14040        1102               1   \n8   20170504   1493856000   S13020        1112               2   \n9   20191010   1570665600   S14027        1102               1   \n\n      customer_id  product_cd  quantity  amount  \n0  CS006214000001  P070305012         1     158  \n1  CS008415000097  P070701017         1      81  \n2  CS028414000014  P060101005         1     170  \n3  ZZ000000000000  P050301001         1      25  \n4  CS025415000050  P060102007         1      90  \n5  CS003515000195  P050102002         1     138  \n6  CS024514000042  P080101005         1      30  \n7  CS040415000178  P070501004         1     128  \n8  ZZ000000000000  P071302010         1     770  \n9  CS027514000015  P071101003         1     680  ",
      "text/html": "<div>\n<style scoped>\n    .dataframe tbody tr th:only-of-type {\n        vertical-align: middle;\n    }\n\n    .dataframe tbody tr th {\n        vertical-align: top;\n    }\n\n    .dataframe thead th {\n        text-align: right;\n    }\n</style>\n<table border=\"1\" class=\"dataframe\">\n  <thead>\n    <tr style=\"text-align: right;\">\n      <th></th>\n      <th>sales_ymd</th>\n      <th>sales_epoch</th>\n      <th>store_cd</th>\n      <th>receipt_no</th>\n      <th>receipt_sub_no</th>\n      <th>customer_id</th>\n      <th>product_cd</th>\n      <th>quantity</th>\n      <th>amount</th>\n    </tr>\n  </thead>\n  <tbody>\n    <tr>\n      <th>0</th>\n      <td>20181103</td>\n      <td>1541203200</td>\n      <td>S14006</td>\n      <td>112</td>\n      <td>1</td>\n      <td>CS006214000001</td>\n      <td>P070305012</td>\n      <td>1</td>\n      <td>158</td>\n    </tr>\n    <tr>\n      <th>1</th>\n      <td>20181118</td>\n      <td>1542499200</td>\n      <td>S13008</td>\n      <td>1132</td>\n      <td>2</td>\n      <td>CS008415000097</td>\n      <td>P070701017</td>\n      <td>1</td>\n      <td>81</td>\n    </tr>\n    <tr>\n      <th>2</th>\n      <td>20170712</td>\n      <td>1499817600</td>\n      <td>S14028</td>\n      <td>1102</td>\n      <td>1</td>\n      <td>CS028414000014</td>\n      <td>P060101005</td>\n      <td>1</td>\n      <td>170</td>\n    </tr>\n    <tr>\n      <th>3</th>\n      <td>20190205</td>\n      <td>1549324800</td>\n      <td>S14042</td>\n      <td>1132</td>\n      <td>1</td>\n      <td>ZZ000000000000</td>\n      <td>P050301001</td>\n      <td>1</td>\n      <td>25</td>\n    </tr>\n    <tr>\n      <th>4</th>\n      <td>20180821</td>\n      <td>1534809600</td>\n      <td>S14025</td>\n      <td>1102</td>\n      <td>2</td>\n      <td>CS025415000050</td>\n      <td>P060102007</td>\n      <td>1</td>\n      <td>90</td>\n    </tr>\n    <tr>\n      <th>5</th>\n      <td>20190605</td>\n      <td>1559692800</td>\n      <td>S13003</td>\n      <td>1112</td>\n      <td>1</td>\n      <td>CS003515000195</td>\n      <td>P050102002</td>\n      <td>1</td>\n      <td>138</td>\n    </tr>\n    <tr>\n      <th>6</th>\n      <td>20181205</td>\n      <td>1543968000</td>\n      <td>S14024</td>\n      <td>1102</td>\n      <td>2</td>\n      <td>CS024514000042</td>\n      <td>P080101005</td>\n      <td>1</td>\n      <td>30</td>\n    </tr>\n    <tr>\n      <th>7</th>\n      <td>20190922</td>\n      <td>1569110400</td>\n      <td>S14040</td>\n      <td>1102</td>\n      <td>1</td>\n      <td>CS040415000178</td>\n      <td>P070501004</td>\n      <td>1</td>\n      <td>128</td>\n    </tr>\n    <tr>\n      <th>8</th>\n      <td>20170504</td>\n      <td>1493856000</td>\n      <td>S13020</td>\n      <td>1112</td>\n      <td>2</td>\n      <td>ZZ000000000000</td>\n      <td>P071302010</td>\n      <td>1</td>\n      <td>770</td>\n    </tr>\n    <tr>\n      <th>9</th>\n      <td>20191010</td>\n      <td>1570665600</td>\n      <td>S14027</td>\n      <td>1102</td>\n      <td>1</td>\n      <td>CS027514000015</td>\n      <td>P071101003</td>\n      <td>1</td>\n      <td>680</td>\n    </tr>\n  </tbody>\n</table>\n</div>"
     },
     "execution_count": 3,
     "metadata": {},
     "output_type": "execute_result"
    }
   ],
   "source": [
    "df_receipt.head(10)"
   ]
  },
  {
   "cell_type": "markdown",
   "metadata": {},
   "source": [
    "\n",
    "> P-002: From the receipt details data (df_receipt), specify the columns in the order of sales date (sales_ymd), customer ID (customer_id), product code (product_cd), and sales amount (amount), and display 10 rows."
   ]
  },
  {
   "cell_type": "code",
   "execution_count": 4,
   "metadata": {
    "ExecuteTime": {
     "end_time": "2024-09-05T10:43:51.839306700Z",
     "start_time": "2024-09-05T10:43:45.293446Z"
    }
   },
   "outputs": [
    {
     "data": {
      "text/plain": "   sales_ymd     customer_id  product_cd\n0   20181103  CS006214000001  P070305012\n1   20181118  CS008415000097  P070701017\n2   20170712  CS028414000014  P060101005\n3   20190205  ZZ000000000000  P050301001\n4   20180821  CS025415000050  P060102007\n5   20190605  CS003515000195  P050102002\n6   20181205  CS024514000042  P080101005\n7   20190922  CS040415000178  P070501004\n8   20170504  ZZ000000000000  P071302010\n9   20191010  CS027514000015  P071101003",
      "text/html": "<div>\n<style scoped>\n    .dataframe tbody tr th:only-of-type {\n        vertical-align: middle;\n    }\n\n    .dataframe tbody tr th {\n        vertical-align: top;\n    }\n\n    .dataframe thead th {\n        text-align: right;\n    }\n</style>\n<table border=\"1\" class=\"dataframe\">\n  <thead>\n    <tr style=\"text-align: right;\">\n      <th></th>\n      <th>sales_ymd</th>\n      <th>customer_id</th>\n      <th>product_cd</th>\n    </tr>\n  </thead>\n  <tbody>\n    <tr>\n      <th>0</th>\n      <td>20181103</td>\n      <td>CS006214000001</td>\n      <td>P070305012</td>\n    </tr>\n    <tr>\n      <th>1</th>\n      <td>20181118</td>\n      <td>CS008415000097</td>\n      <td>P070701017</td>\n    </tr>\n    <tr>\n      <th>2</th>\n      <td>20170712</td>\n      <td>CS028414000014</td>\n      <td>P060101005</td>\n    </tr>\n    <tr>\n      <th>3</th>\n      <td>20190205</td>\n      <td>ZZ000000000000</td>\n      <td>P050301001</td>\n    </tr>\n    <tr>\n      <th>4</th>\n      <td>20180821</td>\n      <td>CS025415000050</td>\n      <td>P060102007</td>\n    </tr>\n    <tr>\n      <th>5</th>\n      <td>20190605</td>\n      <td>CS003515000195</td>\n      <td>P050102002</td>\n    </tr>\n    <tr>\n      <th>6</th>\n      <td>20181205</td>\n      <td>CS024514000042</td>\n      <td>P080101005</td>\n    </tr>\n    <tr>\n      <th>7</th>\n      <td>20190922</td>\n      <td>CS040415000178</td>\n      <td>P070501004</td>\n    </tr>\n    <tr>\n      <th>8</th>\n      <td>20170504</td>\n      <td>ZZ000000000000</td>\n      <td>P071302010</td>\n    </tr>\n    <tr>\n      <th>9</th>\n      <td>20191010</td>\n      <td>CS027514000015</td>\n      <td>P071101003</td>\n    </tr>\n  </tbody>\n</table>\n</div>"
     },
     "execution_count": 4,
     "metadata": {},
     "output_type": "execute_result"
    }
   ],
   "source": [
    "# SELECT CỘT\n",
    "df_receipt[['sales_ymd','customer_id','product_cd']].head(10)"
   ]
  },
  {
   "cell_type": "markdown",
   "metadata": {},
   "source": [
    "---\n",
    "> P-003: From the receipt details data (df_receipt), specify the columns in the order of sales date (sales_ymd), customer ID (customer_id), product code (product_cd), and sales amount (amount), and display 10 rows. However, change the item name sales_ymd to sales_date when extracting."
   ]
  },
  {
   "cell_type": "code",
   "execution_count": 5,
   "metadata": {
    "ExecuteTime": {
     "end_time": "2024-09-05T10:43:51.956727100Z",
     "start_time": "2024-09-05T10:43:45.297681900Z"
    }
   },
   "outputs": [
    {
     "data": {
      "text/plain": "   sales_date     customer_id  product_cd  amount\n0    20181103  CS006214000001  P070305012     158\n1    20181118  CS008415000097  P070701017      81\n2    20170712  CS028414000014  P060101005     170\n3    20190205  ZZ000000000000  P050301001      25\n4    20180821  CS025415000050  P060102007      90\n5    20190605  CS003515000195  P050102002     138\n6    20181205  CS024514000042  P080101005      30\n7    20190922  CS040415000178  P070501004     128\n8    20170504  ZZ000000000000  P071302010     770\n9    20191010  CS027514000015  P071101003     680",
      "text/html": "<div>\n<style scoped>\n    .dataframe tbody tr th:only-of-type {\n        vertical-align: middle;\n    }\n\n    .dataframe tbody tr th {\n        vertical-align: top;\n    }\n\n    .dataframe thead th {\n        text-align: right;\n    }\n</style>\n<table border=\"1\" class=\"dataframe\">\n  <thead>\n    <tr style=\"text-align: right;\">\n      <th></th>\n      <th>sales_date</th>\n      <th>customer_id</th>\n      <th>product_cd</th>\n      <th>amount</th>\n    </tr>\n  </thead>\n  <tbody>\n    <tr>\n      <th>0</th>\n      <td>20181103</td>\n      <td>CS006214000001</td>\n      <td>P070305012</td>\n      <td>158</td>\n    </tr>\n    <tr>\n      <th>1</th>\n      <td>20181118</td>\n      <td>CS008415000097</td>\n      <td>P070701017</td>\n      <td>81</td>\n    </tr>\n    <tr>\n      <th>2</th>\n      <td>20170712</td>\n      <td>CS028414000014</td>\n      <td>P060101005</td>\n      <td>170</td>\n    </tr>\n    <tr>\n      <th>3</th>\n      <td>20190205</td>\n      <td>ZZ000000000000</td>\n      <td>P050301001</td>\n      <td>25</td>\n    </tr>\n    <tr>\n      <th>4</th>\n      <td>20180821</td>\n      <td>CS025415000050</td>\n      <td>P060102007</td>\n      <td>90</td>\n    </tr>\n    <tr>\n      <th>5</th>\n      <td>20190605</td>\n      <td>CS003515000195</td>\n      <td>P050102002</td>\n      <td>138</td>\n    </tr>\n    <tr>\n      <th>6</th>\n      <td>20181205</td>\n      <td>CS024514000042</td>\n      <td>P080101005</td>\n      <td>30</td>\n    </tr>\n    <tr>\n      <th>7</th>\n      <td>20190922</td>\n      <td>CS040415000178</td>\n      <td>P070501004</td>\n      <td>128</td>\n    </tr>\n    <tr>\n      <th>8</th>\n      <td>20170504</td>\n      <td>ZZ000000000000</td>\n      <td>P071302010</td>\n      <td>770</td>\n    </tr>\n    <tr>\n      <th>9</th>\n      <td>20191010</td>\n      <td>CS027514000015</td>\n      <td>P071101003</td>\n      <td>680</td>\n    </tr>\n  </tbody>\n</table>\n</div>"
     },
     "execution_count": 5,
     "metadata": {},
     "output_type": "execute_result"
    }
   ],
   "source": [
    "(\n",
    "    df_receipt[['sales_ymd','customer_id','product_cd','amount']].head(10)\n",
    "    .rename(columns = {\"sales_ymd\" : \"sales_date\"})\n",
    ")"
   ]
  },
  {
   "cell_type": "markdown",
   "metadata": {},
   "source": [
    "\n",
    "> P-004: From the receipt details data (df_receipt), specify the columns in the order of sales date (sales_ymd), customer ID (customer_id), product code (product_cd), and sales amount (amount), and extract the data that meets the following condition:\n",
    "> * The customer ID (customer_id) is \"CS018205000001\"."
   ]
  },
  {
   "cell_type": "code",
   "execution_count": 6,
   "metadata": {
    "ExecuteTime": {
     "end_time": "2024-09-05T10:43:52.062823Z",
     "start_time": "2024-09-05T10:43:45.311476100Z"
    }
   },
   "outputs": [
    {
     "data": {
      "text/plain": "       sales_ymd     customer_id  product_cd  amount\n36      20180911  CS018205000001  P071401012    2200\n9843    20180414  CS018205000001  P060104007     600\n21110   20170614  CS018205000001  P050206001     990\n27673   20170614  CS018205000001  P060702015     108\n27840   20190216  CS018205000001  P071005024     102\n28757   20180414  CS018205000001  P071101002     278\n39256   20190226  CS018205000001  P070902035     168\n58121   20190924  CS018205000001  P060805001     495\n68117   20190226  CS018205000001  P071401020    2200\n72254   20180911  CS018205000001  P071401005    1100\n88508   20190216  CS018205000001  P040101002     218\n91525   20190924  CS018205000001  P091503001     280",
      "text/html": "<div>\n<style scoped>\n    .dataframe tbody tr th:only-of-type {\n        vertical-align: middle;\n    }\n\n    .dataframe tbody tr th {\n        vertical-align: top;\n    }\n\n    .dataframe thead th {\n        text-align: right;\n    }\n</style>\n<table border=\"1\" class=\"dataframe\">\n  <thead>\n    <tr style=\"text-align: right;\">\n      <th></th>\n      <th>sales_ymd</th>\n      <th>customer_id</th>\n      <th>product_cd</th>\n      <th>amount</th>\n    </tr>\n  </thead>\n  <tbody>\n    <tr>\n      <th>36</th>\n      <td>20180911</td>\n      <td>CS018205000001</td>\n      <td>P071401012</td>\n      <td>2200</td>\n    </tr>\n    <tr>\n      <th>9843</th>\n      <td>20180414</td>\n      <td>CS018205000001</td>\n      <td>P060104007</td>\n      <td>600</td>\n    </tr>\n    <tr>\n      <th>21110</th>\n      <td>20170614</td>\n      <td>CS018205000001</td>\n      <td>P050206001</td>\n      <td>990</td>\n    </tr>\n    <tr>\n      <th>27673</th>\n      <td>20170614</td>\n      <td>CS018205000001</td>\n      <td>P060702015</td>\n      <td>108</td>\n    </tr>\n    <tr>\n      <th>27840</th>\n      <td>20190216</td>\n      <td>CS018205000001</td>\n      <td>P071005024</td>\n      <td>102</td>\n    </tr>\n    <tr>\n      <th>28757</th>\n      <td>20180414</td>\n      <td>CS018205000001</td>\n      <td>P071101002</td>\n      <td>278</td>\n    </tr>\n    <tr>\n      <th>39256</th>\n      <td>20190226</td>\n      <td>CS018205000001</td>\n      <td>P070902035</td>\n      <td>168</td>\n    </tr>\n    <tr>\n      <th>58121</th>\n      <td>20190924</td>\n      <td>CS018205000001</td>\n      <td>P060805001</td>\n      <td>495</td>\n    </tr>\n    <tr>\n      <th>68117</th>\n      <td>20190226</td>\n      <td>CS018205000001</td>\n      <td>P071401020</td>\n      <td>2200</td>\n    </tr>\n    <tr>\n      <th>72254</th>\n      <td>20180911</td>\n      <td>CS018205000001</td>\n      <td>P071401005</td>\n      <td>1100</td>\n    </tr>\n    <tr>\n      <th>88508</th>\n      <td>20190216</td>\n      <td>CS018205000001</td>\n      <td>P040101002</td>\n      <td>218</td>\n    </tr>\n    <tr>\n      <th>91525</th>\n      <td>20190924</td>\n      <td>CS018205000001</td>\n      <td>P091503001</td>\n      <td>280</td>\n    </tr>\n  </tbody>\n</table>\n</div>"
     },
     "execution_count": 6,
     "metadata": {},
     "output_type": "execute_result"
    }
   ],
   "source": [
    "(\n",
    "   df_receipt[['sales_ymd','customer_id','product_cd','amount']]\n",
    "    .query(\"customer_id == 'CS018205000001'\")\n",
    ")"
   ]
  },
  {
   "cell_type": "markdown",
   "metadata": {},
   "source": [
    "---\n",
    "> P-005: From the receipt details data (df_receipt), specify the columns in the order of sales date (sales_ymd), customer ID (customer_id), product code (product_cd), and sales amount (amount), and extract the data that meets all of the following conditions:\n",
    "> * The customer ID (customer_id) is \"CS018205000001\".\n",
    "> * The sales amount (amount) is 1,000 or more."
   ]
  },
  {
   "cell_type": "code",
   "execution_count": 7,
   "metadata": {
    "ExecuteTime": {
     "end_time": "2024-09-05T10:43:52.165988200Z",
     "start_time": "2024-09-05T10:43:45.335958200Z"
    }
   },
   "outputs": [
    {
     "data": {
      "text/plain": "       sales_ymd     customer_id  product_cd  amount\n36      20180911  CS018205000001  P071401012    2200\n68117   20190226  CS018205000001  P071401020    2200\n72254   20180911  CS018205000001  P071401005    1100",
      "text/html": "<div>\n<style scoped>\n    .dataframe tbody tr th:only-of-type {\n        vertical-align: middle;\n    }\n\n    .dataframe tbody tr th {\n        vertical-align: top;\n    }\n\n    .dataframe thead th {\n        text-align: right;\n    }\n</style>\n<table border=\"1\" class=\"dataframe\">\n  <thead>\n    <tr style=\"text-align: right;\">\n      <th></th>\n      <th>sales_ymd</th>\n      <th>customer_id</th>\n      <th>product_cd</th>\n      <th>amount</th>\n    </tr>\n  </thead>\n  <tbody>\n    <tr>\n      <th>36</th>\n      <td>20180911</td>\n      <td>CS018205000001</td>\n      <td>P071401012</td>\n      <td>2200</td>\n    </tr>\n    <tr>\n      <th>68117</th>\n      <td>20190226</td>\n      <td>CS018205000001</td>\n      <td>P071401020</td>\n      <td>2200</td>\n    </tr>\n    <tr>\n      <th>72254</th>\n      <td>20180911</td>\n      <td>CS018205000001</td>\n      <td>P071401005</td>\n      <td>1100</td>\n    </tr>\n  </tbody>\n</table>\n</div>"
     },
     "execution_count": 7,
     "metadata": {},
     "output_type": "execute_result"
    }
   ],
   "source": [
    "(\n",
    "    df_receipt[['sales_ymd','customer_id','product_cd','amount']]\n",
    "    .query(\"customer_id == 'CS018205000001' & amount >= 1000\")\n",
    ")"
   ]
  },
  {
   "cell_type": "markdown",
   "metadata": {},
   "source": [
    "---\n",
    "> P-006: From the receipt details data (df_receipt), specify the columns in the order of sales date (sales_ymd), customer ID (customer_id), product code (product_cd), sales quantity (quantity), and sales amount (amount), and extract the data that meets all of the following conditions:\n",
    "> * The customer ID (customer_id) is \"CS018205000001\".\n",
    "> * The sales amount (amount) is 1,000 or more or the sales quantity (quantity) is 5 or more."
   ]
  },
  {
   "cell_type": "code",
   "execution_count": 8,
   "metadata": {
    "ExecuteTime": {
     "end_time": "2024-09-05T10:43:52.267001800Z",
     "start_time": "2024-09-05T10:43:45.348916600Z"
    }
   },
   "outputs": [
    {
     "data": {
      "text/plain": "       sales_ymd     customer_id  product_cd  quantity  amount\n36      20180911  CS018205000001  P071401012         1    2200\n9843    20180414  CS018205000001  P060104007         6     600\n21110   20170614  CS018205000001  P050206001         5     990\n68117   20190226  CS018205000001  P071401020         1    2200\n72254   20180911  CS018205000001  P071401005         1    1100",
      "text/html": "<div>\n<style scoped>\n    .dataframe tbody tr th:only-of-type {\n        vertical-align: middle;\n    }\n\n    .dataframe tbody tr th {\n        vertical-align: top;\n    }\n\n    .dataframe thead th {\n        text-align: right;\n    }\n</style>\n<table border=\"1\" class=\"dataframe\">\n  <thead>\n    <tr style=\"text-align: right;\">\n      <th></th>\n      <th>sales_ymd</th>\n      <th>customer_id</th>\n      <th>product_cd</th>\n      <th>quantity</th>\n      <th>amount</th>\n    </tr>\n  </thead>\n  <tbody>\n    <tr>\n      <th>36</th>\n      <td>20180911</td>\n      <td>CS018205000001</td>\n      <td>P071401012</td>\n      <td>1</td>\n      <td>2200</td>\n    </tr>\n    <tr>\n      <th>9843</th>\n      <td>20180414</td>\n      <td>CS018205000001</td>\n      <td>P060104007</td>\n      <td>6</td>\n      <td>600</td>\n    </tr>\n    <tr>\n      <th>21110</th>\n      <td>20170614</td>\n      <td>CS018205000001</td>\n      <td>P050206001</td>\n      <td>5</td>\n      <td>990</td>\n    </tr>\n    <tr>\n      <th>68117</th>\n      <td>20190226</td>\n      <td>CS018205000001</td>\n      <td>P071401020</td>\n      <td>1</td>\n      <td>2200</td>\n    </tr>\n    <tr>\n      <th>72254</th>\n      <td>20180911</td>\n      <td>CS018205000001</td>\n      <td>P071401005</td>\n      <td>1</td>\n      <td>1100</td>\n    </tr>\n  </tbody>\n</table>\n</div>"
     },
     "execution_count": 8,
     "metadata": {},
     "output_type": "execute_result"
    }
   ],
   "source": [
    "(\n",
    "    df_receipt[['sales_ymd','customer_id','product_cd','quantity','amount']].query(\"(customer_id == 'CS018205000001') & (amount >= 1000 | quantity >= 5)\")\n",
    ")"
   ]
  },
  {
   "cell_type": "markdown",
   "metadata": {},
   "source": [
    "---\n",
    "> P-007: From the receipt details data (df_receipt), specify the columns in the order of sales date (sales_ymd), customer ID (customer_id), product code (product_cd), and sales amount (amount), and extract the data that meets all of the following conditions:\n",
    "> * The customer ID (customer_id) is \"CS018205000001\".\n",
    "> * The sales amount (amount) is 1,000 or more and 2,000 or less."
   ]
  },
  {
   "cell_type": "code",
   "execution_count": 9,
   "metadata": {
    "ExecuteTime": {
     "end_time": "2024-09-05T10:43:52.337266500Z",
     "start_time": "2024-09-05T10:43:45.375833700Z"
    }
   },
   "outputs": [
    {
     "data": {
      "text/plain": "       sales_ymd     customer_id  product_cd  amount\n72254   20180911  CS018205000001  P071401005    1100",
      "text/html": "<div>\n<style scoped>\n    .dataframe tbody tr th:only-of-type {\n        vertical-align: middle;\n    }\n\n    .dataframe tbody tr th {\n        vertical-align: top;\n    }\n\n    .dataframe thead th {\n        text-align: right;\n    }\n</style>\n<table border=\"1\" class=\"dataframe\">\n  <thead>\n    <tr style=\"text-align: right;\">\n      <th></th>\n      <th>sales_ymd</th>\n      <th>customer_id</th>\n      <th>product_cd</th>\n      <th>amount</th>\n    </tr>\n  </thead>\n  <tbody>\n    <tr>\n      <th>72254</th>\n      <td>20180911</td>\n      <td>CS018205000001</td>\n      <td>P071401005</td>\n      <td>1100</td>\n    </tr>\n  </tbody>\n</table>\n</div>"
     },
     "execution_count": 9,
     "metadata": {},
     "output_type": "execute_result"
    }
   ],
   "source": [
    "(\n",
    "    df_receipt[['sales_ymd','customer_id','product_cd','amount']]\n",
    "    .query(\"(customer_id == 'CS018205000001') & (1000 <= amount <= 2000)\")\n",
    ")"
   ]
  },
  {
   "cell_type": "markdown",
   "metadata": {},
   "source": [
    "---\n",
    "> P-008: From the receipt details data (df_receipt), specify the columns in the order of sales date (sales_ymd), customer ID (customer_id), product code (product_cd), and sales amount (amount), and extract the data that meets all of the following conditions:\n",
    "> * The customer ID (customer_id) is \"CS018205000001\".\n",
    "> * The product code (product_cd) is not \"P071401019\"."
   ]
  },
  {
   "cell_type": "code",
   "execution_count": 10,
   "metadata": {
    "ExecuteTime": {
     "end_time": "2024-09-05T10:43:52.417855300Z",
     "start_time": "2024-09-05T10:43:45.395533800Z"
    }
   },
   "outputs": [
    {
     "data": {
      "text/plain": "       sales_ymd     customer_id  product_cd  amount\n36      20180911  CS018205000001  P071401012    2200\n9843    20180414  CS018205000001  P060104007     600\n21110   20170614  CS018205000001  P050206001     990\n27673   20170614  CS018205000001  P060702015     108\n27840   20190216  CS018205000001  P071005024     102\n28757   20180414  CS018205000001  P071101002     278\n39256   20190226  CS018205000001  P070902035     168\n58121   20190924  CS018205000001  P060805001     495\n68117   20190226  CS018205000001  P071401020    2200\n72254   20180911  CS018205000001  P071401005    1100\n88508   20190216  CS018205000001  P040101002     218\n91525   20190924  CS018205000001  P091503001     280",
      "text/html": "<div>\n<style scoped>\n    .dataframe tbody tr th:only-of-type {\n        vertical-align: middle;\n    }\n\n    .dataframe tbody tr th {\n        vertical-align: top;\n    }\n\n    .dataframe thead th {\n        text-align: right;\n    }\n</style>\n<table border=\"1\" class=\"dataframe\">\n  <thead>\n    <tr style=\"text-align: right;\">\n      <th></th>\n      <th>sales_ymd</th>\n      <th>customer_id</th>\n      <th>product_cd</th>\n      <th>amount</th>\n    </tr>\n  </thead>\n  <tbody>\n    <tr>\n      <th>36</th>\n      <td>20180911</td>\n      <td>CS018205000001</td>\n      <td>P071401012</td>\n      <td>2200</td>\n    </tr>\n    <tr>\n      <th>9843</th>\n      <td>20180414</td>\n      <td>CS018205000001</td>\n      <td>P060104007</td>\n      <td>600</td>\n    </tr>\n    <tr>\n      <th>21110</th>\n      <td>20170614</td>\n      <td>CS018205000001</td>\n      <td>P050206001</td>\n      <td>990</td>\n    </tr>\n    <tr>\n      <th>27673</th>\n      <td>20170614</td>\n      <td>CS018205000001</td>\n      <td>P060702015</td>\n      <td>108</td>\n    </tr>\n    <tr>\n      <th>27840</th>\n      <td>20190216</td>\n      <td>CS018205000001</td>\n      <td>P071005024</td>\n      <td>102</td>\n    </tr>\n    <tr>\n      <th>28757</th>\n      <td>20180414</td>\n      <td>CS018205000001</td>\n      <td>P071101002</td>\n      <td>278</td>\n    </tr>\n    <tr>\n      <th>39256</th>\n      <td>20190226</td>\n      <td>CS018205000001</td>\n      <td>P070902035</td>\n      <td>168</td>\n    </tr>\n    <tr>\n      <th>58121</th>\n      <td>20190924</td>\n      <td>CS018205000001</td>\n      <td>P060805001</td>\n      <td>495</td>\n    </tr>\n    <tr>\n      <th>68117</th>\n      <td>20190226</td>\n      <td>CS018205000001</td>\n      <td>P071401020</td>\n      <td>2200</td>\n    </tr>\n    <tr>\n      <th>72254</th>\n      <td>20180911</td>\n      <td>CS018205000001</td>\n      <td>P071401005</td>\n      <td>1100</td>\n    </tr>\n    <tr>\n      <th>88508</th>\n      <td>20190216</td>\n      <td>CS018205000001</td>\n      <td>P040101002</td>\n      <td>218</td>\n    </tr>\n    <tr>\n      <th>91525</th>\n      <td>20190924</td>\n      <td>CS018205000001</td>\n      <td>P091503001</td>\n      <td>280</td>\n    </tr>\n  </tbody>\n</table>\n</div>"
     },
     "execution_count": 10,
     "metadata": {},
     "output_type": "execute_result"
    }
   ],
   "source": [
    "(\n",
    "    df_receipt[['sales_ymd','customer_id','product_cd','amount']]\n",
    "    .query(\"(customer_id == 'CS018205000001') & (product_cd != 'P071401019')\")\n",
    ")"
   ]
  },
  {
   "cell_type": "markdown",
   "metadata": {},
   "source": [
    "---\n",
    "> P-009: Rewrite the following process without changing the output results, replacing the OR condition with AND.\n",
    "> \n",
    "> `df_store.query('not(prefecture_cd == \"13\" | floor_area > 900)')`"
   ]
  },
  {
   "cell_type": "code",
   "execution_count": 11,
   "metadata": {
    "ExecuteTime": {
     "end_time": "2024-09-05T10:43:52.497738Z",
     "start_time": "2024-09-05T10:43:45.425842800Z"
    }
   },
   "outputs": [
    {
     "data": {
      "text/plain": "   store_cd store_name prefecture_cd prefecture            address  \\\n18   S14046       北山田店            14       神奈川県   神奈川県横浜市都筑区北山田一丁目   \n20   S14011      日吉本町店            14       神奈川県  神奈川県横浜市港北区日吉本町四丁目   \n38   S12013       習志野店            12        千葉県       千葉県習志野市芝園一丁目   \n\n                      address_kana        tel_no  longitude  latitude  \\\n18      カナガワケンヨコハマシツヅキクキタヤマタイッチョウメ  045-123-4049   139.5916  35.56189   \n20  カナガワケンヨコハマシコウホククヒヨシホンチョウヨンチョウメ  045-123-4033   139.6316  35.54655   \n38             チバケンナラシノシシバゾノイッチョウメ  047-123-4002   140.0220  35.66122   \n\n    floor_area  \n18       831.0  \n20       890.0  \n38       808.0  ",
      "text/html": "<div>\n<style scoped>\n    .dataframe tbody tr th:only-of-type {\n        vertical-align: middle;\n    }\n\n    .dataframe tbody tr th {\n        vertical-align: top;\n    }\n\n    .dataframe thead th {\n        text-align: right;\n    }\n</style>\n<table border=\"1\" class=\"dataframe\">\n  <thead>\n    <tr style=\"text-align: right;\">\n      <th></th>\n      <th>store_cd</th>\n      <th>store_name</th>\n      <th>prefecture_cd</th>\n      <th>prefecture</th>\n      <th>address</th>\n      <th>address_kana</th>\n      <th>tel_no</th>\n      <th>longitude</th>\n      <th>latitude</th>\n      <th>floor_area</th>\n    </tr>\n  </thead>\n  <tbody>\n    <tr>\n      <th>18</th>\n      <td>S14046</td>\n      <td>北山田店</td>\n      <td>14</td>\n      <td>神奈川県</td>\n      <td>神奈川県横浜市都筑区北山田一丁目</td>\n      <td>カナガワケンヨコハマシツヅキクキタヤマタイッチョウメ</td>\n      <td>045-123-4049</td>\n      <td>139.5916</td>\n      <td>35.56189</td>\n      <td>831.0</td>\n    </tr>\n    <tr>\n      <th>20</th>\n      <td>S14011</td>\n      <td>日吉本町店</td>\n      <td>14</td>\n      <td>神奈川県</td>\n      <td>神奈川県横浜市港北区日吉本町四丁目</td>\n      <td>カナガワケンヨコハマシコウホククヒヨシホンチョウヨンチョウメ</td>\n      <td>045-123-4033</td>\n      <td>139.6316</td>\n      <td>35.54655</td>\n      <td>890.0</td>\n    </tr>\n    <tr>\n      <th>38</th>\n      <td>S12013</td>\n      <td>習志野店</td>\n      <td>12</td>\n      <td>千葉県</td>\n      <td>千葉県習志野市芝園一丁目</td>\n      <td>チバケンナラシノシシバゾノイッチョウメ</td>\n      <td>047-123-4002</td>\n      <td>140.0220</td>\n      <td>35.66122</td>\n      <td>808.0</td>\n    </tr>\n  </tbody>\n</table>\n</div>"
     },
     "execution_count": 11,
     "metadata": {},
     "output_type": "execute_result"
    }
   ],
   "source": [
    "(\n",
    "    df_store.query(\"(prefecture_cd != '13') & (floor_area <= 900)\")\n",
    ")"
   ]
  },
  {
   "cell_type": "markdown",
   "metadata": {},
   "source": [
    "---\n",
    "> P-010: From the store data (df_store), extract and display 10 rows of all items where the store code (store_cd) starts with \"S14\"."
   ]
  },
  {
   "cell_type": "code",
   "execution_count": 12,
   "metadata": {
    "ExecuteTime": {
     "end_time": "2024-09-05T10:43:52.550624700Z",
     "start_time": "2024-09-05T10:43:45.432269800Z"
    }
   },
   "outputs": [
    {
     "data": {
      "text/plain": "   store_cd store_name prefecture_cd prefecture              address  \\\n2    S14010        菊名店            14       神奈川県      神奈川県横浜市港北区菊名一丁目   \n3    S14033       阿久和店            14       神奈川県    神奈川県横浜市瀬谷区阿久和西一丁目   \n4    S14036     相模原中央店            14       神奈川県        神奈川県相模原市中央二丁目   \n7    S14040       長津田店            14       神奈川県  神奈川県横浜市緑区長津田みなみ台五丁目   \n9    S14050      阿久和西店            14       神奈川県    神奈川県横浜市瀬谷区阿久和西一丁目   \n12   S14028       二ツ橋店            14       神奈川県       神奈川県横浜市瀬谷区二ツ橋町   \n16   S14012      本牧和田店            14       神奈川県        神奈川県横浜市中区本牧和田   \n18   S14046       北山田店            14       神奈川県     神奈川県横浜市都筑区北山田一丁目   \n19   S14022        逗子店            14       神奈川県         神奈川県逗子市逗子一丁目   \n20   S14011      日吉本町店            14       神奈川県    神奈川県横浜市港北区日吉本町四丁目   \n\n                      address_kana        tel_no  longitude  latitude  \\\n2        カナガワケンヨコハマシコウホククキクナイッチョウメ  045-123-4032   139.6326  35.50049   \n3        カナガワケンヨコハマシセヤクアクワニシイッチョウメ  045-123-4043   139.4961  35.45918   \n4           カナガワケンサガミハラシチュウオウニチョウメ  042-123-4045   139.3716  35.57327   \n7    カナガワケンヨコハマシミドリクナガツタミナミダイゴチョウメ  045-123-4046   139.4994  35.52398   \n9        カナガワケンヨコハマシセヤクアクワニシイッチョウメ  045-123-4053   139.4961  35.45918   \n12          カナガワケンヨコハマシセヤクフタツバシチョウ  045-123-4042   139.4963  35.46304   \n16            カナガワケンヨコハマシナカクホンモクワダ  045-123-4034   139.6582  35.42156   \n18      カナガワケンヨコハマシツヅキクキタヤマタイッチョウメ  045-123-4049   139.5916  35.56189   \n19               カナガワケンズシシズシイッチョウメ  046-123-4036   139.5789  35.29642   \n20  カナガワケンヨコハマシコウホククヒヨシホンチョウヨンチョウメ  045-123-4033   139.6316  35.54655   \n\n    floor_area  \n2       1732.0  \n3       1495.0  \n4       1679.0  \n7       1548.0  \n9       1830.0  \n12      1574.0  \n16      1341.0  \n18       831.0  \n19      1838.0  \n20       890.0  ",
      "text/html": "<div>\n<style scoped>\n    .dataframe tbody tr th:only-of-type {\n        vertical-align: middle;\n    }\n\n    .dataframe tbody tr th {\n        vertical-align: top;\n    }\n\n    .dataframe thead th {\n        text-align: right;\n    }\n</style>\n<table border=\"1\" class=\"dataframe\">\n  <thead>\n    <tr style=\"text-align: right;\">\n      <th></th>\n      <th>store_cd</th>\n      <th>store_name</th>\n      <th>prefecture_cd</th>\n      <th>prefecture</th>\n      <th>address</th>\n      <th>address_kana</th>\n      <th>tel_no</th>\n      <th>longitude</th>\n      <th>latitude</th>\n      <th>floor_area</th>\n    </tr>\n  </thead>\n  <tbody>\n    <tr>\n      <th>2</th>\n      <td>S14010</td>\n      <td>菊名店</td>\n      <td>14</td>\n      <td>神奈川県</td>\n      <td>神奈川県横浜市港北区菊名一丁目</td>\n      <td>カナガワケンヨコハマシコウホククキクナイッチョウメ</td>\n      <td>045-123-4032</td>\n      <td>139.6326</td>\n      <td>35.50049</td>\n      <td>1732.0</td>\n    </tr>\n    <tr>\n      <th>3</th>\n      <td>S14033</td>\n      <td>阿久和店</td>\n      <td>14</td>\n      <td>神奈川県</td>\n      <td>神奈川県横浜市瀬谷区阿久和西一丁目</td>\n      <td>カナガワケンヨコハマシセヤクアクワニシイッチョウメ</td>\n      <td>045-123-4043</td>\n      <td>139.4961</td>\n      <td>35.45918</td>\n      <td>1495.0</td>\n    </tr>\n    <tr>\n      <th>4</th>\n      <td>S14036</td>\n      <td>相模原中央店</td>\n      <td>14</td>\n      <td>神奈川県</td>\n      <td>神奈川県相模原市中央二丁目</td>\n      <td>カナガワケンサガミハラシチュウオウニチョウメ</td>\n      <td>042-123-4045</td>\n      <td>139.3716</td>\n      <td>35.57327</td>\n      <td>1679.0</td>\n    </tr>\n    <tr>\n      <th>7</th>\n      <td>S14040</td>\n      <td>長津田店</td>\n      <td>14</td>\n      <td>神奈川県</td>\n      <td>神奈川県横浜市緑区長津田みなみ台五丁目</td>\n      <td>カナガワケンヨコハマシミドリクナガツタミナミダイゴチョウメ</td>\n      <td>045-123-4046</td>\n      <td>139.4994</td>\n      <td>35.52398</td>\n      <td>1548.0</td>\n    </tr>\n    <tr>\n      <th>9</th>\n      <td>S14050</td>\n      <td>阿久和西店</td>\n      <td>14</td>\n      <td>神奈川県</td>\n      <td>神奈川県横浜市瀬谷区阿久和西一丁目</td>\n      <td>カナガワケンヨコハマシセヤクアクワニシイッチョウメ</td>\n      <td>045-123-4053</td>\n      <td>139.4961</td>\n      <td>35.45918</td>\n      <td>1830.0</td>\n    </tr>\n    <tr>\n      <th>12</th>\n      <td>S14028</td>\n      <td>二ツ橋店</td>\n      <td>14</td>\n      <td>神奈川県</td>\n      <td>神奈川県横浜市瀬谷区二ツ橋町</td>\n      <td>カナガワケンヨコハマシセヤクフタツバシチョウ</td>\n      <td>045-123-4042</td>\n      <td>139.4963</td>\n      <td>35.46304</td>\n      <td>1574.0</td>\n    </tr>\n    <tr>\n      <th>16</th>\n      <td>S14012</td>\n      <td>本牧和田店</td>\n      <td>14</td>\n      <td>神奈川県</td>\n      <td>神奈川県横浜市中区本牧和田</td>\n      <td>カナガワケンヨコハマシナカクホンモクワダ</td>\n      <td>045-123-4034</td>\n      <td>139.6582</td>\n      <td>35.42156</td>\n      <td>1341.0</td>\n    </tr>\n    <tr>\n      <th>18</th>\n      <td>S14046</td>\n      <td>北山田店</td>\n      <td>14</td>\n      <td>神奈川県</td>\n      <td>神奈川県横浜市都筑区北山田一丁目</td>\n      <td>カナガワケンヨコハマシツヅキクキタヤマタイッチョウメ</td>\n      <td>045-123-4049</td>\n      <td>139.5916</td>\n      <td>35.56189</td>\n      <td>831.0</td>\n    </tr>\n    <tr>\n      <th>19</th>\n      <td>S14022</td>\n      <td>逗子店</td>\n      <td>14</td>\n      <td>神奈川県</td>\n      <td>神奈川県逗子市逗子一丁目</td>\n      <td>カナガワケンズシシズシイッチョウメ</td>\n      <td>046-123-4036</td>\n      <td>139.5789</td>\n      <td>35.29642</td>\n      <td>1838.0</td>\n    </tr>\n    <tr>\n      <th>20</th>\n      <td>S14011</td>\n      <td>日吉本町店</td>\n      <td>14</td>\n      <td>神奈川県</td>\n      <td>神奈川県横浜市港北区日吉本町四丁目</td>\n      <td>カナガワケンヨコハマシコウホククヒヨシホンチョウヨンチョウメ</td>\n      <td>045-123-4033</td>\n      <td>139.6316</td>\n      <td>35.54655</td>\n      <td>890.0</td>\n    </tr>\n  </tbody>\n</table>\n</div>"
     },
     "execution_count": 12,
     "metadata": {},
     "output_type": "execute_result"
    }
   ],
   "source": [
    "(\n",
    "    df_store.query(\"store_cd.str.startswith('S14')\").head(10)\n",
    ")"
   ]
  },
  {
   "cell_type": "markdown",
   "metadata": {},
   "source": [
    "---\n",
    "> P-011: From the customer data (df_customer), extract and display 10 rows of all items where the customer ID (customer_id) ends with \"01\"."
   ]
  },
  {
   "cell_type": "code",
   "execution_count": 13,
   "metadata": {
    "ExecuteTime": {
     "end_time": "2024-09-05T10:43:52.637283800Z",
     "start_time": "2024-09-05T10:43:45.445687400Z"
    }
   },
   "outputs": [
    {
     "data": {
      "text/plain": "        customer_id customer_name gender_cd gender   birth_day  age postal_cd  \\\n3    CS028811000001        堀井 かおり         1     女性  1933-03-27   86  245-0016   \n74   CS041515000001         栗田 千夏         1     女性  1967-01-02   52  206-0001   \n141  CS003512000601         倉本 季衣         1     女性  1967-01-06   52  214-0013   \n170  CS001413000601         大塚 奈央         1     女性  1971-11-04   47  144-0035   \n374  CS037315000101        安部 たまき         9     不明  1981-09-21   37  135-0012   \n387  CS038802000001         草村 雅之         0     男性  1935-08-16   83  132-0015   \n422  CS006605000001        佐久間 信吾         0     男性  1954-08-21   64  224-0057   \n540  CS011612000101        渡部 あや子         1     女性  1949-04-11   69  211-0025   \n555  CS003415000301         小杉 芽以         1     女性  1972-05-15   46  182-0023   \n579  CS038515000001         長尾 千夏         1     女性  1963-06-30   55  279-0042   \n\n                      address application_store_cd  application_date  \\\n3      神奈川県横浜市泉区和泉町**********               S14028          20160115   \n74         東京都多摩市和田**********               S13041          20160422   \n141  神奈川県川崎市多摩区登戸新町**********               S13003          20171013   \n170       東京都大田区南蒲田**********               S13001          20171010   \n374        東京都江東区海辺**********               S13037          20160115   \n387      東京都江戸川区西瑞江**********               S13038          20150901   \n422   神奈川県横浜市都筑区川和町**********               S14006          20150513   \n540    神奈川県川崎市中原区木月**********               S14011          20150711   \n555        東京都調布市染地**********               S13003          20160221   \n579        千葉県浦安市東野**********               S13038          20150310   \n\n        status_cd  \n3    0-00000000-0  \n74   E-20100803-F  \n141  0-00000000-0  \n170  0-00000000-0  \n374  6-20090214-4  \n387  7-20091101-6  \n422  C-20100618-D  \n540  0-00000000-0  \n555  9-20090820-B  \n579  B-20100905-B  ",
      "text/html": "<div>\n<style scoped>\n    .dataframe tbody tr th:only-of-type {\n        vertical-align: middle;\n    }\n\n    .dataframe tbody tr th {\n        vertical-align: top;\n    }\n\n    .dataframe thead th {\n        text-align: right;\n    }\n</style>\n<table border=\"1\" class=\"dataframe\">\n  <thead>\n    <tr style=\"text-align: right;\">\n      <th></th>\n      <th>customer_id</th>\n      <th>customer_name</th>\n      <th>gender_cd</th>\n      <th>gender</th>\n      <th>birth_day</th>\n      <th>age</th>\n      <th>postal_cd</th>\n      <th>address</th>\n      <th>application_store_cd</th>\n      <th>application_date</th>\n      <th>status_cd</th>\n    </tr>\n  </thead>\n  <tbody>\n    <tr>\n      <th>3</th>\n      <td>CS028811000001</td>\n      <td>堀井 かおり</td>\n      <td>1</td>\n      <td>女性</td>\n      <td>1933-03-27</td>\n      <td>86</td>\n      <td>245-0016</td>\n      <td>神奈川県横浜市泉区和泉町**********</td>\n      <td>S14028</td>\n      <td>20160115</td>\n      <td>0-00000000-0</td>\n    </tr>\n    <tr>\n      <th>74</th>\n      <td>CS041515000001</td>\n      <td>栗田 千夏</td>\n      <td>1</td>\n      <td>女性</td>\n      <td>1967-01-02</td>\n      <td>52</td>\n      <td>206-0001</td>\n      <td>東京都多摩市和田**********</td>\n      <td>S13041</td>\n      <td>20160422</td>\n      <td>E-20100803-F</td>\n    </tr>\n    <tr>\n      <th>141</th>\n      <td>CS003512000601</td>\n      <td>倉本 季衣</td>\n      <td>1</td>\n      <td>女性</td>\n      <td>1967-01-06</td>\n      <td>52</td>\n      <td>214-0013</td>\n      <td>神奈川県川崎市多摩区登戸新町**********</td>\n      <td>S13003</td>\n      <td>20171013</td>\n      <td>0-00000000-0</td>\n    </tr>\n    <tr>\n      <th>170</th>\n      <td>CS001413000601</td>\n      <td>大塚 奈央</td>\n      <td>1</td>\n      <td>女性</td>\n      <td>1971-11-04</td>\n      <td>47</td>\n      <td>144-0035</td>\n      <td>東京都大田区南蒲田**********</td>\n      <td>S13001</td>\n      <td>20171010</td>\n      <td>0-00000000-0</td>\n    </tr>\n    <tr>\n      <th>374</th>\n      <td>CS037315000101</td>\n      <td>安部 たまき</td>\n      <td>9</td>\n      <td>不明</td>\n      <td>1981-09-21</td>\n      <td>37</td>\n      <td>135-0012</td>\n      <td>東京都江東区海辺**********</td>\n      <td>S13037</td>\n      <td>20160115</td>\n      <td>6-20090214-4</td>\n    </tr>\n    <tr>\n      <th>387</th>\n      <td>CS038802000001</td>\n      <td>草村 雅之</td>\n      <td>0</td>\n      <td>男性</td>\n      <td>1935-08-16</td>\n      <td>83</td>\n      <td>132-0015</td>\n      <td>東京都江戸川区西瑞江**********</td>\n      <td>S13038</td>\n      <td>20150901</td>\n      <td>7-20091101-6</td>\n    </tr>\n    <tr>\n      <th>422</th>\n      <td>CS006605000001</td>\n      <td>佐久間 信吾</td>\n      <td>0</td>\n      <td>男性</td>\n      <td>1954-08-21</td>\n      <td>64</td>\n      <td>224-0057</td>\n      <td>神奈川県横浜市都筑区川和町**********</td>\n      <td>S14006</td>\n      <td>20150513</td>\n      <td>C-20100618-D</td>\n    </tr>\n    <tr>\n      <th>540</th>\n      <td>CS011612000101</td>\n      <td>渡部 あや子</td>\n      <td>1</td>\n      <td>女性</td>\n      <td>1949-04-11</td>\n      <td>69</td>\n      <td>211-0025</td>\n      <td>神奈川県川崎市中原区木月**********</td>\n      <td>S14011</td>\n      <td>20150711</td>\n      <td>0-00000000-0</td>\n    </tr>\n    <tr>\n      <th>555</th>\n      <td>CS003415000301</td>\n      <td>小杉 芽以</td>\n      <td>1</td>\n      <td>女性</td>\n      <td>1972-05-15</td>\n      <td>46</td>\n      <td>182-0023</td>\n      <td>東京都調布市染地**********</td>\n      <td>S13003</td>\n      <td>20160221</td>\n      <td>9-20090820-B</td>\n    </tr>\n    <tr>\n      <th>579</th>\n      <td>CS038515000001</td>\n      <td>長尾 千夏</td>\n      <td>1</td>\n      <td>女性</td>\n      <td>1963-06-30</td>\n      <td>55</td>\n      <td>279-0042</td>\n      <td>千葉県浦安市東野**********</td>\n      <td>S13038</td>\n      <td>20150310</td>\n      <td>B-20100905-B</td>\n    </tr>\n  </tbody>\n</table>\n</div>"
     },
     "execution_count": 13,
     "metadata": {},
     "output_type": "execute_result"
    }
   ],
   "source": [
    "(\n",
    "    df_customer.query(\"customer_id.str.endswith('01')\").head(10)\n",
    ")"
   ]
  },
  {
   "cell_type": "markdown",
   "metadata": {},
   "source": [
    "---\n",
    "> P-012: From the store data (df_store), display all items that include \"Yokohama City\" in the address (address)."
   ]
  },
  {
   "cell_type": "code",
   "execution_count": 20,
   "metadata": {
    "ExecuteTime": {
     "end_time": "2024-09-05T10:47:17.628439800Z",
     "start_time": "2024-09-05T10:47:17.487645500Z"
    }
   },
   "outputs": [
    {
     "data": {
      "text/plain": "   store_cd      store_name prefecture_cd           prefecture  \\\n52   S14006  Kuzugaya store            14  Kanagawa Prefecture   \n\n                                              address        tel_no  \\\n52  Kuzugaya, Tsuzuki-ku, Yokohama City, Kanagawa ...  045-123-4031   \n\n    longitude  latitude  floor_area  \n52   139.5633  35.53573      1886.0  ",
      "text/html": "<div>\n<style scoped>\n    .dataframe tbody tr th:only-of-type {\n        vertical-align: middle;\n    }\n\n    .dataframe tbody tr th {\n        vertical-align: top;\n    }\n\n    .dataframe thead th {\n        text-align: right;\n    }\n</style>\n<table border=\"1\" class=\"dataframe\">\n  <thead>\n    <tr style=\"text-align: right;\">\n      <th></th>\n      <th>store_cd</th>\n      <th>store_name</th>\n      <th>prefecture_cd</th>\n      <th>prefecture</th>\n      <th>address</th>\n      <th>tel_no</th>\n      <th>longitude</th>\n      <th>latitude</th>\n      <th>floor_area</th>\n    </tr>\n  </thead>\n  <tbody>\n    <tr>\n      <th>52</th>\n      <td>S14006</td>\n      <td>Kuzugaya store</td>\n      <td>14</td>\n      <td>Kanagawa Prefecture</td>\n      <td>Kuzugaya, Tsuzuki-ku, Yokohama City, Kanagawa ...</td>\n      <td>045-123-4031</td>\n      <td>139.5633</td>\n      <td>35.53573</td>\n      <td>1886.0</td>\n    </tr>\n  </tbody>\n</table>\n</div>"
     },
     "execution_count": 20,
     "metadata": {},
     "output_type": "execute_result"
    }
   ],
   "source": [
    "df_store.query(\"address.str.contains('Yokohama City')\").head(10)"
   ]
  },
  {
   "cell_type": "markdown",
   "metadata": {},
   "source": [
    "---\n",
    "> P-013: From the customer data (df_customer), extract and display 10 rows of all items where the status code (status_cd) starts with an alphabet from A to F."
   ]
  },
  {
   "cell_type": "code",
   "execution_count": 22,
   "metadata": {
    "ExecuteTime": {
     "end_time": "2024-09-05T10:47:32.905842700Z",
     "start_time": "2024-09-05T10:47:32.715639Z"
    }
   },
   "outputs": [
    {
     "data": {
      "text/plain": "        customer_id   customer_name gender_cd   gender   birth_day  age  \\\n0    CS019415000154    Yuki Umemura         9  Unknown  1971-07-08   47   \n4    CS033515000071       Yuki Suwa         1     Male  1966-04-30   52   \n16   CS024415000146  Sachiko Hosaka         1     Male  1977-10-31   41   \n45   CS019415000084     Honzan Mami         1     Male  1971-12-20   47   \n53   CS019214000008     Reina Okuno         1     Male  1991-07-01   27   \n54   CS002515000256    Yoko Kikuchi         1     Male  1964-10-06   54   \n63   CS017315000023    Reina Uchino         1     Male  1987-02-21   32   \n70   CS030415000034    Tamaki Nanko         1     Male  1969-01-28   50   \n72   CS025214000016  Furukawa Erika         1     Male  1995-10-06   23   \n101  CS021115000004   Hikaru Kurata         1     Male  2003-01-19   16   \n\n    postal_cd                                            address  \\\n0    179-0084                       Hikawadai, Nerima -ku, Tokyo   \n4    246-0031                  Seya -ku, Yokohama -shi, Kanagawa   \n16   214-0038  Ikuta, Tama -ku, Kawasaki City, Kanagawa Prefe...   \n45   176-0003                          Hazawa, Nerima -ku, Tokyo   \n53   171-0044                        Chihaya, Toshima -ku, Tokyo   \n54   185-0013               Kokubunji -shi, Tokyo Nishiki Kokubo   \n63   166-0015                Narita Higashi, Suginami -ku, Tokyo   \n70   272-0025             Owada, Ichikawa City, Chiba Prefecture   \n72   245-0018  Kamiiida -cho, Izumi -ku, Yokohama -shi, Kanagawa   \n101  259-1111  Nishi -Tomioka, Isehara City, Kanagawa Prefecture   \n\n    application_store_cd  application_date     status_cd  \n0                 S13019          20150506  E-20101014-E  \n4                 S14033          20151129  D-20100930-D  \n16                S14024          20150518  D-20101026-F  \n45                S13019          20151109  C-20101012-E  \n53                S13019          20150102  D-20100714-A  \n54                S13002          20161201  A-20100303-7  \n63                S13017          20141209  C-20090424-5  \n70                S12030          20150501  F-20101020-F  \n72                S14025          20150825  D-20101029-F  \n101               S14021          20150212  E-20100925-E  ",
      "text/html": "<div>\n<style scoped>\n    .dataframe tbody tr th:only-of-type {\n        vertical-align: middle;\n    }\n\n    .dataframe tbody tr th {\n        vertical-align: top;\n    }\n\n    .dataframe thead th {\n        text-align: right;\n    }\n</style>\n<table border=\"1\" class=\"dataframe\">\n  <thead>\n    <tr style=\"text-align: right;\">\n      <th></th>\n      <th>customer_id</th>\n      <th>customer_name</th>\n      <th>gender_cd</th>\n      <th>gender</th>\n      <th>birth_day</th>\n      <th>age</th>\n      <th>postal_cd</th>\n      <th>address</th>\n      <th>application_store_cd</th>\n      <th>application_date</th>\n      <th>status_cd</th>\n    </tr>\n  </thead>\n  <tbody>\n    <tr>\n      <th>0</th>\n      <td>CS019415000154</td>\n      <td>Yuki Umemura</td>\n      <td>9</td>\n      <td>Unknown</td>\n      <td>1971-07-08</td>\n      <td>47</td>\n      <td>179-0084</td>\n      <td>Hikawadai, Nerima -ku, Tokyo</td>\n      <td>S13019</td>\n      <td>20150506</td>\n      <td>E-20101014-E</td>\n    </tr>\n    <tr>\n      <th>4</th>\n      <td>CS033515000071</td>\n      <td>Yuki Suwa</td>\n      <td>1</td>\n      <td>Male</td>\n      <td>1966-04-30</td>\n      <td>52</td>\n      <td>246-0031</td>\n      <td>Seya -ku, Yokohama -shi, Kanagawa</td>\n      <td>S14033</td>\n      <td>20151129</td>\n      <td>D-20100930-D</td>\n    </tr>\n    <tr>\n      <th>16</th>\n      <td>CS024415000146</td>\n      <td>Sachiko Hosaka</td>\n      <td>1</td>\n      <td>Male</td>\n      <td>1977-10-31</td>\n      <td>41</td>\n      <td>214-0038</td>\n      <td>Ikuta, Tama -ku, Kawasaki City, Kanagawa Prefe...</td>\n      <td>S14024</td>\n      <td>20150518</td>\n      <td>D-20101026-F</td>\n    </tr>\n    <tr>\n      <th>45</th>\n      <td>CS019415000084</td>\n      <td>Honzan Mami</td>\n      <td>1</td>\n      <td>Male</td>\n      <td>1971-12-20</td>\n      <td>47</td>\n      <td>176-0003</td>\n      <td>Hazawa, Nerima -ku, Tokyo</td>\n      <td>S13019</td>\n      <td>20151109</td>\n      <td>C-20101012-E</td>\n    </tr>\n    <tr>\n      <th>53</th>\n      <td>CS019214000008</td>\n      <td>Reina Okuno</td>\n      <td>1</td>\n      <td>Male</td>\n      <td>1991-07-01</td>\n      <td>27</td>\n      <td>171-0044</td>\n      <td>Chihaya, Toshima -ku, Tokyo</td>\n      <td>S13019</td>\n      <td>20150102</td>\n      <td>D-20100714-A</td>\n    </tr>\n    <tr>\n      <th>54</th>\n      <td>CS002515000256</td>\n      <td>Yoko Kikuchi</td>\n      <td>1</td>\n      <td>Male</td>\n      <td>1964-10-06</td>\n      <td>54</td>\n      <td>185-0013</td>\n      <td>Kokubunji -shi, Tokyo Nishiki Kokubo</td>\n      <td>S13002</td>\n      <td>20161201</td>\n      <td>A-20100303-7</td>\n    </tr>\n    <tr>\n      <th>63</th>\n      <td>CS017315000023</td>\n      <td>Reina Uchino</td>\n      <td>1</td>\n      <td>Male</td>\n      <td>1987-02-21</td>\n      <td>32</td>\n      <td>166-0015</td>\n      <td>Narita Higashi, Suginami -ku, Tokyo</td>\n      <td>S13017</td>\n      <td>20141209</td>\n      <td>C-20090424-5</td>\n    </tr>\n    <tr>\n      <th>70</th>\n      <td>CS030415000034</td>\n      <td>Tamaki Nanko</td>\n      <td>1</td>\n      <td>Male</td>\n      <td>1969-01-28</td>\n      <td>50</td>\n      <td>272-0025</td>\n      <td>Owada, Ichikawa City, Chiba Prefecture</td>\n      <td>S12030</td>\n      <td>20150501</td>\n      <td>F-20101020-F</td>\n    </tr>\n    <tr>\n      <th>72</th>\n      <td>CS025214000016</td>\n      <td>Furukawa Erika</td>\n      <td>1</td>\n      <td>Male</td>\n      <td>1995-10-06</td>\n      <td>23</td>\n      <td>245-0018</td>\n      <td>Kamiiida -cho, Izumi -ku, Yokohama -shi, Kanagawa</td>\n      <td>S14025</td>\n      <td>20150825</td>\n      <td>D-20101029-F</td>\n    </tr>\n    <tr>\n      <th>101</th>\n      <td>CS021115000004</td>\n      <td>Hikaru Kurata</td>\n      <td>1</td>\n      <td>Male</td>\n      <td>2003-01-19</td>\n      <td>16</td>\n      <td>259-1111</td>\n      <td>Nishi -Tomioka, Isehara City, Kanagawa Prefecture</td>\n      <td>S14021</td>\n      <td>20150212</td>\n      <td>E-20100925-E</td>\n    </tr>\n  </tbody>\n</table>\n</div>"
     },
     "execution_count": 22,
     "metadata": {},
     "output_type": "execute_result"
    }
   ],
   "source": [
    "df_customer.query(\"status_cd.str.contains(r'^[A-F]')\").head(10)"
   ]
  },
  {
   "cell_type": "markdown",
   "metadata": {},
   "source": [
    "---\n",
    "> P-014: From the customer data (df_customer), extract and display 10 rows of all items where the status code (status_cd) ends with a number from 1 to 9."
   ]
  },
  {
   "cell_type": "code",
   "execution_count": 24,
   "metadata": {
    "ExecuteTime": {
     "end_time": "2024-09-05T10:49:30.849299700Z",
     "start_time": "2024-09-05T10:49:30.705585200Z"
    }
   },
   "outputs": [
    {
     "data": {
      "text/plain": "       customer_id           customer_name gender_cd gender   birth_day  age  \\\n1   CS008514000047         Nozomi Ishikawa         1   Male  1962-04-03   56   \n3   CS004615000296             Yu Tateishi         1   Male  1950-02-23   69   \n8   CS020412000046  An apricot of Kurosaki         1   Male  1971-12-09   47   \n11  CS031514000047         Reiko Haraguchi         1   Male  1963-07-26   55   \n12  CS017513000183           Kyoko Suenaga         1   Male  1965-05-05   53   \n15  CS044415000024          Chikako Sugino         1   Male  1977-06-02   41   \n24  CS025512000055        Mayuko Mizuguchi         1   Male  1966-01-15   53   \n34  CS011315000042             Aya Inagaki         1   Male  1982-02-04   37   \n41  CS001315000186           Mikako Tomita         1   Male  1979-11-13   39   \n49  CS026615000130           Rie Matsunaga         1   Male  1951-12-19   67   \n\n   postal_cd                                            address  \\\n1   201-0004                      Iwato Kita, Komae City, Tokyo   \n3   165-0027                             Nakano -ku, Tokyo Nomo   \n8   174-0056                       Shimura, Itabashi -ku, Tokyo   \n11  151-0064                         Uehara, Shibuya -ku, Tokyo   \n12  165-0027                             Nakano -ku, Tokyo Nomo   \n15  144-0052                             Kamata, Ota -ku, Tokyo   \n24  242-0024           Fukuda, Yamato City, Kanagawa Prefecture   \n34  223-0061       Hiyoshi, Kohoku -ku, Yokohama -shi, Kanagawa   \n41  144-0055                         Nakarokugo, Ota -ku, Tokyo   \n49  251-0043  Tsujido Motomachi, Fujisawa City, Kanagawa Pre...   \n\n   application_store_cd  application_date     status_cd  \n1                S13008          20150423  6-20100613-8  \n3                S13004          20160618  4-20080701-1  \n8                S13020          20150820  1-20100516-3  \n11               S13031          20150927  8-20090607-6  \n12               S13017          20151101  1-20090203-3  \n15               S13044          20180519  6-20101016-9  \n24               S14025          20150108  4-20090705-4  \n34               S14011          20150618  1-20080219-3  \n41               S13001          20150503  3-20080412-1  \n49               S14026          20150128  8-20090727-5  ",
      "text/html": "<div>\n<style scoped>\n    .dataframe tbody tr th:only-of-type {\n        vertical-align: middle;\n    }\n\n    .dataframe tbody tr th {\n        vertical-align: top;\n    }\n\n    .dataframe thead th {\n        text-align: right;\n    }\n</style>\n<table border=\"1\" class=\"dataframe\">\n  <thead>\n    <tr style=\"text-align: right;\">\n      <th></th>\n      <th>customer_id</th>\n      <th>customer_name</th>\n      <th>gender_cd</th>\n      <th>gender</th>\n      <th>birth_day</th>\n      <th>age</th>\n      <th>postal_cd</th>\n      <th>address</th>\n      <th>application_store_cd</th>\n      <th>application_date</th>\n      <th>status_cd</th>\n    </tr>\n  </thead>\n  <tbody>\n    <tr>\n      <th>1</th>\n      <td>CS008514000047</td>\n      <td>Nozomi Ishikawa</td>\n      <td>1</td>\n      <td>Male</td>\n      <td>1962-04-03</td>\n      <td>56</td>\n      <td>201-0004</td>\n      <td>Iwato Kita, Komae City, Tokyo</td>\n      <td>S13008</td>\n      <td>20150423</td>\n      <td>6-20100613-8</td>\n    </tr>\n    <tr>\n      <th>3</th>\n      <td>CS004615000296</td>\n      <td>Yu Tateishi</td>\n      <td>1</td>\n      <td>Male</td>\n      <td>1950-02-23</td>\n      <td>69</td>\n      <td>165-0027</td>\n      <td>Nakano -ku, Tokyo Nomo</td>\n      <td>S13004</td>\n      <td>20160618</td>\n      <td>4-20080701-1</td>\n    </tr>\n    <tr>\n      <th>8</th>\n      <td>CS020412000046</td>\n      <td>An apricot of Kurosaki</td>\n      <td>1</td>\n      <td>Male</td>\n      <td>1971-12-09</td>\n      <td>47</td>\n      <td>174-0056</td>\n      <td>Shimura, Itabashi -ku, Tokyo</td>\n      <td>S13020</td>\n      <td>20150820</td>\n      <td>1-20100516-3</td>\n    </tr>\n    <tr>\n      <th>11</th>\n      <td>CS031514000047</td>\n      <td>Reiko Haraguchi</td>\n      <td>1</td>\n      <td>Male</td>\n      <td>1963-07-26</td>\n      <td>55</td>\n      <td>151-0064</td>\n      <td>Uehara, Shibuya -ku, Tokyo</td>\n      <td>S13031</td>\n      <td>20150927</td>\n      <td>8-20090607-6</td>\n    </tr>\n    <tr>\n      <th>12</th>\n      <td>CS017513000183</td>\n      <td>Kyoko Suenaga</td>\n      <td>1</td>\n      <td>Male</td>\n      <td>1965-05-05</td>\n      <td>53</td>\n      <td>165-0027</td>\n      <td>Nakano -ku, Tokyo Nomo</td>\n      <td>S13017</td>\n      <td>20151101</td>\n      <td>1-20090203-3</td>\n    </tr>\n    <tr>\n      <th>15</th>\n      <td>CS044415000024</td>\n      <td>Chikako Sugino</td>\n      <td>1</td>\n      <td>Male</td>\n      <td>1977-06-02</td>\n      <td>41</td>\n      <td>144-0052</td>\n      <td>Kamata, Ota -ku, Tokyo</td>\n      <td>S13044</td>\n      <td>20180519</td>\n      <td>6-20101016-9</td>\n    </tr>\n    <tr>\n      <th>24</th>\n      <td>CS025512000055</td>\n      <td>Mayuko Mizuguchi</td>\n      <td>1</td>\n      <td>Male</td>\n      <td>1966-01-15</td>\n      <td>53</td>\n      <td>242-0024</td>\n      <td>Fukuda, Yamato City, Kanagawa Prefecture</td>\n      <td>S14025</td>\n      <td>20150108</td>\n      <td>4-20090705-4</td>\n    </tr>\n    <tr>\n      <th>34</th>\n      <td>CS011315000042</td>\n      <td>Aya Inagaki</td>\n      <td>1</td>\n      <td>Male</td>\n      <td>1982-02-04</td>\n      <td>37</td>\n      <td>223-0061</td>\n      <td>Hiyoshi, Kohoku -ku, Yokohama -shi, Kanagawa</td>\n      <td>S14011</td>\n      <td>20150618</td>\n      <td>1-20080219-3</td>\n    </tr>\n    <tr>\n      <th>41</th>\n      <td>CS001315000186</td>\n      <td>Mikako Tomita</td>\n      <td>1</td>\n      <td>Male</td>\n      <td>1979-11-13</td>\n      <td>39</td>\n      <td>144-0055</td>\n      <td>Nakarokugo, Ota -ku, Tokyo</td>\n      <td>S13001</td>\n      <td>20150503</td>\n      <td>3-20080412-1</td>\n    </tr>\n    <tr>\n      <th>49</th>\n      <td>CS026615000130</td>\n      <td>Rie Matsunaga</td>\n      <td>1</td>\n      <td>Male</td>\n      <td>1951-12-19</td>\n      <td>67</td>\n      <td>251-0043</td>\n      <td>Tsujido Motomachi, Fujisawa City, Kanagawa Pre...</td>\n      <td>S14026</td>\n      <td>20150128</td>\n      <td>8-20090727-5</td>\n    </tr>\n  </tbody>\n</table>\n</div>"
     },
     "execution_count": 24,
     "metadata": {},
     "output_type": "execute_result"
    }
   ],
   "source": [
    "df_customer.query(\"status_cd.str.contains(r'[1-9]$')\").head(10)"
   ]
  },
  {
   "cell_type": "markdown",
   "metadata": {},
   "source": [
    "---\n",
    "> P-015: From the customer data (df_customer), extract and display 10 rows of all items where the status code (status_cd) starts with an alphabet from A to F and ends with a number from 1 to 9.\n"
   ]
  },
  {
   "cell_type": "code",
   "execution_count": 30,
   "metadata": {
    "ExecuteTime": {
     "end_time": "2024-09-05T10:54:48.769720200Z",
     "start_time": "2024-09-05T10:54:48.654965500Z"
    }
   },
   "outputs": [
    {
     "data": {
      "text/plain": "        customer_id      customer_name gender_cd   gender   birth_day  age  \\\n54   CS002515000256       Yoko Kikuchi         1     Male  1964-10-06   54   \n63   CS017315000023       Reina Uchino         1     Male  1987-02-21   32   \n163  CS022415000100    Misako Sunagawa         1     Male  1976-07-10   42   \n167  CS038314000035      Kyoko Okunuki         1     Male  1979-04-09   39   \n239  CS025512000143    Yoshino Kikuchi         1     Male  1962-11-24   56   \n282  CS010513000187    Asami Matsukawa         1     Male  1966-09-01   52   \n319  CS020212000014   Matsui Natsuzora         1     Male  1991-05-08   27   \n432  CS019215000029        Mayuko Sawa         1     Male  1994-10-14   24   \n520  CS015414000138       Erika Kusano         1     Male  1972-07-29   46   \n524  CS035615000040  Daigoro Kawanishi         9  Unknown  1957-02-13   62   \n\n    postal_cd                                           address  \\\n54   185-0013              Kokubunji -shi, Tokyo Nishiki Kokubo   \n63   166-0015               Narita Higashi, Suginami -ku, Tokyo   \n163  249-0007         Shinjuku, Zushi City, Kanagawa Prefecture   \n167  134-0084                 Higashi Kasai, Edogawa -ku, Tokyo   \n239  242-0023         Shibuya, Yamato City, Kanagawa Prefecture   \n282  222-0032  Samido -cho, Kohoku -ku, Yokohama -shi, Kanagawa   \n319  332-0015     Kawaguchi, Kawaguchi City, Saitama Prefecture   \n432  176-0002                      Sakuradai, Nerima -ku, Tokyo   \n520  136-0076                    Minami sand in Koto -ku, Tokyo   \n524  158-0098                   Kamimariga, Setagaya -ku, Tokyo   \n\n    application_store_cd  application_date     status_cd  \n54                S13002          20161201  A-20100303-7  \n63                S13017          20141209  C-20090424-5  \n163               S14022          20150323  B-20091009-9  \n167               S13038          20151015  A-20100917-9  \n239               S14025          20160306  B-20090802-5  \n282               S14010          20150710  D-20100808-2  \n319               S13020          20150707  E-20100524-7  \n432               S13019          20151203  A-20100622-9  \n520               S13015          20150205  D-20100504-9  \n524               S13035          20150909  E-20100830-6  ",
      "text/html": "<div>\n<style scoped>\n    .dataframe tbody tr th:only-of-type {\n        vertical-align: middle;\n    }\n\n    .dataframe tbody tr th {\n        vertical-align: top;\n    }\n\n    .dataframe thead th {\n        text-align: right;\n    }\n</style>\n<table border=\"1\" class=\"dataframe\">\n  <thead>\n    <tr style=\"text-align: right;\">\n      <th></th>\n      <th>customer_id</th>\n      <th>customer_name</th>\n      <th>gender_cd</th>\n      <th>gender</th>\n      <th>birth_day</th>\n      <th>age</th>\n      <th>postal_cd</th>\n      <th>address</th>\n      <th>application_store_cd</th>\n      <th>application_date</th>\n      <th>status_cd</th>\n    </tr>\n  </thead>\n  <tbody>\n    <tr>\n      <th>54</th>\n      <td>CS002515000256</td>\n      <td>Yoko Kikuchi</td>\n      <td>1</td>\n      <td>Male</td>\n      <td>1964-10-06</td>\n      <td>54</td>\n      <td>185-0013</td>\n      <td>Kokubunji -shi, Tokyo Nishiki Kokubo</td>\n      <td>S13002</td>\n      <td>20161201</td>\n      <td>A-20100303-7</td>\n    </tr>\n    <tr>\n      <th>63</th>\n      <td>CS017315000023</td>\n      <td>Reina Uchino</td>\n      <td>1</td>\n      <td>Male</td>\n      <td>1987-02-21</td>\n      <td>32</td>\n      <td>166-0015</td>\n      <td>Narita Higashi, Suginami -ku, Tokyo</td>\n      <td>S13017</td>\n      <td>20141209</td>\n      <td>C-20090424-5</td>\n    </tr>\n    <tr>\n      <th>163</th>\n      <td>CS022415000100</td>\n      <td>Misako Sunagawa</td>\n      <td>1</td>\n      <td>Male</td>\n      <td>1976-07-10</td>\n      <td>42</td>\n      <td>249-0007</td>\n      <td>Shinjuku, Zushi City, Kanagawa Prefecture</td>\n      <td>S14022</td>\n      <td>20150323</td>\n      <td>B-20091009-9</td>\n    </tr>\n    <tr>\n      <th>167</th>\n      <td>CS038314000035</td>\n      <td>Kyoko Okunuki</td>\n      <td>1</td>\n      <td>Male</td>\n      <td>1979-04-09</td>\n      <td>39</td>\n      <td>134-0084</td>\n      <td>Higashi Kasai, Edogawa -ku, Tokyo</td>\n      <td>S13038</td>\n      <td>20151015</td>\n      <td>A-20100917-9</td>\n    </tr>\n    <tr>\n      <th>239</th>\n      <td>CS025512000143</td>\n      <td>Yoshino Kikuchi</td>\n      <td>1</td>\n      <td>Male</td>\n      <td>1962-11-24</td>\n      <td>56</td>\n      <td>242-0023</td>\n      <td>Shibuya, Yamato City, Kanagawa Prefecture</td>\n      <td>S14025</td>\n      <td>20160306</td>\n      <td>B-20090802-5</td>\n    </tr>\n    <tr>\n      <th>282</th>\n      <td>CS010513000187</td>\n      <td>Asami Matsukawa</td>\n      <td>1</td>\n      <td>Male</td>\n      <td>1966-09-01</td>\n      <td>52</td>\n      <td>222-0032</td>\n      <td>Samido -cho, Kohoku -ku, Yokohama -shi, Kanagawa</td>\n      <td>S14010</td>\n      <td>20150710</td>\n      <td>D-20100808-2</td>\n    </tr>\n    <tr>\n      <th>319</th>\n      <td>CS020212000014</td>\n      <td>Matsui Natsuzora</td>\n      <td>1</td>\n      <td>Male</td>\n      <td>1991-05-08</td>\n      <td>27</td>\n      <td>332-0015</td>\n      <td>Kawaguchi, Kawaguchi City, Saitama Prefecture</td>\n      <td>S13020</td>\n      <td>20150707</td>\n      <td>E-20100524-7</td>\n    </tr>\n    <tr>\n      <th>432</th>\n      <td>CS019215000029</td>\n      <td>Mayuko Sawa</td>\n      <td>1</td>\n      <td>Male</td>\n      <td>1994-10-14</td>\n      <td>24</td>\n      <td>176-0002</td>\n      <td>Sakuradai, Nerima -ku, Tokyo</td>\n      <td>S13019</td>\n      <td>20151203</td>\n      <td>A-20100622-9</td>\n    </tr>\n    <tr>\n      <th>520</th>\n      <td>CS015414000138</td>\n      <td>Erika Kusano</td>\n      <td>1</td>\n      <td>Male</td>\n      <td>1972-07-29</td>\n      <td>46</td>\n      <td>136-0076</td>\n      <td>Minami sand in Koto -ku, Tokyo</td>\n      <td>S13015</td>\n      <td>20150205</td>\n      <td>D-20100504-9</td>\n    </tr>\n    <tr>\n      <th>524</th>\n      <td>CS035615000040</td>\n      <td>Daigoro Kawanishi</td>\n      <td>9</td>\n      <td>Unknown</td>\n      <td>1957-02-13</td>\n      <td>62</td>\n      <td>158-0098</td>\n      <td>Kamimariga, Setagaya -ku, Tokyo</td>\n      <td>S13035</td>\n      <td>20150909</td>\n      <td>E-20100830-6</td>\n    </tr>\n  </tbody>\n</table>\n</div>"
     },
     "execution_count": 30,
     "metadata": {},
     "output_type": "execute_result"
    }
   ],
   "source": [
    "df_customer.query(\"status_cd.str.contains(r'^[A-F].*[1-9]$')\").head(10)"
   ]
  },
  {
   "cell_type": "markdown",
   "metadata": {},
   "source": [
    "---\n",
    "> P-016: From the store data (df_store), display all items where the telephone number (tel_no) starts with 3 digits and ends with 4 digits."
   ]
  },
  {
   "cell_type": "code",
   "execution_count": 32,
   "metadata": {
    "ExecuteTime": {
     "end_time": "2024-09-05T10:56:52.855444600Z",
     "start_time": "2024-09-05T10:56:52.646752500Z"
    }
   },
   "outputs": [
    {
     "data": {
      "text/plain": "   store_cd                store_name prefecture_cd           prefecture  \\\n0    S12014          Chigakadai store            12     Chiba prefecture   \n1    S13002          Kokubunji Temple            13                Tokyo   \n2    S14010              Kikuna store            14  Kanagawa Prefecture   \n3    S14033               Akuwa store            14  Kanagawa Prefecture   \n4    S14036  Sagamihara Central Store            14  Kanagawa Prefecture   \n7    S14040           Nagatsuta store            14  Kanagawa Prefecture   \n9    S14050         Akuwa Nishi store            14  Kanagawa Prefecture   \n11   S13052              Morino store            13                Tokyo   \n12   S14028      Futatsu Bridge store            14  Kanagawa Prefecture   \n16   S14012        Honmaki Wada store            14  Kanagawa Prefecture   \n18   S14046          Kitayamada store            14  Kanagawa Prefecture   \n19   S14022               Zushi store            14  Kanagawa Prefecture   \n20   S14011    Hiyoshi Honmachi store            14  Kanagawa Prefecture   \n21   S13016             Koganei store            13                Tokyo   \n22   S14034     Kawasaki Nogawa store            14  Kanagawa Prefecture   \n26   S14048       Nakagawa Chuo store            14  Kanagawa Prefecture   \n27   S12007              Sakura store            12     Chiba prefecture   \n28   S14026  Tsujido west coast store            14  Kanagawa Prefecture   \n29   S13041            Hachioji store            13                Tokyo   \n31   S14049     Kawasaki Daishi store            14  Kanagawa Prefecture   \n32   S14023            Kawasaki store            14  Kanagawa Prefecture   \n33   S13018              Kiyose store            13                Tokyo   \n35   S14027    Minami -Fujizawa store            14  Kanagawa Prefecture   \n36   S14021             Isehara store            14  Kanagawa Prefecture   \n37   S14047          Sagamihara store            14  Kanagawa Prefecture   \n38   S12013           Narashino store            12     Chiba prefecture   \n40   S14042      Niiyama Shinto store            14  Kanagawa Prefecture   \n42   S12030              Yawata store            12     Chiba prefecture   \n44   S14025              Yamato store            14  Kanagawa Prefecture   \n45   S14045              Atsugi store            14  Kanagawa Prefecture   \n47   S12029           Higashino store            12     Chiba prefecture   \n49   S12053              Takasu store            12     Chiba prefecture   \n51   S14024                Mita store            14  Kanagawa Prefecture   \n52   S14006            Kuzugaya store            14  Kanagawa Prefecture   \n\n                                              address        tel_no  \\\n0     1-chome, Chigusadai, Inage-ku, Chiba-shi, Chiba  043-123-4003   \n1                Honda 2-chome, Kokubunji City, Tokyo  042-123-4008   \n2   Kikuna 1-chome, Kohoku-ku, Yokohama-shi, Kanagawa  045-123-4032   \n3   Akuwa Nishi 1-chome, Seya-ku, Yokohama-shi, Ka...  045-123-4043   \n4   2-chome, Chuo, Sagamihara City, Kanagawa Prefe...  042-123-4045   \n7   Nagatsuda Minamidai 5-chome, Midori-ku, Yokoha...  045-123-4046   \n9   Akuwa Nishi 1-chome, Seya-ku, Yokohama-shi, Ka...  045-123-4053   \n11               Morino Sanchome, Machida City, Tokyo  042-123-4030   \n12  Futatsuhashi-cho, Seya-ku, Yokohama-shi, Kanagawa  045-123-4042   \n16      Honmaki Wada, Naka-ku, Yokohama-shi, Kanagawa  045-123-4034   \n18  Kitamada 1-chome, Tsuzuki-ku, Yokohama-shi, Ka...  045-123-4049   \n19     Zushi 1-chome, Zushi City, Kanagawa Prefecture  046-123-4036   \n20  4-chome Honcho, Kohoku-ku, Yokohama-shi, Kanagawa  045-123-4033   \n21               1-chome Honmachi, Koganei-shi, Tokyo  042-123-4015   \n22  Nogawa, Miyamae-ku, Kawasaki City, Kanagawa Pr...  044-123-4044   \n26  2-chome Nakagawa Chuo 2-chome, Tsuzuki-ku, Yok...  045-123-4051   \n27           Kamishizu, Sakura City, Chiba Prefecture  043-123-4001   \n28  2-chome, Tsujido, Fujisawa City, Kanagawa Pref...  046-123-4040   \n29                            Otsuka, Hachioji, Tokyo  042-123-4026   \n31  Nakase Sanchome, Kawasaki-ku, Kawasaki City, K...  044-123-4052   \n32  2-chome Honmachi, Kawasaki-ku, Kawasaki-shi, K...  044-123-4037   \n33              Matsuyama 1-chome, Kiyose City, Tokyo  042-123-4017   \n35  Minami Fujisawa, Fujisawa City, Kanagawa Prefe...  046-123-4041   \n36  Isehara 4-chome, Isehara City, Kanagawa Prefec...  046-123-4035   \n37  6-chome, Chiyoda, Sagamihara City, Kanagawa Pr...  042-123-4050   \n38  1-chome Shibaen, Narashino City, Chiba Prefecture  047-123-4002   \n40  Shinyamashita 2-chome, Naka-ku, Yokohama-shi, ...  045-123-4047   \n42    Yawata 3-chome, Ichikawa City, Chiba Prefecture  047-123-4005   \n44         Shimwada, Yamato City, Kanagawa Prefecture  046-123-4039   \n45  2-chome Nakamachi, Atsugi City, Kanagawa Prefe...  046-123-4048   \n47  1-chome Higashino, Urayasu City, Chiba Prefecture  047-123-4004   \n49     Takasu 5-chome, Urayasu City, Chiba Prefecture  047-123-4006   \n51  Mita 4-chome, Tama-ku, Kawasaki City, Kanagawa...  044-123-4038   \n52  Kuzugaya, Tsuzuki-ku, Yokohama City, Kanagawa ...  045-123-4031   \n\n    longitude  latitude  floor_area  \n0    140.1180  35.63559      1698.0  \n1    139.4802  35.70566      1735.0  \n2    139.6326  35.50049      1732.0  \n3    139.4961  35.45918      1495.0  \n4    139.3716  35.57327      1679.0  \n7    139.4994  35.52398      1548.0  \n9    139.4961  35.45918      1830.0  \n11   139.4383  35.55293      1087.0  \n12   139.4963  35.46304      1574.0  \n16   139.6582  35.42156      1341.0  \n18   139.5916  35.56189       831.0  \n19   139.5789  35.29642      1838.0  \n20   139.6316  35.54655       890.0  \n21   139.5094  35.70018      1399.0  \n22   139.5998  35.57693      1318.0  \n26   139.5758  35.54912      1657.0  \n27   140.1452  35.71872      1895.0  \n28   139.4466  35.32464      1732.0  \n29   139.4235  35.63787       810.0  \n31   139.7327  35.53759       962.0  \n32   139.7028  35.53599      1804.0  \n33   139.5178  35.76885      1220.0  \n35   139.4896  35.33762      1521.0  \n36   139.3129  35.40169       962.0  \n37   139.3748  35.55959      1047.0  \n38   140.0220  35.66122       808.0  \n40   139.6593  35.43894      1044.0  \n42   139.9240  35.72318      1162.0  \n44   139.4680  35.43414      1011.0  \n45   139.3651  35.44182       980.0  \n47   139.8968  35.65086      1101.0  \n49   139.9176  35.63755      1555.0  \n51   139.5424  35.60770       972.0  \n52   139.5633  35.53573      1886.0  ",
      "text/html": "<div>\n<style scoped>\n    .dataframe tbody tr th:only-of-type {\n        vertical-align: middle;\n    }\n\n    .dataframe tbody tr th {\n        vertical-align: top;\n    }\n\n    .dataframe thead th {\n        text-align: right;\n    }\n</style>\n<table border=\"1\" class=\"dataframe\">\n  <thead>\n    <tr style=\"text-align: right;\">\n      <th></th>\n      <th>store_cd</th>\n      <th>store_name</th>\n      <th>prefecture_cd</th>\n      <th>prefecture</th>\n      <th>address</th>\n      <th>tel_no</th>\n      <th>longitude</th>\n      <th>latitude</th>\n      <th>floor_area</th>\n    </tr>\n  </thead>\n  <tbody>\n    <tr>\n      <th>0</th>\n      <td>S12014</td>\n      <td>Chigakadai store</td>\n      <td>12</td>\n      <td>Chiba prefecture</td>\n      <td>1-chome, Chigusadai, Inage-ku, Chiba-shi, Chiba</td>\n      <td>043-123-4003</td>\n      <td>140.1180</td>\n      <td>35.63559</td>\n      <td>1698.0</td>\n    </tr>\n    <tr>\n      <th>1</th>\n      <td>S13002</td>\n      <td>Kokubunji Temple</td>\n      <td>13</td>\n      <td>Tokyo</td>\n      <td>Honda 2-chome, Kokubunji City, Tokyo</td>\n      <td>042-123-4008</td>\n      <td>139.4802</td>\n      <td>35.70566</td>\n      <td>1735.0</td>\n    </tr>\n    <tr>\n      <th>2</th>\n      <td>S14010</td>\n      <td>Kikuna store</td>\n      <td>14</td>\n      <td>Kanagawa Prefecture</td>\n      <td>Kikuna 1-chome, Kohoku-ku, Yokohama-shi, Kanagawa</td>\n      <td>045-123-4032</td>\n      <td>139.6326</td>\n      <td>35.50049</td>\n      <td>1732.0</td>\n    </tr>\n    <tr>\n      <th>3</th>\n      <td>S14033</td>\n      <td>Akuwa store</td>\n      <td>14</td>\n      <td>Kanagawa Prefecture</td>\n      <td>Akuwa Nishi 1-chome, Seya-ku, Yokohama-shi, Ka...</td>\n      <td>045-123-4043</td>\n      <td>139.4961</td>\n      <td>35.45918</td>\n      <td>1495.0</td>\n    </tr>\n    <tr>\n      <th>4</th>\n      <td>S14036</td>\n      <td>Sagamihara Central Store</td>\n      <td>14</td>\n      <td>Kanagawa Prefecture</td>\n      <td>2-chome, Chuo, Sagamihara City, Kanagawa Prefe...</td>\n      <td>042-123-4045</td>\n      <td>139.3716</td>\n      <td>35.57327</td>\n      <td>1679.0</td>\n    </tr>\n    <tr>\n      <th>7</th>\n      <td>S14040</td>\n      <td>Nagatsuta store</td>\n      <td>14</td>\n      <td>Kanagawa Prefecture</td>\n      <td>Nagatsuda Minamidai 5-chome, Midori-ku, Yokoha...</td>\n      <td>045-123-4046</td>\n      <td>139.4994</td>\n      <td>35.52398</td>\n      <td>1548.0</td>\n    </tr>\n    <tr>\n      <th>9</th>\n      <td>S14050</td>\n      <td>Akuwa Nishi store</td>\n      <td>14</td>\n      <td>Kanagawa Prefecture</td>\n      <td>Akuwa Nishi 1-chome, Seya-ku, Yokohama-shi, Ka...</td>\n      <td>045-123-4053</td>\n      <td>139.4961</td>\n      <td>35.45918</td>\n      <td>1830.0</td>\n    </tr>\n    <tr>\n      <th>11</th>\n      <td>S13052</td>\n      <td>Morino store</td>\n      <td>13</td>\n      <td>Tokyo</td>\n      <td>Morino Sanchome, Machida City, Tokyo</td>\n      <td>042-123-4030</td>\n      <td>139.4383</td>\n      <td>35.55293</td>\n      <td>1087.0</td>\n    </tr>\n    <tr>\n      <th>12</th>\n      <td>S14028</td>\n      <td>Futatsu Bridge store</td>\n      <td>14</td>\n      <td>Kanagawa Prefecture</td>\n      <td>Futatsuhashi-cho, Seya-ku, Yokohama-shi, Kanagawa</td>\n      <td>045-123-4042</td>\n      <td>139.4963</td>\n      <td>35.46304</td>\n      <td>1574.0</td>\n    </tr>\n    <tr>\n      <th>16</th>\n      <td>S14012</td>\n      <td>Honmaki Wada store</td>\n      <td>14</td>\n      <td>Kanagawa Prefecture</td>\n      <td>Honmaki Wada, Naka-ku, Yokohama-shi, Kanagawa</td>\n      <td>045-123-4034</td>\n      <td>139.6582</td>\n      <td>35.42156</td>\n      <td>1341.0</td>\n    </tr>\n    <tr>\n      <th>18</th>\n      <td>S14046</td>\n      <td>Kitayamada store</td>\n      <td>14</td>\n      <td>Kanagawa Prefecture</td>\n      <td>Kitamada 1-chome, Tsuzuki-ku, Yokohama-shi, Ka...</td>\n      <td>045-123-4049</td>\n      <td>139.5916</td>\n      <td>35.56189</td>\n      <td>831.0</td>\n    </tr>\n    <tr>\n      <th>19</th>\n      <td>S14022</td>\n      <td>Zushi store</td>\n      <td>14</td>\n      <td>Kanagawa Prefecture</td>\n      <td>Zushi 1-chome, Zushi City, Kanagawa Prefecture</td>\n      <td>046-123-4036</td>\n      <td>139.5789</td>\n      <td>35.29642</td>\n      <td>1838.0</td>\n    </tr>\n    <tr>\n      <th>20</th>\n      <td>S14011</td>\n      <td>Hiyoshi Honmachi store</td>\n      <td>14</td>\n      <td>Kanagawa Prefecture</td>\n      <td>4-chome Honcho, Kohoku-ku, Yokohama-shi, Kanagawa</td>\n      <td>045-123-4033</td>\n      <td>139.6316</td>\n      <td>35.54655</td>\n      <td>890.0</td>\n    </tr>\n    <tr>\n      <th>21</th>\n      <td>S13016</td>\n      <td>Koganei store</td>\n      <td>13</td>\n      <td>Tokyo</td>\n      <td>1-chome Honmachi, Koganei-shi, Tokyo</td>\n      <td>042-123-4015</td>\n      <td>139.5094</td>\n      <td>35.70018</td>\n      <td>1399.0</td>\n    </tr>\n    <tr>\n      <th>22</th>\n      <td>S14034</td>\n      <td>Kawasaki Nogawa store</td>\n      <td>14</td>\n      <td>Kanagawa Prefecture</td>\n      <td>Nogawa, Miyamae-ku, Kawasaki City, Kanagawa Pr...</td>\n      <td>044-123-4044</td>\n      <td>139.5998</td>\n      <td>35.57693</td>\n      <td>1318.0</td>\n    </tr>\n    <tr>\n      <th>26</th>\n      <td>S14048</td>\n      <td>Nakagawa Chuo store</td>\n      <td>14</td>\n      <td>Kanagawa Prefecture</td>\n      <td>2-chome Nakagawa Chuo 2-chome, Tsuzuki-ku, Yok...</td>\n      <td>045-123-4051</td>\n      <td>139.5758</td>\n      <td>35.54912</td>\n      <td>1657.0</td>\n    </tr>\n    <tr>\n      <th>27</th>\n      <td>S12007</td>\n      <td>Sakura store</td>\n      <td>12</td>\n      <td>Chiba prefecture</td>\n      <td>Kamishizu, Sakura City, Chiba Prefecture</td>\n      <td>043-123-4001</td>\n      <td>140.1452</td>\n      <td>35.71872</td>\n      <td>1895.0</td>\n    </tr>\n    <tr>\n      <th>28</th>\n      <td>S14026</td>\n      <td>Tsujido west coast store</td>\n      <td>14</td>\n      <td>Kanagawa Prefecture</td>\n      <td>2-chome, Tsujido, Fujisawa City, Kanagawa Pref...</td>\n      <td>046-123-4040</td>\n      <td>139.4466</td>\n      <td>35.32464</td>\n      <td>1732.0</td>\n    </tr>\n    <tr>\n      <th>29</th>\n      <td>S13041</td>\n      <td>Hachioji store</td>\n      <td>13</td>\n      <td>Tokyo</td>\n      <td>Otsuka, Hachioji, Tokyo</td>\n      <td>042-123-4026</td>\n      <td>139.4235</td>\n      <td>35.63787</td>\n      <td>810.0</td>\n    </tr>\n    <tr>\n      <th>31</th>\n      <td>S14049</td>\n      <td>Kawasaki Daishi store</td>\n      <td>14</td>\n      <td>Kanagawa Prefecture</td>\n      <td>Nakase Sanchome, Kawasaki-ku, Kawasaki City, K...</td>\n      <td>044-123-4052</td>\n      <td>139.7327</td>\n      <td>35.53759</td>\n      <td>962.0</td>\n    </tr>\n    <tr>\n      <th>32</th>\n      <td>S14023</td>\n      <td>Kawasaki store</td>\n      <td>14</td>\n      <td>Kanagawa Prefecture</td>\n      <td>2-chome Honmachi, Kawasaki-ku, Kawasaki-shi, K...</td>\n      <td>044-123-4037</td>\n      <td>139.7028</td>\n      <td>35.53599</td>\n      <td>1804.0</td>\n    </tr>\n    <tr>\n      <th>33</th>\n      <td>S13018</td>\n      <td>Kiyose store</td>\n      <td>13</td>\n      <td>Tokyo</td>\n      <td>Matsuyama 1-chome, Kiyose City, Tokyo</td>\n      <td>042-123-4017</td>\n      <td>139.5178</td>\n      <td>35.76885</td>\n      <td>1220.0</td>\n    </tr>\n    <tr>\n      <th>35</th>\n      <td>S14027</td>\n      <td>Minami -Fujizawa store</td>\n      <td>14</td>\n      <td>Kanagawa Prefecture</td>\n      <td>Minami Fujisawa, Fujisawa City, Kanagawa Prefe...</td>\n      <td>046-123-4041</td>\n      <td>139.4896</td>\n      <td>35.33762</td>\n      <td>1521.0</td>\n    </tr>\n    <tr>\n      <th>36</th>\n      <td>S14021</td>\n      <td>Isehara store</td>\n      <td>14</td>\n      <td>Kanagawa Prefecture</td>\n      <td>Isehara 4-chome, Isehara City, Kanagawa Prefec...</td>\n      <td>046-123-4035</td>\n      <td>139.3129</td>\n      <td>35.40169</td>\n      <td>962.0</td>\n    </tr>\n    <tr>\n      <th>37</th>\n      <td>S14047</td>\n      <td>Sagamihara store</td>\n      <td>14</td>\n      <td>Kanagawa Prefecture</td>\n      <td>6-chome, Chiyoda, Sagamihara City, Kanagawa Pr...</td>\n      <td>042-123-4050</td>\n      <td>139.3748</td>\n      <td>35.55959</td>\n      <td>1047.0</td>\n    </tr>\n    <tr>\n      <th>38</th>\n      <td>S12013</td>\n      <td>Narashino store</td>\n      <td>12</td>\n      <td>Chiba prefecture</td>\n      <td>1-chome Shibaen, Narashino City, Chiba Prefecture</td>\n      <td>047-123-4002</td>\n      <td>140.0220</td>\n      <td>35.66122</td>\n      <td>808.0</td>\n    </tr>\n    <tr>\n      <th>40</th>\n      <td>S14042</td>\n      <td>Niiyama Shinto store</td>\n      <td>14</td>\n      <td>Kanagawa Prefecture</td>\n      <td>Shinyamashita 2-chome, Naka-ku, Yokohama-shi, ...</td>\n      <td>045-123-4047</td>\n      <td>139.6593</td>\n      <td>35.43894</td>\n      <td>1044.0</td>\n    </tr>\n    <tr>\n      <th>42</th>\n      <td>S12030</td>\n      <td>Yawata store</td>\n      <td>12</td>\n      <td>Chiba prefecture</td>\n      <td>Yawata 3-chome, Ichikawa City, Chiba Prefecture</td>\n      <td>047-123-4005</td>\n      <td>139.9240</td>\n      <td>35.72318</td>\n      <td>1162.0</td>\n    </tr>\n    <tr>\n      <th>44</th>\n      <td>S14025</td>\n      <td>Yamato store</td>\n      <td>14</td>\n      <td>Kanagawa Prefecture</td>\n      <td>Shimwada, Yamato City, Kanagawa Prefecture</td>\n      <td>046-123-4039</td>\n      <td>139.4680</td>\n      <td>35.43414</td>\n      <td>1011.0</td>\n    </tr>\n    <tr>\n      <th>45</th>\n      <td>S14045</td>\n      <td>Atsugi store</td>\n      <td>14</td>\n      <td>Kanagawa Prefecture</td>\n      <td>2-chome Nakamachi, Atsugi City, Kanagawa Prefe...</td>\n      <td>046-123-4048</td>\n      <td>139.3651</td>\n      <td>35.44182</td>\n      <td>980.0</td>\n    </tr>\n    <tr>\n      <th>47</th>\n      <td>S12029</td>\n      <td>Higashino store</td>\n      <td>12</td>\n      <td>Chiba prefecture</td>\n      <td>1-chome Higashino, Urayasu City, Chiba Prefecture</td>\n      <td>047-123-4004</td>\n      <td>139.8968</td>\n      <td>35.65086</td>\n      <td>1101.0</td>\n    </tr>\n    <tr>\n      <th>49</th>\n      <td>S12053</td>\n      <td>Takasu store</td>\n      <td>12</td>\n      <td>Chiba prefecture</td>\n      <td>Takasu 5-chome, Urayasu City, Chiba Prefecture</td>\n      <td>047-123-4006</td>\n      <td>139.9176</td>\n      <td>35.63755</td>\n      <td>1555.0</td>\n    </tr>\n    <tr>\n      <th>51</th>\n      <td>S14024</td>\n      <td>Mita store</td>\n      <td>14</td>\n      <td>Kanagawa Prefecture</td>\n      <td>Mita 4-chome, Tama-ku, Kawasaki City, Kanagawa...</td>\n      <td>044-123-4038</td>\n      <td>139.5424</td>\n      <td>35.60770</td>\n      <td>972.0</td>\n    </tr>\n    <tr>\n      <th>52</th>\n      <td>S14006</td>\n      <td>Kuzugaya store</td>\n      <td>14</td>\n      <td>Kanagawa Prefecture</td>\n      <td>Kuzugaya, Tsuzuki-ku, Yokohama City, Kanagawa ...</td>\n      <td>045-123-4031</td>\n      <td>139.5633</td>\n      <td>35.53573</td>\n      <td>1886.0</td>\n    </tr>\n  </tbody>\n</table>\n</div>"
     },
     "execution_count": 32,
     "metadata": {},
     "output_type": "execute_result"
    }
   ],
   "source": [
    "df_store.query(\"tel_no.str.contains(r'^[0-9]{3}-[0-9]{3}-[0-9]{4}$')\")"
   ]
  },
  {
   "cell_type": "markdown",
   "metadata": {},
   "source": [
    "---\n",
    "> P-017: Sort the customer data (df_customer) in descending order by birth date (birth_day), and display the first 10 rows of all items."
   ]
  },
  {
   "cell_type": "code",
   "execution_count": 33,
   "metadata": {
    "ExecuteTime": {
     "end_time": "2024-09-05T11:07:03.158353700Z",
     "start_time": "2024-09-05T11:07:02.998415100Z"
    }
   },
   "outputs": [
    {
     "data": {
      "text/plain": "        customer_id    customer_name gender_cd  gender   birth_day  age  \\\n401  CS017811000003     Yuu Kageyama         1    Male  1930-02-27   89   \n258  CS030802000009     Shingo Shogo         0  Female  1930-08-31   88   \n927  CS038813000006   Miyuki Toshima         1    Male  1931-01-07   88   \n640  CS005812000025       Ryo Nagase         1    Male  1931-10-06   87   \n200  CS024815000023  Mayuko Takenaka         1    Male  1931-11-25   87   \n812  CS034813000001      Yuko Yasuko         1    Male  1932-03-03   87   \n133  CS039813000020    Toshima light         1    Male  1932-03-29   87   \n129  CS002815000035       Ema Kawano         1    Male  1932-04-17   86   \n399  CS032815000020      Natsuki Doi         1    Male  1932-06-14   86   \n128  CS007813000023   Airi Mizoguchi         1    Male  1932-06-28   86   \n\n    postal_cd                                            address  \\\n401  166-0001                    Asaya Kita, Suginami -ku, Tokyo   \n258  272-0803                               Ichikawa -shi, Chiba   \n927  134-0084                  Higashi Kasai, Edogawa -ku, Tokyo   \n640  176-0022                        Mukoyama, Nerima -ku, Tokyo   \n200  214-0035  Nagasawa, Tama -ku, Kawasaki City, Kanagawa Pr...   \n812  216-0001  Nogawa, Miyamae -ku, Kawasaki City, Kanagawa P...   \n133  167-0034                         Momoi, Suginami -ku, Tokyo   \n129  185-0024                       Izumi -cho, Kokubunji, Tokyo   \n399  144-0056                      Nishi -Rokugo, Ota -ku, Tokyo   \n128  285-0843           Nakashizu, Sakura City, Chiba Prefecture   \n\n    application_store_cd  application_date     status_cd  \n401               S13017          20150224  0-00000000-0  \n258               S12030          20180506  0-00000000-0  \n927               S13038          20150603  0-00000000-0  \n640               S13005          20170524  0-00000000-0  \n200               S14024          20151030  2-20080925-4  \n812               S14034          20150625  0-00000000-0  \n133               S13039          20150630  0-00000000-0  \n129               S13002          20161227  3-20090908-2  \n399               S13032          20151104  0-00000000-0  \n128               S12007          20150501  0-00000000-0  ",
      "text/html": "<div>\n<style scoped>\n    .dataframe tbody tr th:only-of-type {\n        vertical-align: middle;\n    }\n\n    .dataframe tbody tr th {\n        vertical-align: top;\n    }\n\n    .dataframe thead th {\n        text-align: right;\n    }\n</style>\n<table border=\"1\" class=\"dataframe\">\n  <thead>\n    <tr style=\"text-align: right;\">\n      <th></th>\n      <th>customer_id</th>\n      <th>customer_name</th>\n      <th>gender_cd</th>\n      <th>gender</th>\n      <th>birth_day</th>\n      <th>age</th>\n      <th>postal_cd</th>\n      <th>address</th>\n      <th>application_store_cd</th>\n      <th>application_date</th>\n      <th>status_cd</th>\n    </tr>\n  </thead>\n  <tbody>\n    <tr>\n      <th>401</th>\n      <td>CS017811000003</td>\n      <td>Yuu Kageyama</td>\n      <td>1</td>\n      <td>Male</td>\n      <td>1930-02-27</td>\n      <td>89</td>\n      <td>166-0001</td>\n      <td>Asaya Kita, Suginami -ku, Tokyo</td>\n      <td>S13017</td>\n      <td>20150224</td>\n      <td>0-00000000-0</td>\n    </tr>\n    <tr>\n      <th>258</th>\n      <td>CS030802000009</td>\n      <td>Shingo Shogo</td>\n      <td>0</td>\n      <td>Female</td>\n      <td>1930-08-31</td>\n      <td>88</td>\n      <td>272-0803</td>\n      <td>Ichikawa -shi, Chiba</td>\n      <td>S12030</td>\n      <td>20180506</td>\n      <td>0-00000000-0</td>\n    </tr>\n    <tr>\n      <th>927</th>\n      <td>CS038813000006</td>\n      <td>Miyuki Toshima</td>\n      <td>1</td>\n      <td>Male</td>\n      <td>1931-01-07</td>\n      <td>88</td>\n      <td>134-0084</td>\n      <td>Higashi Kasai, Edogawa -ku, Tokyo</td>\n      <td>S13038</td>\n      <td>20150603</td>\n      <td>0-00000000-0</td>\n    </tr>\n    <tr>\n      <th>640</th>\n      <td>CS005812000025</td>\n      <td>Ryo Nagase</td>\n      <td>1</td>\n      <td>Male</td>\n      <td>1931-10-06</td>\n      <td>87</td>\n      <td>176-0022</td>\n      <td>Mukoyama, Nerima -ku, Tokyo</td>\n      <td>S13005</td>\n      <td>20170524</td>\n      <td>0-00000000-0</td>\n    </tr>\n    <tr>\n      <th>200</th>\n      <td>CS024815000023</td>\n      <td>Mayuko Takenaka</td>\n      <td>1</td>\n      <td>Male</td>\n      <td>1931-11-25</td>\n      <td>87</td>\n      <td>214-0035</td>\n      <td>Nagasawa, Tama -ku, Kawasaki City, Kanagawa Pr...</td>\n      <td>S14024</td>\n      <td>20151030</td>\n      <td>2-20080925-4</td>\n    </tr>\n    <tr>\n      <th>812</th>\n      <td>CS034813000001</td>\n      <td>Yuko Yasuko</td>\n      <td>1</td>\n      <td>Male</td>\n      <td>1932-03-03</td>\n      <td>87</td>\n      <td>216-0001</td>\n      <td>Nogawa, Miyamae -ku, Kawasaki City, Kanagawa P...</td>\n      <td>S14034</td>\n      <td>20150625</td>\n      <td>0-00000000-0</td>\n    </tr>\n    <tr>\n      <th>133</th>\n      <td>CS039813000020</td>\n      <td>Toshima light</td>\n      <td>1</td>\n      <td>Male</td>\n      <td>1932-03-29</td>\n      <td>87</td>\n      <td>167-0034</td>\n      <td>Momoi, Suginami -ku, Tokyo</td>\n      <td>S13039</td>\n      <td>20150630</td>\n      <td>0-00000000-0</td>\n    </tr>\n    <tr>\n      <th>129</th>\n      <td>CS002815000035</td>\n      <td>Ema Kawano</td>\n      <td>1</td>\n      <td>Male</td>\n      <td>1932-04-17</td>\n      <td>86</td>\n      <td>185-0024</td>\n      <td>Izumi -cho, Kokubunji, Tokyo</td>\n      <td>S13002</td>\n      <td>20161227</td>\n      <td>3-20090908-2</td>\n    </tr>\n    <tr>\n      <th>399</th>\n      <td>CS032815000020</td>\n      <td>Natsuki Doi</td>\n      <td>1</td>\n      <td>Male</td>\n      <td>1932-06-14</td>\n      <td>86</td>\n      <td>144-0056</td>\n      <td>Nishi -Rokugo, Ota -ku, Tokyo</td>\n      <td>S13032</td>\n      <td>20151104</td>\n      <td>0-00000000-0</td>\n    </tr>\n    <tr>\n      <th>128</th>\n      <td>CS007813000023</td>\n      <td>Airi Mizoguchi</td>\n      <td>1</td>\n      <td>Male</td>\n      <td>1932-06-28</td>\n      <td>86</td>\n      <td>285-0843</td>\n      <td>Nakashizu, Sakura City, Chiba Prefecture</td>\n      <td>S12007</td>\n      <td>20150501</td>\n      <td>0-00000000-0</td>\n    </tr>\n  </tbody>\n</table>\n</div>"
     },
     "execution_count": 33,
     "metadata": {},
     "output_type": "execute_result"
    }
   ],
   "source": [
    "df_customer.sort_values('birth_day').head(10)"
   ]
  },
  {
   "cell_type": "markdown",
   "metadata": {},
   "source": [
    "---\n",
    "> P-018: Sort the customer data (df_customer) in ascending order by birth date (birth_day), and display the first 10 rows of all items."
   ]
  },
  {
   "cell_type": "code",
   "execution_count": 36,
   "metadata": {
    "ExecuteTime": {
     "end_time": "2024-09-05T11:09:40.586051Z",
     "start_time": "2024-09-05T11:09:40.297540500Z"
    }
   },
   "outputs": [
    {
     "data": {
      "text/plain": "        customer_id         customer_name gender_cd   gender   birth_day  age  \\\n134  CS004112000011           Miyu Tamaki         1     Male  2007-01-03   12   \n516  CS021102000003              Nakahara         0   Female  2006-05-17   12   \n560  CS032115000007        Tomono Noguchi         1     Male  2006-04-11   12   \n44   CS019114000002            Mami Morii         1     Male  2004-12-17   14   \n703  CS037112000007         Sayaka Temple         1     Male  2004-01-20   15   \n250  CS032115000006  Koizumi High History         9  Unknown  2003-11-14   15   \n101  CS021115000004         Hikaru Kurata         1     Male  2003-01-19   16   \n512  CS030112000001       Haruki Yamauchi         1     Male  2002-01-26   17   \n867  CS011412000021           Riho Tamada         1     Male  1999-10-21   19   \n938  CS028213000058      Mayuko Terashima         1     Male  1997-12-17   21   \n\n    postal_cd                                            address  \\\n134  161-0031                     Nishimoho, Shinjuku -ku, Tokyo   \n516  254-0004      Kobujima, Hiratsuka City, Kanagawa Prefecture   \n560  144-0056                      Nishi -Rokugo, Ota -ku, Tokyo   \n44   171-0041                        Chikawa, Toshima -ku, Tokyo   \n703  101-0031                  Higashi Kanda, Chiyoda -ku, Tokyo   \n250  144-0056                      Nishi -Rokugo, Ota -ku, Tokyo   \n101  259-1111  Nishi -Tomioka, Isehara City, Kanagawa Prefecture   \n512  272-0814       Takaishijin, Ichikawa City, Chiba Prefecture   \n867  165-0022                           Ekoda, Nakano -ku, Tokyo   \n938  246-0025      Akuwanishi, Seya -ku, Yokohama -shi, Kanagawa   \n\n    application_store_cd  application_date     status_cd  \n134               S13004          20160615  0-00000000-0  \n516               S14021          20180510  0-00000000-0  \n560               S13032          20150428  B-20100822-A  \n44                S13019          20150507  0-00000000-0  \n703               S13037          20151108  0-00000000-0  \n250               S13032          20150223  6-20100725-A  \n101               S14021          20150212  E-20100925-E  \n512               S12030          20150620  0-00000000-0  \n867               S14011          20150526  4-20090412-3  \n938               S14028          20180806  0-00000000-0  ",
      "text/html": "<div>\n<style scoped>\n    .dataframe tbody tr th:only-of-type {\n        vertical-align: middle;\n    }\n\n    .dataframe tbody tr th {\n        vertical-align: top;\n    }\n\n    .dataframe thead th {\n        text-align: right;\n    }\n</style>\n<table border=\"1\" class=\"dataframe\">\n  <thead>\n    <tr style=\"text-align: right;\">\n      <th></th>\n      <th>customer_id</th>\n      <th>customer_name</th>\n      <th>gender_cd</th>\n      <th>gender</th>\n      <th>birth_day</th>\n      <th>age</th>\n      <th>postal_cd</th>\n      <th>address</th>\n      <th>application_store_cd</th>\n      <th>application_date</th>\n      <th>status_cd</th>\n    </tr>\n  </thead>\n  <tbody>\n    <tr>\n      <th>134</th>\n      <td>CS004112000011</td>\n      <td>Miyu Tamaki</td>\n      <td>1</td>\n      <td>Male</td>\n      <td>2007-01-03</td>\n      <td>12</td>\n      <td>161-0031</td>\n      <td>Nishimoho, Shinjuku -ku, Tokyo</td>\n      <td>S13004</td>\n      <td>20160615</td>\n      <td>0-00000000-0</td>\n    </tr>\n    <tr>\n      <th>516</th>\n      <td>CS021102000003</td>\n      <td>Nakahara</td>\n      <td>0</td>\n      <td>Female</td>\n      <td>2006-05-17</td>\n      <td>12</td>\n      <td>254-0004</td>\n      <td>Kobujima, Hiratsuka City, Kanagawa Prefecture</td>\n      <td>S14021</td>\n      <td>20180510</td>\n      <td>0-00000000-0</td>\n    </tr>\n    <tr>\n      <th>560</th>\n      <td>CS032115000007</td>\n      <td>Tomono Noguchi</td>\n      <td>1</td>\n      <td>Male</td>\n      <td>2006-04-11</td>\n      <td>12</td>\n      <td>144-0056</td>\n      <td>Nishi -Rokugo, Ota -ku, Tokyo</td>\n      <td>S13032</td>\n      <td>20150428</td>\n      <td>B-20100822-A</td>\n    </tr>\n    <tr>\n      <th>44</th>\n      <td>CS019114000002</td>\n      <td>Mami Morii</td>\n      <td>1</td>\n      <td>Male</td>\n      <td>2004-12-17</td>\n      <td>14</td>\n      <td>171-0041</td>\n      <td>Chikawa, Toshima -ku, Tokyo</td>\n      <td>S13019</td>\n      <td>20150507</td>\n      <td>0-00000000-0</td>\n    </tr>\n    <tr>\n      <th>703</th>\n      <td>CS037112000007</td>\n      <td>Sayaka Temple</td>\n      <td>1</td>\n      <td>Male</td>\n      <td>2004-01-20</td>\n      <td>15</td>\n      <td>101-0031</td>\n      <td>Higashi Kanda, Chiyoda -ku, Tokyo</td>\n      <td>S13037</td>\n      <td>20151108</td>\n      <td>0-00000000-0</td>\n    </tr>\n    <tr>\n      <th>250</th>\n      <td>CS032115000006</td>\n      <td>Koizumi High History</td>\n      <td>9</td>\n      <td>Unknown</td>\n      <td>2003-11-14</td>\n      <td>15</td>\n      <td>144-0056</td>\n      <td>Nishi -Rokugo, Ota -ku, Tokyo</td>\n      <td>S13032</td>\n      <td>20150223</td>\n      <td>6-20100725-A</td>\n    </tr>\n    <tr>\n      <th>101</th>\n      <td>CS021115000004</td>\n      <td>Hikaru Kurata</td>\n      <td>1</td>\n      <td>Male</td>\n      <td>2003-01-19</td>\n      <td>16</td>\n      <td>259-1111</td>\n      <td>Nishi -Tomioka, Isehara City, Kanagawa Prefecture</td>\n      <td>S14021</td>\n      <td>20150212</td>\n      <td>E-20100925-E</td>\n    </tr>\n    <tr>\n      <th>512</th>\n      <td>CS030112000001</td>\n      <td>Haruki Yamauchi</td>\n      <td>1</td>\n      <td>Male</td>\n      <td>2002-01-26</td>\n      <td>17</td>\n      <td>272-0814</td>\n      <td>Takaishijin, Ichikawa City, Chiba Prefecture</td>\n      <td>S12030</td>\n      <td>20150620</td>\n      <td>0-00000000-0</td>\n    </tr>\n    <tr>\n      <th>867</th>\n      <td>CS011412000021</td>\n      <td>Riho Tamada</td>\n      <td>1</td>\n      <td>Male</td>\n      <td>1999-10-21</td>\n      <td>19</td>\n      <td>165-0022</td>\n      <td>Ekoda, Nakano -ku, Tokyo</td>\n      <td>S14011</td>\n      <td>20150526</td>\n      <td>4-20090412-3</td>\n    </tr>\n    <tr>\n      <th>938</th>\n      <td>CS028213000058</td>\n      <td>Mayuko Terashima</td>\n      <td>1</td>\n      <td>Male</td>\n      <td>1997-12-17</td>\n      <td>21</td>\n      <td>246-0025</td>\n      <td>Akuwanishi, Seya -ku, Yokohama -shi, Kanagawa</td>\n      <td>S14028</td>\n      <td>20180806</td>\n      <td>0-00000000-0</td>\n    </tr>\n  </tbody>\n</table>\n</div>"
     },
     "execution_count": 36,
     "metadata": {},
     "output_type": "execute_result"
    }
   ],
   "source": [
    "df_customer.sort_values('birth_day', ascending=False).head(10)"
   ]
  },
  {
   "cell_type": "markdown",
   "metadata": {},
   "source": [
    "---\n",
    "> P-019: For the receipt details data (df_receipt), rank the items in descending order by sales amount per item (amount), and display the top 10 rows with the assigned rank. The columns to display are customer ID (customer_id) and sales amount (amount). In the case of ties in sales amount, assign the same rank and skip the next rank."
   ]
  },
  {
   "cell_type": "code",
   "execution_count": null,
   "metadata": {
    "ExecuteTime": {
     "start_time": "2024-09-05T10:43:45.501431400Z"
    }
   },
   "outputs": [],
   "source": []
  },
  {
   "cell_type": "markdown",
   "metadata": {},
   "source": [
    "---\n",
    "> P-020: For the receipt details data (df_receipt), rank the items in descending order by sales amount per item (amount), and display the top 10 rows with the assigned rank. The columns to display are customer ID (customer_id) and sales amount (amount). In the case of ties in sales amount, assign the same rank but give the next rank to the following item."
   ]
  },
  {
   "cell_type": "code",
   "execution_count": null,
   "metadata": {
    "ExecuteTime": {
     "start_time": "2024-09-05T10:43:45.501431400Z"
    }
   },
   "outputs": [],
   "source": []
  },
  {
   "cell_type": "markdown",
   "metadata": {},
   "source": [
    "---\n",
    "> P-021: Count the number of items in the receipt details data (df_receipt)."
   ]
  },
  {
   "cell_type": "code",
   "execution_count": null,
   "metadata": {
    "ExecuteTime": {
     "start_time": "2024-09-05T10:43:45.505592700Z"
    }
   },
   "outputs": [],
   "source": []
  },
  {
   "cell_type": "markdown",
   "metadata": {},
   "source": [
    "---\n",
    "> P-022: Count the number of unique values in the customer ID (customer_id) column in the receipt details data (df_receipt)."
   ]
  },
  {
   "cell_type": "code",
   "execution_count": null,
   "metadata": {
    "ExecuteTime": {
     "start_time": "2024-09-05T10:43:45.507613100Z"
    }
   },
   "outputs": [],
   "source": []
  },
  {
   "cell_type": "markdown",
   "metadata": {},
   "source": [
    "---\n",
    "> P-023: For the receipt details data (df_receipt), sum the sales amount (amount) and sales quantity (quantity) for each store code (store_cd)."
   ]
  },
  {
   "cell_type": "code",
   "execution_count": null,
   "metadata": {
    "ExecuteTime": {
     "start_time": "2024-09-05T10:43:45.508993300Z"
    }
   },
   "outputs": [],
   "source": []
  },
  {
   "cell_type": "markdown",
   "metadata": {},
   "source": [
    "---\n",
    "> P-024: For each customer ID (customer_id) in the receipt details data (df_receipt), find the most recent sales date (sales_ymd), and display the top 10 rows."
   ]
  },
  {
   "cell_type": "code",
   "execution_count": null,
   "metadata": {
    "ExecuteTime": {
     "start_time": "2024-09-05T10:43:45.511509100Z"
    }
   },
   "outputs": [],
   "source": []
  },
  {
   "cell_type": "markdown",
   "metadata": {},
   "source": [
    "---\n",
    "> P-025: For each customer ID (customer_id) in the receipt details data (df_receipt), find the oldest sales date (sales_ymd), and display the top 10 rows."
   ]
  },
  {
   "cell_type": "code",
   "execution_count": null,
   "metadata": {
    "ExecuteTime": {
     "start_time": "2024-09-05T10:43:45.513682Z"
    }
   },
   "outputs": [],
   "source": []
  },
  {
   "cell_type": "markdown",
   "metadata": {},
   "source": [
    "---\n",
    "> P-026: For each customer ID (customer_id) in the receipt details data (df_receipt), find the most recent and the oldest sales dates (sales_ymd), and display the top 10 rows where the gap is the smallest."
   ]
  },
  {
   "cell_type": "code",
   "execution_count": null,
   "metadata": {
    "ExecuteTime": {
     "start_time": "2024-09-05T10:43:45.515938300Z"
    }
   },
   "outputs": [],
   "source": []
  },
  {
   "cell_type": "markdown",
   "metadata": {},
   "source": [
    "---\n",
    "> P-027: For each store code (store_cd) in the receipt details data (df_receipt), calculate the average sales amount (amount), and display the top 5 in descending order."
   ]
  },
  {
   "cell_type": "code",
   "execution_count": null,
   "metadata": {
    "ExecuteTime": {
     "start_time": "2024-09-05T10:43:45.518290600Z"
    }
   },
   "outputs": [],
   "source": []
  },
  {
   "cell_type": "markdown",
   "metadata": {},
   "source": [
    "---\n",
    "> P-028: For each store code (store_cd) in the receipt details data (df_receipt), calculate the median sales amount (amount), and display the top 5 in descending order."
   ]
  },
  {
   "cell_type": "code",
   "execution_count": null,
   "metadata": {
    "ExecuteTime": {
     "start_time": "2024-09-05T10:43:45.518290600Z"
    }
   },
   "outputs": [],
   "source": []
  },
  {
   "cell_type": "markdown",
   "metadata": {},
   "source": [
    "---\n",
    "> P-029: For each store code (store_cd) in the receipt details data (df_receipt), find the most frequent product code (product_cd), and display the top 10."
   ]
  },
  {
   "cell_type": "code",
   "execution_count": null,
   "metadata": {
    "ExecuteTime": {
     "start_time": "2024-09-05T10:43:45.520399300Z"
    }
   },
   "outputs": [],
   "source": []
  },
  {
   "cell_type": "markdown",
   "metadata": {},
   "source": [
    "---\n",
    "> P-030: For each store code (store_cd) in the receipt details data (df_receipt), calculate the variance of the sales amount (amount), and display the top 5 in descending order."
   ]
  },
  {
   "cell_type": "code",
   "execution_count": 12,
   "metadata": {
    "ExecuteTime": {
     "end_time": "2024-09-08T09:59:23.818295Z",
     "start_time": "2024-09-08T09:59:23.623420600Z"
    }
   },
   "outputs": [
    {
     "data": {
      "text/plain": "   store_cd         amount\n28   S13052  440088.701311\n31   S14011  306314.558164\n42   S14034  296920.081011\n5    S13001  295431.993329\n12   S13015  295294.361116",
      "text/html": "<div>\n<style scoped>\n    .dataframe tbody tr th:only-of-type {\n        vertical-align: middle;\n    }\n\n    .dataframe tbody tr th {\n        vertical-align: top;\n    }\n\n    .dataframe thead th {\n        text-align: right;\n    }\n</style>\n<table border=\"1\" class=\"dataframe\">\n  <thead>\n    <tr style=\"text-align: right;\">\n      <th></th>\n      <th>store_cd</th>\n      <th>amount</th>\n    </tr>\n  </thead>\n  <tbody>\n    <tr>\n      <th>28</th>\n      <td>S13052</td>\n      <td>440088.701311</td>\n    </tr>\n    <tr>\n      <th>31</th>\n      <td>S14011</td>\n      <td>306314.558164</td>\n    </tr>\n    <tr>\n      <th>42</th>\n      <td>S14034</td>\n      <td>296920.081011</td>\n    </tr>\n    <tr>\n      <th>5</th>\n      <td>S13001</td>\n      <td>295431.993329</td>\n    </tr>\n    <tr>\n      <th>12</th>\n      <td>S13015</td>\n      <td>295294.361116</td>\n    </tr>\n  </tbody>\n</table>\n</div>"
     },
     "execution_count": 12,
     "metadata": {},
     "output_type": "execute_result"
    }
   ],
   "source": [
    "(\n",
    "    df_receipt.groupby('store_cd').amount.var(ddof=0).reset_index().sort_values('amount',ascending=False).head(5)\n",
    ")\n",
    "# Tham số ddof=0 có nghĩa là sử dụng mẫu đầy đủ (n) để tính phương sai, thay vì (n-1) mà là mặc định trong nhiều trường hợp tính phương sai mẫu\n"
   ]
  },
  {
   "cell_type": "markdown",
   "metadata": {},
   "source": [
    "---\n",
    "> P-031: For each store code (store_cd) in the receipt details data (df_receipt), calculate the standard deviation of the sales amount (amount), and display the top 5 in descending order."
   ]
  },
  {
   "cell_type": "markdown",
   "metadata": {},
   "source": [
    "TIPS:\n",
    "\n",
    "Pay attention to the default ddof value difference between Pandas and Numpy.\n",
    "```\n",
    "Pandas：\n",
    "DataFrame.std(self, axis=None, skipna=None, level=None, ddof=1, numeric_only=None, **kwargs)\n",
    "Numpy:\n",
    "numpy.std(a, axis=None, dtype=None, out=None, ddof=0, keepdims=)\n",
    "```"
   ]
  },
  {
   "cell_type": "code",
   "execution_count": 15,
   "metadata": {
    "ExecuteTime": {
     "end_time": "2024-09-08T10:03:15.998311200Z",
     "start_time": "2024-09-08T10:03:15.897245600Z"
    }
   },
   "outputs": [
    {
     "data": {
      "text/plain": "   store_cd      amount\n28   S13052  663.391816\n31   S14011  553.456916\n42   S14034  544.903736\n5    S13001  543.536561\n12   S13015  543.409938",
      "text/html": "<div>\n<style scoped>\n    .dataframe tbody tr th:only-of-type {\n        vertical-align: middle;\n    }\n\n    .dataframe tbody tr th {\n        vertical-align: top;\n    }\n\n    .dataframe thead th {\n        text-align: right;\n    }\n</style>\n<table border=\"1\" class=\"dataframe\">\n  <thead>\n    <tr style=\"text-align: right;\">\n      <th></th>\n      <th>store_cd</th>\n      <th>amount</th>\n    </tr>\n  </thead>\n  <tbody>\n    <tr>\n      <th>28</th>\n      <td>S13052</td>\n      <td>663.391816</td>\n    </tr>\n    <tr>\n      <th>31</th>\n      <td>S14011</td>\n      <td>553.456916</td>\n    </tr>\n    <tr>\n      <th>42</th>\n      <td>S14034</td>\n      <td>544.903736</td>\n    </tr>\n    <tr>\n      <th>5</th>\n      <td>S13001</td>\n      <td>543.536561</td>\n    </tr>\n    <tr>\n      <th>12</th>\n      <td>S13015</td>\n      <td>543.409938</td>\n    </tr>\n  </tbody>\n</table>\n</div>"
     },
     "execution_count": 15,
     "metadata": {},
     "output_type": "execute_result"
    }
   ],
   "source": [
    "(\n",
    "    df_receipt.groupby(\"store_cd\").amount.std(ddof=0).reset_index().sort_values('amount',ascending=False).head(5)\n",
    ")"
   ]
  },
  {
   "cell_type": "markdown",
   "metadata": {},
   "source": [
    "---\n",
    "> P-032: For the sales amount (amount) in the receipt details data (df_receipt), calculate the 25th and 75th percentile values."
   ]
  },
  {
   "cell_type": "code",
   "execution_count": 16,
   "metadata": {
    "ExecuteTime": {
     "end_time": "2024-09-08T10:08:36.654568600Z",
     "start_time": "2024-09-08T10:08:36.551739200Z"
    }
   },
   "outputs": [
    {
     "data": {
      "text/plain": "0.25      102.0\n0.50      170.0\n0.75      288.0\n1.00    10925.0\nName: amount, dtype: float64"
     },
     "execution_count": 16,
     "metadata": {},
     "output_type": "execute_result"
    }
   ],
   "source": [
    "\n",
    "df_receipt[\"amount\"].quantile(q=[0.25,0.5,0.75,1.0])"
   ]
  },
  {
   "cell_type": "markdown",
   "metadata": {},
   "source": [
    "---\n",
    "> P-033: For the receipt details data (df_receipt), calculate the average sales amount (amount) for each store code (store_cd), and extract those that are 330 or more."
   ]
  },
  {
   "cell_type": "code",
   "execution_count": 21,
   "metadata": {
    "ExecuteTime": {
     "end_time": "2024-09-08T10:13:03.930049800Z",
     "start_time": "2024-09-08T10:13:03.812948500Z"
    }
   },
   "outputs": [
    {
     "data": {
      "text/plain": "   store_cd        mean\n1    S12013  330.194130\n5    S13001  348.470386\n7    S13003  350.915519\n8    S13004  330.943949\n12   S13015  351.111960\n16   S13019  330.208616\n17   S13020  337.879932\n28   S13052  402.867470\n30   S14010  348.791262\n31   S14011  335.718333\n38   S14026  332.340588\n46   S14045  330.082073\n48   S14047  330.077073",
      "text/html": "<div>\n<style scoped>\n    .dataframe tbody tr th:only-of-type {\n        vertical-align: middle;\n    }\n\n    .dataframe tbody tr th {\n        vertical-align: top;\n    }\n\n    .dataframe thead th {\n        text-align: right;\n    }\n</style>\n<table border=\"1\" class=\"dataframe\">\n  <thead>\n    <tr style=\"text-align: right;\">\n      <th></th>\n      <th>store_cd</th>\n      <th>mean</th>\n    </tr>\n  </thead>\n  <tbody>\n    <tr>\n      <th>1</th>\n      <td>S12013</td>\n      <td>330.194130</td>\n    </tr>\n    <tr>\n      <th>5</th>\n      <td>S13001</td>\n      <td>348.470386</td>\n    </tr>\n    <tr>\n      <th>7</th>\n      <td>S13003</td>\n      <td>350.915519</td>\n    </tr>\n    <tr>\n      <th>8</th>\n      <td>S13004</td>\n      <td>330.943949</td>\n    </tr>\n    <tr>\n      <th>12</th>\n      <td>S13015</td>\n      <td>351.111960</td>\n    </tr>\n    <tr>\n      <th>16</th>\n      <td>S13019</td>\n      <td>330.208616</td>\n    </tr>\n    <tr>\n      <th>17</th>\n      <td>S13020</td>\n      <td>337.879932</td>\n    </tr>\n    <tr>\n      <th>28</th>\n      <td>S13052</td>\n      <td>402.867470</td>\n    </tr>\n    <tr>\n      <th>30</th>\n      <td>S14010</td>\n      <td>348.791262</td>\n    </tr>\n    <tr>\n      <th>31</th>\n      <td>S14011</td>\n      <td>335.718333</td>\n    </tr>\n    <tr>\n      <th>38</th>\n      <td>S14026</td>\n      <td>332.340588</td>\n    </tr>\n    <tr>\n      <th>46</th>\n      <td>S14045</td>\n      <td>330.082073</td>\n    </tr>\n    <tr>\n      <th>48</th>\n      <td>S14047</td>\n      <td>330.077073</td>\n    </tr>\n  </tbody>\n</table>\n</div>"
     },
     "execution_count": 21,
     "metadata": {},
     "output_type": "execute_result"
    }
   ],
   "source": [
    "(\n",
    "    df_receipt.groupby(\"store_cd\").agg(\n",
    "        mean = (\"amount\",\"mean\")\n",
    "    ).reset_index().query('mean >= 330')\n",
    ")"
   ]
  },
  {
   "cell_type": "markdown",
   "metadata": {},
   "source": [
    "---\n",
    "> P-034: For the receipt details data (df_receipt), calculate the average sales amount (amount) per customer ID (customer_id), and exclude the average sales amount per customer whose ID starts with \"Z\" from the overall average calculation."
   ]
  },
  {
   "cell_type": "code",
   "execution_count": 33,
   "metadata": {
    "ExecuteTime": {
     "end_time": "2024-09-08T10:20:28.783934400Z",
     "start_time": "2024-09-08T10:20:28.581686200Z"
    }
   },
   "outputs": [
    {
     "data": {
      "text/plain": "2547.742234529256"
     },
     "execution_count": 33,
     "metadata": {},
     "output_type": "execute_result"
    }
   ],
   "source": [
    "df_tmp = df_receipt.query(\" not customer_id.str.startswith('Z')\")\n",
    "\n",
    "df_tmp.groupby(\"customer_id\").amount.sum().mean()\n"
   ]
  },
  {
   "cell_type": "markdown",
   "metadata": {},
   "source": [
    "---\n",
    "> P-035: For the receipt details data (df_receipt), calculate the average sales amount (amount) per customer ID (customer_id), and extract the top 10 customers with above-average sales amounts. Exclude the average sales amount per customer whose ID starts with \"Z\" from the overall average calculation."
   ]
  },
  {
   "cell_type": "code",
   "execution_count": 38,
   "metadata": {
    "ExecuteTime": {
     "end_time": "2024-09-08T10:32:32.710963Z",
     "start_time": "2024-09-08T10:32:32.574446600Z"
    }
   },
   "outputs": [
    {
     "data": {
      "text/plain": "       customer_id  amount\n2   CS001115000010    3044\n4   CS001205000006    3337\n13  CS001214000009    4685\n14  CS001214000017    4132\n17  CS001214000052    5639\n21  CS001215000040    3496\n30  CS001304000006    3726\n32  CS001305000005    3485\n33  CS001305000011    4370\n53  CS001315000180    3300",
      "text/html": "<div>\n<style scoped>\n    .dataframe tbody tr th:only-of-type {\n        vertical-align: middle;\n    }\n\n    .dataframe tbody tr th {\n        vertical-align: top;\n    }\n\n    .dataframe thead th {\n        text-align: right;\n    }\n</style>\n<table border=\"1\" class=\"dataframe\">\n  <thead>\n    <tr style=\"text-align: right;\">\n      <th></th>\n      <th>customer_id</th>\n      <th>amount</th>\n    </tr>\n  </thead>\n  <tbody>\n    <tr>\n      <th>2</th>\n      <td>CS001115000010</td>\n      <td>3044</td>\n    </tr>\n    <tr>\n      <th>4</th>\n      <td>CS001205000006</td>\n      <td>3337</td>\n    </tr>\n    <tr>\n      <th>13</th>\n      <td>CS001214000009</td>\n      <td>4685</td>\n    </tr>\n    <tr>\n      <th>14</th>\n      <td>CS001214000017</td>\n      <td>4132</td>\n    </tr>\n    <tr>\n      <th>17</th>\n      <td>CS001214000052</td>\n      <td>5639</td>\n    </tr>\n    <tr>\n      <th>21</th>\n      <td>CS001215000040</td>\n      <td>3496</td>\n    </tr>\n    <tr>\n      <th>30</th>\n      <td>CS001304000006</td>\n      <td>3726</td>\n    </tr>\n    <tr>\n      <th>32</th>\n      <td>CS001305000005</td>\n      <td>3485</td>\n    </tr>\n    <tr>\n      <th>33</th>\n      <td>CS001305000011</td>\n      <td>4370</td>\n    </tr>\n    <tr>\n      <th>53</th>\n      <td>CS001315000180</td>\n      <td>3300</td>\n    </tr>\n  </tbody>\n</table>\n</div>"
     },
     "execution_count": 38,
     "metadata": {},
     "output_type": "execute_result"
    }
   ],
   "source": [
    "df_tmp_sum = df_receipt.query(\"not customer_id.str.startswith('Z')\").groupby(\"customer_id\").amount.sum()\n",
    "\n",
    "df_tmp_mean = df_tmp_sum.mean()\n",
    "\n",
    "df_tmp_sum.reset_index().query(\"amount >= @df_tmp_mean\").head(10)"
   ]
  },
  {
   "cell_type": "markdown",
   "metadata": {},
   "source": [
    "---\n",
    "> P-036: Merge the receipt details data (df_receipt) and the store data (df_store), and display 10 rows of all items, including the store name (store_name) from the store data."
   ]
  },
  {
   "cell_type": "code",
   "execution_count": null,
   "metadata": {
    "ExecuteTime": {
     "start_time": "2024-09-05T10:43:45.532899600Z"
    }
   },
   "outputs": [],
   "source": []
  },
  {
   "cell_type": "markdown",
   "metadata": {},
   "source": [
    "---\n",
    "> P-037: Merge the product data (df_product) and the category data (df_category), and display 10 rows of all items, including the category small name (category_small_name) from the category data."
   ]
  },
  {
   "cell_type": "code",
   "execution_count": null,
   "metadata": {
    "ExecuteTime": {
     "start_time": "2024-09-05T10:43:45.535491Z"
    }
   },
   "outputs": [],
   "source": []
  },
  {
   "cell_type": "markdown",
   "metadata": {},
   "source": [
    "---\n",
    "> P-038: From the customer data (df_customer) and the receipt details data (df_receipt), calculate the total sales amount for each customer and display the top 10. However, exclude customers without sales data and only display female customers (gender code (gender_cd) = 1)."
   ]
  },
  {
   "cell_type": "code",
   "execution_count": null,
   "metadata": {
    "ExecuteTime": {
     "start_time": "2024-09-05T10:43:45.535491Z"
    }
   },
   "outputs": [],
   "source": []
  },
  {
   "cell_type": "markdown",
   "metadata": {},
   "source": [
    "---\n",
    "> P-039: From the receipt details data (df_receipt), create a dataset of the top 20 customers with the highest number of sales transactions and another dataset of the top 20 customers with the highest total sales amount, then merge these two datasets to display the top 20. Exclude non-members (customer ID (customer_id) starting with \"Z\")."
   ]
  },
  {
   "cell_type": "code",
   "execution_count": null,
   "metadata": {
    "ExecuteTime": {
     "start_time": "2024-09-05T10:43:45.537947400Z"
    }
   },
   "outputs": [],
   "source": []
  },
  {
   "cell_type": "markdown",
   "metadata": {},
   "source": [
    "---\n",
    "> P-040: Create a dataset combining all products from all stores, and merge it with the store data (df_store) and product data (df_product)."
   ]
  },
  {
   "cell_type": "code",
   "execution_count": null,
   "metadata": {
    "ExecuteTime": {
     "start_time": "2024-09-05T10:43:45.539455300Z"
    }
   },
   "outputs": [],
   "source": []
  },
  {
   "cell_type": "markdown",
   "metadata": {},
   "source": [
    "---\n",
    "> P-041: For the sales amount (amount) in the receipt details data (df_receipt), calculate the difference in sales amount for each sales date (sales_ymd) compared to the previous day, then display the top 10 results."
   ]
  },
  {
   "cell_type": "code",
   "execution_count": null,
   "metadata": {
    "ExecuteTime": {
     "start_time": "2024-09-05T10:43:45.541401700Z"
    }
   },
   "outputs": [],
   "source": []
  },
  {
   "cell_type": "markdown",
   "metadata": {},
   "source": [
    "---\n",
    "> P-042: For the sales amount (amount) in the receipt details data (df_receipt), calculate the difference in sales amount for each sales date (sales_ymd) compared to the previous day, two days before, and three days before, then display the top 10 results."
   ]
  },
  {
   "cell_type": "code",
   "execution_count": null,
   "metadata": {
    "ExecuteTime": {
     "start_time": "2024-09-05T10:43:45.543552600Z"
    }
   },
   "outputs": [],
   "source": []
  },
  {
   "cell_type": "markdown",
   "metadata": {},
   "source": [
    "---\n",
    "> P-043: Merge the receipt details data (df_receipt) and customer data (df_customer), and create a summary dataset of total sales amount (amount) by gender code (gender_cd) and age group. Gender code 0 indicates male, 1 indicates female, and 9 indicates unknown. Display the total sales amount for each gender and age group, as well as a crosstabulation of gender and age group. Also, display the top 10 rows."
   ]
  },
  {
   "cell_type": "code",
   "execution_count": null,
   "metadata": {
    "ExecuteTime": {
     "start_time": "2024-09-05T10:43:45.543552600Z"
    }
   },
   "outputs": [],
   "source": []
  },
  {
   "cell_type": "markdown",
   "metadata": {},
   "source": [
    "---\n",
    "> P-044: The summary dataset created in P-043 (df_sales_summary) shows the total sales amount by gender and age group. Change the gender code values to \"00\" for male, \"01\" for female, and \"99\" for unknown, then display the top 10 rows."
   ]
  },
  {
   "cell_type": "code",
   "execution_count": null,
   "metadata": {
    "ExecuteTime": {
     "start_time": "2024-09-05T10:43:45.545568500Z"
    }
   },
   "outputs": [],
   "source": []
  },
  {
   "cell_type": "markdown",
   "metadata": {},
   "source": [
    "---\n",
    "> P-045: The birth date (birth_day) in the customer data (df_customer) is stored as date type data. Convert this to a string in the format YYYYMMDD and display it along with the customer ID (customer_id), showing the top 10 rows."
   ]
  },
  {
   "cell_type": "code",
   "execution_count": null,
   "metadata": {
    "ExecuteTime": {
     "start_time": "2024-09-05T10:43:45.545568500Z"
    }
   },
   "outputs": [],
   "source": []
  },
  {
   "cell_type": "markdown",
   "metadata": {},
   "source": [
    "---\n",
    "> P-046: The application date (application_date) in the customer data (df_customer) is stored as a string in the format YYYYMMDD. Convert this to date type data and display it along with the customer ID (customer_id), showing the top 10 rows."
   ]
  },
  {
   "cell_type": "code",
   "execution_count": null,
   "metadata": {
    "ExecuteTime": {
     "start_time": "2024-09-05T10:43:45.545568500Z"
    }
   },
   "outputs": [],
   "source": []
  },
  {
   "cell_type": "markdown",
   "metadata": {},
   "source": [
    "---\n",
    "> P-047: The sales date (sales_ymd) in the receipt details data (df_receipt) is stored as an integer in the format YYYYMMDD. Convert this to date type data and display it along with the receipt number (receipt_no) and receipt sub-number (receipt_sub_no), showing the top 10 rows."
   ]
  },
  {
   "cell_type": "code",
   "execution_count": null,
   "metadata": {
    "ExecuteTime": {
     "start_time": "2024-09-05T10:43:45.550597Z"
    }
   },
   "outputs": [],
   "source": []
  },
  {
   "cell_type": "markdown",
   "metadata": {},
   "source": [
    "---\n",
    "> P-048: The sales epoch (sales_epoch) in the receipt details data (df_receipt) is stored as integer UNIX seconds. Convert this to date type data and display it along with the receipt number (receipt_no) and receipt sub-number (receipt_sub_no), showing the top 10 rows."
   ]
  },
  {
   "cell_type": "code",
   "execution_count": null,
   "metadata": {
    "ExecuteTime": {
     "start_time": "2024-09-05T10:43:45.550597Z"
    }
   },
   "outputs": [],
   "source": []
  },
  {
   "cell_type": "markdown",
   "metadata": {},
   "source": [
    "---\n",
    "> P-049: Convert the sales epoch (sales_epoch) in the receipt details data (df_receipt) to date type data and extract only the \"year\". Display this along with the receipt number (receipt_no) and receipt sub-number (receipt_sub_no), showing the top 10 rows."
   ]
  },
  {
   "cell_type": "code",
   "execution_count": null,
   "metadata": {
    "ExecuteTime": {
     "start_time": "2024-09-05T10:43:45.550597Z"
    }
   },
   "outputs": [],
   "source": []
  },
  {
   "cell_type": "markdown",
   "metadata": {},
   "source": [
    "---\n",
    "> P-050: Convert the sales epoch (sales_epoch) in the receipt details data (df_receipt) to date type data and extract only the \"month\". Display this along with the receipt number (receipt_no) and receipt sub-number (receipt_sub_no), showing the top 10 rows. Note that \"month\" should be extracted as a 2-digit number."
   ]
  },
  {
   "cell_type": "code",
   "execution_count": null,
   "metadata": {
    "ExecuteTime": {
     "start_time": "2024-09-05T10:43:45.550597Z"
    }
   },
   "outputs": [],
   "source": []
  },
  {
   "cell_type": "markdown",
   "metadata": {},
   "source": [
    "---\n",
    "> P-051: Convert the sales epoch (sales_epoch) in the receipt details data (df_receipt) to date type data and extract only the \"day\". Display this along with the receipt number (receipt_no) and receipt sub-number (receipt_sub_no), showing the top 10 rows. Note that \"day\" should be extracted as a 2-digit number."
   ]
  },
  {
   "cell_type": "code",
   "execution_count": null,
   "metadata": {
    "ExecuteTime": {
     "start_time": "2024-09-05T10:43:45.555606500Z"
    }
   },
   "outputs": [],
   "source": []
  },
  {
   "cell_type": "markdown",
   "metadata": {},
   "source": [
    "---\n",
    "> P-052: For the receipt details data (df_receipt), calculate the total sales amount (amount) for each customer ID (customer_id). If the total is 2,000 yen or less, double the amount; if it is more than 2,000 yen, halve the amount. Display the customer ID and the calculated sales amount, showing the top 10 rows. Exclude customers whose ID starts with \"Z\"."
   ]
  },
  {
   "cell_type": "code",
   "execution_count": null,
   "metadata": {
    "ExecuteTime": {
     "start_time": "2024-09-05T10:43:45.555686200Z"
    }
   },
   "outputs": [],
   "source": []
  },
  {
   "cell_type": "markdown",
   "metadata": {},
   "source": [
    "---\n",
    "> P-053: For the customer data (df_customer), reclassify the postal code (postal_cd) into two categories: \"Tokyo\" (if the first three digits are between 100 and 209) and \"Other\". Merge this with the receipt details data (df_receipt) and count the number of customers with sales records within each category."
   ]
  },
  {
   "cell_type": "code",
   "execution_count": null,
   "metadata": {
    "ExecuteTime": {
     "start_time": "2024-09-05T10:43:45.555686200Z"
    }
   },
   "outputs": [],
   "source": []
  },
  {
   "cell_type": "markdown",
   "metadata": {},
   "source": [
    "---\n",
    "> P-054: The address (address) in the customer data (df_customer) contains prefectures such as Saitama, Chiba, Tokyo, and Kanagawa. Create a code table for these prefectures and display it along with the customer ID and address, showing the top 10 rows. Assign Saitama a code of 11, Chiba 12, Tokyo 13, and Kanagawa 14."
   ]
  },
  {
   "cell_type": "code",
   "execution_count": null,
   "metadata": {
    "ExecuteTime": {
     "start_time": "2024-09-05T10:43:45.555686200Z"
    }
   },
   "outputs": [],
   "source": []
  },
  {
   "cell_type": "markdown",
   "metadata": {},
   "source": [
    "---\n",
    "> P-055: For the receipt details data (df_receipt), calculate the total sales amount (amount) for each customer ID (customer_id) and determine its quartile rank. Based on the quartile rank, create a category with the following values and display the customer ID and total sales amount, showing the top 10 rows:\n",
    "> - 1: Bottom quartile (0-25%)\n",
    "> - 2: Second quartile (25-50%)\n",
    "> - 3: Third quartile (50-75%)\n",
    "> - 4: Top quartile (75-100%)"
   ]
  },
  {
   "cell_type": "code",
   "execution_count": null,
   "metadata": {
    "ExecuteTime": {
     "start_time": "2024-09-05T10:43:45.560699600Z"
    }
   },
   "outputs": [],
   "source": []
  },
  {
   "cell_type": "markdown",
   "metadata": {},
   "source": [
    "---\n",
    "> P-056: Extract the age (age) from the customer data (df_customer) and classify it into age groups by decade. Display the customer ID and birth date (birth_day), showing the top 10 rows. Treat customers aged 60 and above as a single category of \"60+\". The age category should be labeled."
   ]
  },
  {
   "cell_type": "code",
   "execution_count": null,
   "metadata": {
    "ExecuteTime": {
     "start_time": "2024-09-05T10:43:45.560699600Z"
    }
   },
   "outputs": [],
   "source": []
  },
  {
   "cell_type": "markdown",
   "metadata": {},
   "source": [
    "---\n",
    "> P-057: Using the extracted age groups and gender code (gender_cd) from P-056, create a new categorical dataset representing the combination of age group and gender. Display the top 10 rows and list the unique values of the combined category."
   ]
  },
  {
   "cell_type": "code",
   "execution_count": null,
   "metadata": {
    "ExecuteTime": {
     "start_time": "2024-09-05T10:43:45.565707200Z"
    }
   },
   "outputs": [],
   "source": []
  },
  {
   "cell_type": "markdown",
   "metadata": {},
   "source": [
    "---\n",
    "> P-058: P-058: Convert the gender code (gender_cd) in the customer data (df_customer) to dummy variables and display it along with the customer ID (customer_id), showing the top 10 rows."
   ]
  },
  {
   "cell_type": "code",
   "execution_count": 15,
   "metadata": {
    "ExecuteTime": {
     "end_time": "2024-09-05T10:43:53.146704500Z",
     "start_time": "2024-09-05T10:43:45.565707200Z"
    }
   },
   "outputs": [],
   "source": []
  },
  {
   "cell_type": "markdown",
   "metadata": {},
   "source": [
    "---\n",
    "> P-059: For the receipt details data (df_receipt), calculate the average, standard deviation, and coefficient of variation of the total sales amount (amount) for each customer ID (customer_id), and display the top 10 rows along with the customer ID and total sales amount. Use either the population standard deviation or the sample standard deviation. Exclude customers whose ID starts with \"Z\"."
   ]
  },
  {
   "cell_type": "markdown",
   "metadata": {},
   "source": [
    "TIPS:\n",
    "- You can specify \"python\" or \"numexpr\" as the query engine in the argument of the query() method. The default is \"numexpr\" if installed, otherwise \"python\" is used. Additionally, the string method engine='python' cannot be used within query().\n"
   ]
  },
  {
   "cell_type": "code",
   "execution_count": 15,
   "metadata": {
    "ExecuteTime": {
     "end_time": "2024-09-05T10:43:53.250532400Z",
     "start_time": "2024-09-05T10:43:45.580925900Z"
    }
   },
   "outputs": [],
   "source": []
  },
  {
   "cell_type": "markdown",
   "metadata": {},
   "source": [
    "---\n",
    "> P-060: For the receipt details data (df_receipt), calculate the minimum and maximum total sales amount (amount) for each customer ID (customer_id), and normalize these values. Display the top 10 rows along with the customer ID and total sales amount. Exclude customers whose ID starts with \"Z\"."
   ]
  },
  {
   "cell_type": "code",
   "execution_count": 15,
   "metadata": {
    "ExecuteTime": {
     "end_time": "2024-09-05T10:43:53.334177500Z",
     "start_time": "2024-09-05T10:43:45.599555400Z"
    }
   },
   "outputs": [],
   "source": []
  },
  {
   "cell_type": "markdown",
   "metadata": {},
   "source": [
    "---\n",
    "> P-061: For the receipt details data (df_receipt), calculate the total sales amount (amount) for each customer ID (customer_id), and apply the natural logarithm transformation (base 10). Display the top 10 rows along with the customer ID and total sales amount. Exclude customers whose ID starts with \"Z\"."
   ]
  },
  {
   "cell_type": "code",
   "execution_count": 15,
   "metadata": {
    "ExecuteTime": {
     "end_time": "2024-09-05T10:43:53.389496800Z",
     "start_time": "2024-09-05T10:43:45.623546200Z"
    }
   },
   "outputs": [],
   "source": []
  },
  {
   "cell_type": "markdown",
   "metadata": {},
   "source": [
    "---\n",
    "> P-062: For the receipt details data (df_receipt), calculate the total sales amount (amount) for each customer ID (customer_id), and apply the natural logarithm transformation (base e). Display the top 10 rows along with the customer ID and total sales amount. Exclude customers whose ID starts with \"Z\"."
   ]
  },
  {
   "cell_type": "code",
   "execution_count": 15,
   "metadata": {
    "ExecuteTime": {
     "end_time": "2024-09-05T10:43:53.461595600Z",
     "start_time": "2024-09-05T10:43:45.643197300Z"
    }
   },
   "outputs": [],
   "source": []
  },
  {
   "cell_type": "markdown",
   "metadata": {},
   "source": [
    "---\n",
    "> P-063: For the product data (df_product), calculate the gross profit for each product using the unit price (unit_price) and unit cost (unit_cost), and display the top 10 rows."
   ]
  },
  {
   "cell_type": "code",
   "execution_count": 15,
   "metadata": {
    "ExecuteTime": {
     "end_time": "2024-09-05T10:43:53.545753500Z",
     "start_time": "2024-09-05T10:43:45.660067300Z"
    }
   },
   "outputs": [],
   "source": []
  },
  {
   "cell_type": "markdown",
   "metadata": {},
   "source": [
    "---\n",
    "> P-064: For each product in the product data (df_product), calculate the average gross profit margin using the unit price (unit_price) and unit cost (unit_cost). Note that the unit price and unit cost may have missing values."
   ]
  },
  {
   "cell_type": "code",
   "execution_count": 15,
   "metadata": {
    "ExecuteTime": {
     "end_time": "2024-09-05T10:43:53.605628100Z",
     "start_time": "2024-09-05T10:43:45.681273100Z"
    }
   },
   "outputs": [],
   "source": []
  },
  {
   "cell_type": "markdown",
   "metadata": {},
   "source": [
    "---\n",
    "> P-065: For each product in the product data (df_product), calculate the new unit price that achieves a gross profit margin of 30%. Round down to the nearest yen. Display the top 10 results and confirm that the gross profit margin is approximately 30%. Note that the unit price (unit_price) and unit cost (unit_cost) may have missing values."
   ]
  },
  {
   "cell_type": "code",
   "execution_count": 15,
   "metadata": {
    "ExecuteTime": {
     "end_time": "2024-09-05T10:43:53.709378600Z",
     "start_time": "2024-09-05T10:43:45.700101100Z"
    }
   },
   "outputs": [],
   "source": []
  },
  {
   "cell_type": "markdown",
   "metadata": {},
   "source": [
    "---\n",
    "> P-066: For each product in the product data (df_product), calculate the new unit price that achieves a gross profit margin of 30%. This time, round up to the nearest yen (ceil). Display the top 10 results and confirm that the gross profit margin is approximately 30%. Note that the unit price (unit_price) and unit cost (unit_cost) may have missing values."
   ]
  },
  {
   "cell_type": "code",
   "execution_count": 15,
   "metadata": {
    "ExecuteTime": {
     "end_time": "2024-09-05T10:43:53.795898500Z",
     "start_time": "2024-09-05T10:43:45.730507500Z"
    }
   },
   "outputs": [],
   "source": []
  },
  {
   "cell_type": "markdown",
   "metadata": {},
   "source": [
    "---\n",
    "> P-067: For each product in the product data (df_product), calculate the new unit price that achieves a gross profit margin of 30%. This time, round up to the nearest yen. Display the top 10 results and confirm that the gross profit margin is approximately 30%. Note that the unit price (unit_price) and unit cost (unit_cost) may have missing values."
   ]
  },
  {
   "cell_type": "code",
   "execution_count": 15,
   "metadata": {
    "ExecuteTime": {
     "end_time": "2024-09-05T10:43:53.875627Z",
     "start_time": "2024-09-05T10:43:45.746140700Z"
    }
   },
   "outputs": [],
   "source": []
  },
  {
   "cell_type": "markdown",
   "metadata": {},
   "source": [
    "---\n",
    "> P-068: For each product in the product data (df_product), calculate the price including a 10% consumption tax. Round down to the nearest yen and display the top 10 results. Note that the unit price (unit_price) may have missing values."
   ]
  },
  {
   "cell_type": "code",
   "execution_count": 15,
   "metadata": {
    "ExecuteTime": {
     "end_time": "2024-09-05T10:43:54.002156700Z",
     "start_time": "2024-09-05T10:43:45.768298900Z"
    }
   },
   "outputs": [],
   "source": []
  },
  {
   "cell_type": "markdown",
   "metadata": {},
   "source": [
    "---\n",
    "> P-069: Merge the receipt details data (df_receipt) and the product data (df_product), then calculate the total sales amount for each customer annually. Calculate the percentage of sales for the category major code (category_major_cd) \"07\" (Household appliances) and display the top 10 results. The extraction target is the category major code \"07\"."
   ]
  },
  {
   "cell_type": "code",
   "execution_count": 15,
   "metadata": {
    "ExecuteTime": {
     "end_time": "2024-09-05T10:43:54.065501700Z",
     "start_time": "2024-09-05T10:43:45.784499Z"
    }
   },
   "outputs": [],
   "source": []
  },
  {
   "cell_type": "markdown",
   "metadata": {},
   "source": [
    "---\n",
    "> P-070: For the receipt details data (df_receipt), calculate the number of elapsed days from the application date (application_date) of the customer data (df_customer) for each sales date (sales_ymd). Display the customer ID (customer_id), sales date, and elapsed days along with the application date, showing the top 10 rows. Note that the application date is stored as a string."
   ]
  },
  {
   "cell_type": "code",
   "execution_count": 15,
   "metadata": {
    "ExecuteTime": {
     "end_time": "2024-09-05T10:43:54.148272800Z",
     "start_time": "2024-09-05T10:43:45.799223200Z"
    }
   },
   "outputs": [],
   "source": []
  },
  {
   "cell_type": "markdown",
   "metadata": {},
   "source": [
    "---\n",
    "> P-071: For the receipt details data (df_receipt), calculate the number of elapsed months from the application date (application_date) in the customer data (df_customer) for each sales date (sales_ymd). Display the customer ID (customer_id), sales date, application date, and elapsed months along with the top 10 rows. Note that sales_ymd is stored as an integer."
   ]
  },
  {
   "cell_type": "code",
   "execution_count": 15,
   "metadata": {
    "ExecuteTime": {
     "end_time": "2024-09-05T10:43:54.209100400Z",
     "start_time": "2024-09-05T10:43:45.813792400Z"
    }
   },
   "outputs": [],
   "source": []
  },
  {
   "cell_type": "markdown",
   "metadata": {},
   "source": [
    "---\n",
    "> P-072: For the receipt details data (df_receipt), calculate the number of elapsed years from the application date (application_date) in the customer data (df_customer) for each sales date (sales_ymd). Display the customer ID (customer_id), sales date, application date, and elapsed years along with the top 10 rows. Note that sales_ymd is stored as an integer."
   ]
  },
  {
   "cell_type": "code",
   "execution_count": 15,
   "metadata": {
    "ExecuteTime": {
     "end_time": "2024-09-05T10:43:54.289113400Z",
     "start_time": "2024-09-05T10:43:45.829373700Z"
    }
   },
   "outputs": [],
   "source": []
  },
  {
   "cell_type": "markdown",
   "metadata": {},
   "source": [
    "---\n",
    "> P-073: For the receipt details data (df_receipt), calculate the elapsed time in epochs from the application date (application_date) in the customer data (df_customer) for each sales date (sales_ymd). Display the customer ID (customer_id), sales date, application date, and elapsed time in epochs along with the top 10 rows. Note that sales_ymd and application_date are stored as integers. Also, assume that the default time for dates without a time component is 00:00:00."
   ]
  },
  {
   "cell_type": "code",
   "execution_count": 15,
   "metadata": {
    "ExecuteTime": {
     "end_time": "2024-09-05T10:43:54.383411100Z",
     "start_time": "2024-09-05T10:43:45.844411600Z"
    }
   },
   "outputs": [],
   "source": []
  },
  {
   "cell_type": "markdown",
   "metadata": {},
   "source": [
    "---\n",
    "> P-074: For the receipt details data (df_receipt), calculate the number of elapsed months from the current month to each sales date (sales_ymd). Display the sales date, current month, and elapsed months along with the top 10 rows. Note that sales_ymd is stored as an integer."
   ]
  },
  {
   "cell_type": "code",
   "execution_count": 15,
   "metadata": {
    "ExecuteTime": {
     "end_time": "2024-09-05T10:43:54.468552900Z",
     "start_time": "2024-09-05T10:43:45.860928700Z"
    }
   },
   "outputs": [],
   "source": []
  },
  {
   "cell_type": "markdown",
   "metadata": {},
   "source": [
    "---\n",
    "> P-075: Randomly sample 1% of the data from the customer data (df_customer) and display the top 10 rows."
   ]
  },
  {
   "cell_type": "code",
   "execution_count": 15,
   "metadata": {
    "ExecuteTime": {
     "end_time": "2024-09-05T10:43:54.550361300Z",
     "start_time": "2024-09-05T10:43:45.875564100Z"
    }
   },
   "outputs": [],
   "source": []
  },
  {
   "cell_type": "markdown",
   "metadata": {},
   "source": [
    "---\n",
    "> P-076: Randomly sample 10% of the data from the customer data (df_customer) by gender (gender_cd), and display the frequency count for each gender."
   ]
  },
  {
   "cell_type": "code",
   "execution_count": 15,
   "metadata": {
    "ExecuteTime": {
     "end_time": "2024-09-05T10:43:54.635724900Z",
     "start_time": "2024-09-05T10:43:45.891761500Z"
    }
   },
   "outputs": [],
   "source": []
  },
  {
   "cell_type": "markdown",
   "metadata": {},
   "source": [
    "---\n",
    "> P-077: For the receipt details data (df_receipt), calculate the sales amount per transaction, identify and extract outliers, and calculate the average and standard deviation for the remaining transactions. Consider values that are more than 3 standard deviations away from the average as outliers. Display the results and the top 10 rows."
   ]
  },
  {
   "cell_type": "code",
   "execution_count": 15,
   "metadata": {
    "ExecuteTime": {
     "end_time": "2024-09-05T10:43:54.720454800Z",
     "start_time": "2024-09-05T10:43:45.906869400Z"
    }
   },
   "outputs": [],
   "source": []
  },
  {
   "cell_type": "markdown",
   "metadata": {},
   "source": [
    "---\n",
    "> P-078: For the receipt details data (df_receipt), calculate the sales amount (amount) per transaction and identify outliers. Exclude non-members whose customer ID starts with \"Z\" from the calculation. Use the IQR method to identify outliers, defined as values greater than Q3 + 1.5 * IQR or less than Q1 - 1.5 * IQR. Display the results and the top 10 rows."
   ]
  },
  {
   "cell_type": "code",
   "execution_count": 15,
   "metadata": {
    "ExecuteTime": {
     "end_time": "2024-09-05T10:43:54.850740800Z",
     "start_time": "2024-09-05T10:43:45.923683800Z"
    }
   },
   "outputs": [],
   "source": []
  },
  {
   "cell_type": "markdown",
   "metadata": {},
   "source": [
    "---\n",
    "> P-079: For the product data (df_product), check for missing values in each item."
   ]
  },
  {
   "cell_type": "code",
   "execution_count": 15,
   "metadata": {
    "ExecuteTime": {
     "end_time": "2024-09-05T10:43:54.951722300Z",
     "start_time": "2024-09-05T10:43:45.937793900Z"
    }
   },
   "outputs": [],
   "source": []
  },
  {
   "cell_type": "markdown",
   "metadata": {},
   "source": [
    "---\n",
    "> P-080: For the product data (df_product), create a new dataset by removing records with missing values in any of the items. Confirm that there are no missing values left by verifying the count of records before and after the operation performed in P-079."
   ]
  },
  {
   "cell_type": "code",
   "execution_count": 15,
   "metadata": {
    "ExecuteTime": {
     "end_time": "2024-09-05T10:43:55.035799300Z",
     "start_time": "2024-09-05T10:43:45.952910800Z"
    }
   },
   "outputs": [],
   "source": []
  },
  {
   "cell_type": "markdown",
   "metadata": {},
   "source": [
    "---\n",
    "> P-081: For the product data (df_product), impute missing values in unit price (unit_price) and unit cost (unit_cost) with their respective means, and create a new dataset. Round up the means to the nearest yen if necessary. After imputation, confirm that there are no missing values in any of the items."
   ]
  },
  {
   "cell_type": "code",
   "execution_count": 15,
   "metadata": {
    "ExecuteTime": {
     "end_time": "2024-09-05T10:43:55.172860500Z",
     "start_time": "2024-09-05T10:43:45.969377100Z"
    }
   },
   "outputs": [],
   "source": []
  },
  {
   "cell_type": "markdown",
   "metadata": {
    "tags": []
   },
   "source": [
    "---\n",
    "> P-082: For the product data (df_product), impute missing values in unit price (unit_price) and unit cost (unit_cost) with their respective medians, and create a new dataset. Round up the medians to the nearest yen if necessary. After imputation, confirm that there are no missing values in any of the items."
   ]
  },
  {
   "cell_type": "code",
   "execution_count": 15,
   "metadata": {
    "ExecuteTime": {
     "end_time": "2024-09-05T10:43:55.288438Z",
     "start_time": "2024-09-05T10:43:45.983469200Z"
    }
   },
   "outputs": [],
   "source": []
  },
  {
   "cell_type": "markdown",
   "metadata": {},
   "source": [
    "---\n",
    "> P-083: For the product data (df_product), impute missing values in unit price (unit_price) and unit cost (unit_cost) by the median of each product's category small code (category_small_cd), and create a new dataset. Round up the medians to the nearest yen if necessary. After imputation, confirm that there are no missing values in any of the items."
   ]
  },
  {
   "cell_type": "code",
   "execution_count": 15,
   "metadata": {
    "ExecuteTime": {
     "end_time": "2024-09-05T10:43:55.375911100Z",
     "start_time": "2024-09-05T10:43:45.998979Z"
    }
   },
   "outputs": [],
   "source": []
  },
  {
   "cell_type": "markdown",
   "metadata": {},
   "source": [
    "---\n",
    "> P-084: For the customer data (df_customer), calculate the total sales amount by occupation and the proportion of sales in 2019. Create a new dataset with these values, assuming no sales information exists if data is missing. Extract the proportion of sales and display the top 10 rows. Additionally, check for any missing values in the newly created data."
   ]
  },
  {
   "cell_type": "code",
   "execution_count": 15,
   "metadata": {
    "ExecuteTime": {
     "end_time": "2024-09-05T10:43:55.476845400Z",
     "start_time": "2024-09-05T10:43:46.013590700Z"
    }
   },
   "outputs": [],
   "source": []
  },
  {
   "cell_type": "markdown",
   "metadata": {},
   "source": [
    "---\n",
    "> P-085: For the customer data (df_customer), create new data by adding latitude and longitude coordinates for each postal code (postal_cd) using a geocode table (df_geocode). If a postal code has multiple coordinates, use the average latitude and longitude values. Display the top 10 rows to verify the results."
   ]
  },
  {
   "cell_type": "code",
   "execution_count": 15,
   "metadata": {
    "ExecuteTime": {
     "end_time": "2024-09-05T10:43:55.565258200Z",
     "start_time": "2024-09-05T10:43:46.033045700Z"
    }
   },
   "outputs": [],
   "source": []
  },
  {
   "cell_type": "markdown",
   "metadata": {},
   "source": [
    "---\n",
    "> P-086: Using the data created in P-085, combine it with the store data (df_store) based on the application store code (application_store_cd) to create a new dataset. Calculate the distance between the customer's address (latitude, longitude) and the store's address (latitude, longitude) for each application store and display the top 10 rows. You can use a library for distance calculation if necessary.\n",
    "\n",
    "$$\n",
    "\\mbox{緯度（ラジアン）}：\\phi \\\\\n",
    "\\mbox{経度（ラジアン）}：\\lambda \\\\\n",
    "\\mbox{距離}L = 6371 * \\arccos(\\sin \\phi_1 * \\sin \\phi_2\n",
    "+ \\cos \\phi_1 * \\cos \\phi_2 * \\cos(\\lambda_1 − \\lambda_2))\n",
    "$$"
   ]
  },
  {
   "cell_type": "code",
   "execution_count": 15,
   "metadata": {
    "ExecuteTime": {
     "end_time": "2024-09-05T10:43:55.630656500Z",
     "start_time": "2024-09-05T10:43:46.046672300Z"
    }
   },
   "outputs": [],
   "source": []
  },
  {
   "cell_type": "markdown",
   "metadata": {},
   "source": [
    "---\n",
    "> P-087: In the customer data (df_customer), there are cases where the same customer is registered at different stores under slightly different names or addresses. Create a new dataset by consolidating records where the customer name (customer_name) and postal code (postal_cd) are considered the same if they match exactly. In cases where there are discrepancies, prioritize the record with the higher total sales amount, or if sales amounts are equal, prioritize the record with the smaller customer ID."
   ]
  },
  {
   "cell_type": "code",
   "execution_count": 15,
   "metadata": {
    "ExecuteTime": {
     "end_time": "2024-09-05T10:43:55.709819900Z",
     "start_time": "2024-09-05T10:43:46.062697900Z"
    }
   },
   "outputs": [],
   "source": []
  },
  {
   "cell_type": "markdown",
   "metadata": {},
   "source": [
    "---\n",
    "> P-088: Using the data created in P-087, create a new dataset with consolidated customer data according to the following specifications:\n",
    "> - Retain only the customer ID (customer_id).\n",
    "> - For duplicate records, use the receipt number (receipt_no) from the previous extracted receipt record.\n",
    "> - Ensure the uniqueness of the customer ID in the new dataset."
   ]
  },
  {
   "cell_type": "code",
   "execution_count": 15,
   "metadata": {
    "ExecuteTime": {
     "end_time": "2024-09-05T10:43:55.808221700Z",
     "start_time": "2024-09-05T10:43:46.076532300Z"
    }
   },
   "outputs": [],
   "source": []
  },
  {
   "cell_type": "markdown",
   "metadata": {},
   "source": [
    "---\n",
    "> P-089: Split the receipt data (df_receipt) into training and test datasets for predictive modeling. Use an 80:20 ratio for the split."
   ]
  },
  {
   "cell_type": "code",
   "execution_count": 15,
   "metadata": {
    "ExecuteTime": {
     "end_time": "2024-09-05T10:43:55.880869Z",
     "start_time": "2024-09-05T10:43:46.091086Z"
    }
   },
   "outputs": [],
   "source": []
  },
  {
   "cell_type": "markdown",
   "metadata": {},
   "source": [
    "---\n",
    "> P-090: For the receipt details data (df_receipt), extract data from January 1, 2017, to October 31, 2019. Create three sets of monthly sequential sales data: 12 months for training, 6 months for testing, and 6 months for validation."
   ]
  },
  {
   "cell_type": "code",
   "execution_count": 15,
   "metadata": {
    "ExecuteTime": {
     "end_time": "2024-09-05T10:43:55.956627800Z",
     "start_time": "2024-09-05T10:43:46.104902200Z"
    }
   },
   "outputs": [],
   "source": []
  },
  {
   "cell_type": "markdown",
   "metadata": {},
   "source": [
    "---\n",
    "> P-091: For the customer data (df_customer), perform undersampling to ensure that the number of customers without sales records is equal to the number of customers with sales records."
   ]
  },
  {
   "cell_type": "code",
   "execution_count": 15,
   "metadata": {
    "ExecuteTime": {
     "end_time": "2024-09-05T10:43:56.045633900Z",
     "start_time": "2024-09-05T10:43:46.119125Z"
    }
   },
   "outputs": [],
   "source": []
  },
  {
   "cell_type": "markdown",
   "metadata": {},
   "source": [
    "---\n",
    "> P-092: For the customer data (df_customer), normalize the gender code (gender_cd) into three categories: male, female, and unknown."
   ]
  },
  {
   "cell_type": "code",
   "execution_count": 15,
   "metadata": {
    "ExecuteTime": {
     "end_time": "2024-09-05T10:43:56.115761Z",
     "start_time": "2024-09-05T10:43:46.133661100Z"
    }
   },
   "outputs": [],
   "source": []
  },
  {
   "cell_type": "markdown",
   "metadata": {},
   "source": [
    "---\n",
    "> P-093: For the product data (df_product), merge with the category data (df_category) to retain the category name while keeping the category code intact. Create a new product dataset with this combined information."
   ]
  },
  {
   "cell_type": "code",
   "execution_count": 15,
   "metadata": {
    "ExecuteTime": {
     "end_time": "2024-09-05T10:43:56.202821Z",
     "start_time": "2024-09-05T10:43:46.149591700Z"
    }
   },
   "outputs": [],
   "source": []
  },
  {
   "cell_type": "markdown",
   "metadata": {},
   "source": [
    "---\n",
    "> P-094: Save the new product dataset created in P-093 with the category names included as a CSV file with the following specifications:\n",
    "> - File format: CSV (comma-separated values)\n",
    "> - Header: No\n",
    "> - Text encoding: UTF-8\n",
    "> - File output path: /data"
   ]
  },
  {
   "cell_type": "code",
   "execution_count": 15,
   "metadata": {
    "ExecuteTime": {
     "end_time": "2024-09-05T10:43:56.297761Z",
     "start_time": "2024-09-05T10:43:46.164443100Z"
    }
   },
   "outputs": [],
   "source": []
  },
  {
   "cell_type": "markdown",
   "metadata": {},
   "source": [
    "---\n",
    "> P-095: Save the new product dataset created in P-093 with the category names included as a CSV file with the following specifications:\n",
    "> - File format: CSV (comma-separated values)\n",
    "> - Header: Yes\n",
    "> - Text encoding: CP932\n",
    "> - File output path: /data"
   ]
  },
  {
   "cell_type": "code",
   "execution_count": 15,
   "metadata": {
    "ExecuteTime": {
     "end_time": "2024-09-05T10:43:56.375626300Z",
     "start_time": "2024-09-05T10:43:46.179403500Z"
    }
   },
   "outputs": [],
   "source": []
  },
  {
   "cell_type": "markdown",
   "metadata": {},
   "source": [
    "---\n",
    "> P-096: Save the new product dataset created in P-093 with the category names included as a CSV file with the following specifications:\n",
    "> - File format: CSV (comma-separated values)\n",
    "> - Header: No\n",
    "> - Text encoding: UTF-8\n",
    "> - File output path: /data"
   ]
  },
  {
   "cell_type": "code",
   "execution_count": 15,
   "metadata": {
    "ExecuteTime": {
     "end_time": "2024-09-05T10:43:56.462923300Z",
     "start_time": "2024-09-05T10:43:46.194814700Z"
    }
   },
   "outputs": [],
   "source": []
  },
  {
   "cell_type": "markdown",
   "metadata": {},
   "source": [
    "---\n",
    "> P-097: Load the file created in P-094 and display 3 rows to confirm that the data is correctly imported. The file specifications are as follows:\n",
    "> - File format: CSV (comma-separated values)\n",
    "> - Header: Yes\n",
    "> - Text encoding: UTF-8"
   ]
  },
  {
   "cell_type": "code",
   "execution_count": 15,
   "metadata": {
    "ExecuteTime": {
     "end_time": "2024-09-05T10:43:56.559789Z",
     "start_time": "2024-09-05T10:43:46.207202100Z"
    }
   },
   "outputs": [],
   "source": []
  },
  {
   "cell_type": "markdown",
   "metadata": {},
   "source": [
    "---\n",
    "> P-098: Load the file created in P-096 and display 3 rows to confirm that the data is correctly imported. The file specifications are as follows:\n",
    "> - File format: CSV (comma-separated values)\n",
    "> - Header: No\n",
    "> - Text encoding: UTF-8"
   ]
  },
  {
   "cell_type": "code",
   "execution_count": 15,
   "metadata": {
    "ExecuteTime": {
     "end_time": "2024-09-05T10:43:56.675833700Z",
     "start_time": "2024-09-05T10:43:46.223487300Z"
    }
   },
   "outputs": [],
   "source": []
  },
  {
   "cell_type": "markdown",
   "metadata": {},
   "source": [
    "---\n",
    "> P-099: Save the new product dataset created in P-093 with the category names included as a TSV file with the following specifications:\n",
    "> - File format: TSV (tab-separated values)\n",
    "> - Header: Yes\n",
    "> - Text encoding: UTF-8\n",
    "> -File output path: /data"
   ]
  },
  {
   "cell_type": "code",
   "execution_count": 15,
   "metadata": {
    "ExecuteTime": {
     "end_time": "2024-09-05T10:43:56.760670Z",
     "start_time": "2024-09-05T10:43:46.239776500Z"
    }
   },
   "outputs": [],
   "source": []
  },
  {
   "cell_type": "markdown",
   "metadata": {},
   "source": [
    "---\n",
    "> P-100: Load the file created in P-099 with the following specifications, display 3 rows of data, and confirm that the data is correctly imported:\n",
    "> - File format: TSV (tab-separated values)\n",
    "> - Header: Yes\n",
    "> - Text encoding: UTF-8"
   ]
  },
  {
   "cell_type": "code",
   "execution_count": 15,
   "metadata": {
    "ExecuteTime": {
     "end_time": "2024-09-05T10:43:56.855822600Z",
     "start_time": "2024-09-05T10:43:46.254479900Z"
    }
   },
   "outputs": [],
   "source": []
  },
  {
   "cell_type": "markdown",
   "metadata": {},
   "source": [
    "## This concludes the 100 exercises. Well done!"
   ]
  },
  {
   "cell_type": "markdown",
   "metadata": {},
   "source": []
  }
 ],
 "metadata": {
  "kernelspec": {
   "display_name": "Python 3 (ipykernel)",
   "language": "python",
   "name": "python3"
  },
  "language_info": {
   "codemirror_mode": {
    "name": "ipython",
    "version": 3
   },
   "file_extension": ".py",
   "mimetype": "text/x-python",
   "name": "python",
   "nbconvert_exporter": "python",
   "pygments_lexer": "ipython3",
   "version": "3.11.0"
  }
 },
 "nbformat": 4,
 "nbformat_minor": 4
}
