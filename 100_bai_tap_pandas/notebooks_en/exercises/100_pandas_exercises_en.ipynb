{
 "cells": [
  {
   "cell_type": "markdown",
   "metadata": {},
   "source": [
    "# **Data Science 100 Exercises (Structured Data Processing Edition) - Python**"
   ]
  },
  {
   "cell_type": "markdown",
   "metadata": {},
   "source": [
    "## Basic setting\n"
   ]
  },
  {
   "cell_type": "code",
   "execution_count": 3,
   "metadata": {
    "ExecuteTime": {
     "end_time": "2024-09-05T08:30:25.268353600Z",
     "start_time": "2024-09-05T08:30:22.991985800Z"
    }
   },
   "outputs": [],
   "source": [
    "import os\n",
    "import pandas as pd\n",
    "import numpy as np\n",
    "\n",
    "dtype = {\n",
    "    'customer_id': str,\n",
    "    'gender_cd': str,\n",
    "    'postal_cd': str,\n",
    "    'application_store_cd': str,\n",
    "    'status_cd': str,\n",
    "    'category_major_cd': str,\n",
    "    'category_medium_cd': str,\n",
    "    'category_small_cd': str,\n",
    "    'product_cd': str,\n",
    "    'store_cd': str,\n",
    "    'prefecture_cd': str,\n",
    "    'tel_no': str,\n",
    "    'postal_cd': str,\n",
    "    'street': str\n",
    "}\n",
    "\n",
    "df_customer = pd.read_csv(\"C:/Users/minhc/OneDrive/Desktop/100_bai_tap_pandas/data/raw/customer.csv\", dtype=dtype)\n",
    "df_category = pd.read_csv(\"C:/Users/minhc/OneDrive/Desktop/100_bai_tap_pandas/data/raw/category.csv\", dtype=dtype)\n",
    "df_product = pd.read_csv(\"C:/Users/minhc/OneDrive/Desktop/100_bai_tap_pandas/data/raw/product.csv\", dtype=dtype)\n",
    "df_receipt = pd.read_csv(\"C:/Users/minhc/OneDrive/Desktop/100_bai_tap_pandas/data/raw/receipt.csv\", dtype=dtype)\n",
    "df_store = pd.read_csv(\"C:/Users/minhc/OneDrive/Desktop/100_bai_tap_pandas/data/raw/store.csv\", dtype=dtype)\n",
    "df_geocode = pd.read_csv(\"C:/Users/minhc/OneDrive/Desktop/100_bai_tap_pandas/data/raw/geocode.csv\", dtype=dtype)\n"
   ]
  },
  {
   "cell_type": "markdown",
   "metadata": {},
   "source": [
    "## Exercise Problems"
   ]
  },
  {
   "cell_type": "markdown",
   "metadata": {},
   "source": [
    "---\n",
    "> P-001: Display the first 10 rows of all items from the receipt details data (df_receipt) to visually confirm what kind of data it contains."
   ]
  },
  {
   "cell_type": "code",
   "execution_count": 5,
   "metadata": {
    "ExecuteTime": {
     "end_time": "2024-09-05T08:30:44.880888400Z",
     "start_time": "2024-09-05T08:30:44.787381600Z"
    }
   },
   "outputs": [
    {
     "data": {
      "text/plain": "   sales_ymd  sales_epoch store_cd  receipt_no  receipt_sub_no  \\\n0   20181103   1541203200   S14006         112               1   \n1   20181118   1542499200   S13008        1132               2   \n2   20170712   1499817600   S14028        1102               1   \n3   20190205   1549324800   S14042        1132               1   \n4   20180821   1534809600   S14025        1102               2   \n5   20190605   1559692800   S13003        1112               1   \n6   20181205   1543968000   S14024        1102               2   \n7   20190922   1569110400   S14040        1102               1   \n8   20170504   1493856000   S13020        1112               2   \n9   20191010   1570665600   S14027        1102               1   \n\n      customer_id  product_cd  quantity  amount  \n0  CS006214000001  P070305012         1     158  \n1  CS008415000097  P070701017         1      81  \n2  CS028414000014  P060101005         1     170  \n3  ZZ000000000000  P050301001         1      25  \n4  CS025415000050  P060102007         1      90  \n5  CS003515000195  P050102002         1     138  \n6  CS024514000042  P080101005         1      30  \n7  CS040415000178  P070501004         1     128  \n8  ZZ000000000000  P071302010         1     770  \n9  CS027514000015  P071101003         1     680  ",
      "text/html": "<div>\n<style scoped>\n    .dataframe tbody tr th:only-of-type {\n        vertical-align: middle;\n    }\n\n    .dataframe tbody tr th {\n        vertical-align: top;\n    }\n\n    .dataframe thead th {\n        text-align: right;\n    }\n</style>\n<table border=\"1\" class=\"dataframe\">\n  <thead>\n    <tr style=\"text-align: right;\">\n      <th></th>\n      <th>sales_ymd</th>\n      <th>sales_epoch</th>\n      <th>store_cd</th>\n      <th>receipt_no</th>\n      <th>receipt_sub_no</th>\n      <th>customer_id</th>\n      <th>product_cd</th>\n      <th>quantity</th>\n      <th>amount</th>\n    </tr>\n  </thead>\n  <tbody>\n    <tr>\n      <th>0</th>\n      <td>20181103</td>\n      <td>1541203200</td>\n      <td>S14006</td>\n      <td>112</td>\n      <td>1</td>\n      <td>CS006214000001</td>\n      <td>P070305012</td>\n      <td>1</td>\n      <td>158</td>\n    </tr>\n    <tr>\n      <th>1</th>\n      <td>20181118</td>\n      <td>1542499200</td>\n      <td>S13008</td>\n      <td>1132</td>\n      <td>2</td>\n      <td>CS008415000097</td>\n      <td>P070701017</td>\n      <td>1</td>\n      <td>81</td>\n    </tr>\n    <tr>\n      <th>2</th>\n      <td>20170712</td>\n      <td>1499817600</td>\n      <td>S14028</td>\n      <td>1102</td>\n      <td>1</td>\n      <td>CS028414000014</td>\n      <td>P060101005</td>\n      <td>1</td>\n      <td>170</td>\n    </tr>\n    <tr>\n      <th>3</th>\n      <td>20190205</td>\n      <td>1549324800</td>\n      <td>S14042</td>\n      <td>1132</td>\n      <td>1</td>\n      <td>ZZ000000000000</td>\n      <td>P050301001</td>\n      <td>1</td>\n      <td>25</td>\n    </tr>\n    <tr>\n      <th>4</th>\n      <td>20180821</td>\n      <td>1534809600</td>\n      <td>S14025</td>\n      <td>1102</td>\n      <td>2</td>\n      <td>CS025415000050</td>\n      <td>P060102007</td>\n      <td>1</td>\n      <td>90</td>\n    </tr>\n    <tr>\n      <th>5</th>\n      <td>20190605</td>\n      <td>1559692800</td>\n      <td>S13003</td>\n      <td>1112</td>\n      <td>1</td>\n      <td>CS003515000195</td>\n      <td>P050102002</td>\n      <td>1</td>\n      <td>138</td>\n    </tr>\n    <tr>\n      <th>6</th>\n      <td>20181205</td>\n      <td>1543968000</td>\n      <td>S14024</td>\n      <td>1102</td>\n      <td>2</td>\n      <td>CS024514000042</td>\n      <td>P080101005</td>\n      <td>1</td>\n      <td>30</td>\n    </tr>\n    <tr>\n      <th>7</th>\n      <td>20190922</td>\n      <td>1569110400</td>\n      <td>S14040</td>\n      <td>1102</td>\n      <td>1</td>\n      <td>CS040415000178</td>\n      <td>P070501004</td>\n      <td>1</td>\n      <td>128</td>\n    </tr>\n    <tr>\n      <th>8</th>\n      <td>20170504</td>\n      <td>1493856000</td>\n      <td>S13020</td>\n      <td>1112</td>\n      <td>2</td>\n      <td>ZZ000000000000</td>\n      <td>P071302010</td>\n      <td>1</td>\n      <td>770</td>\n    </tr>\n    <tr>\n      <th>9</th>\n      <td>20191010</td>\n      <td>1570665600</td>\n      <td>S14027</td>\n      <td>1102</td>\n      <td>1</td>\n      <td>CS027514000015</td>\n      <td>P071101003</td>\n      <td>1</td>\n      <td>680</td>\n    </tr>\n  </tbody>\n</table>\n</div>"
     },
     "execution_count": 5,
     "metadata": {},
     "output_type": "execute_result"
    }
   ],
   "source": [
    "df_receipt.head(10)"
   ]
  },
  {
   "cell_type": "markdown",
   "metadata": {},
   "source": [
    "\n",
    "> P-002: From the receipt details data (df_receipt), specify the columns in the order of sales date (sales_ymd), customer ID (customer_id), product code (product_cd), and sales amount (amount), and display 10 rows."
   ]
  },
  {
   "cell_type": "code",
   "execution_count": 6,
   "metadata": {
    "ExecuteTime": {
     "end_time": "2024-09-05T08:32:07.042158100Z",
     "start_time": "2024-09-05T08:32:06.971727200Z"
    }
   },
   "outputs": [
    {
     "data": {
      "text/plain": "   sales_ymd     customer_id  product_cd\n0   20181103  CS006214000001  P070305012\n1   20181118  CS008415000097  P070701017\n2   20170712  CS028414000014  P060101005\n3   20190205  ZZ000000000000  P050301001\n4   20180821  CS025415000050  P060102007\n5   20190605  CS003515000195  P050102002\n6   20181205  CS024514000042  P080101005\n7   20190922  CS040415000178  P070501004\n8   20170504  ZZ000000000000  P071302010\n9   20191010  CS027514000015  P071101003",
      "text/html": "<div>\n<style scoped>\n    .dataframe tbody tr th:only-of-type {\n        vertical-align: middle;\n    }\n\n    .dataframe tbody tr th {\n        vertical-align: top;\n    }\n\n    .dataframe thead th {\n        text-align: right;\n    }\n</style>\n<table border=\"1\" class=\"dataframe\">\n  <thead>\n    <tr style=\"text-align: right;\">\n      <th></th>\n      <th>sales_ymd</th>\n      <th>customer_id</th>\n      <th>product_cd</th>\n    </tr>\n  </thead>\n  <tbody>\n    <tr>\n      <th>0</th>\n      <td>20181103</td>\n      <td>CS006214000001</td>\n      <td>P070305012</td>\n    </tr>\n    <tr>\n      <th>1</th>\n      <td>20181118</td>\n      <td>CS008415000097</td>\n      <td>P070701017</td>\n    </tr>\n    <tr>\n      <th>2</th>\n      <td>20170712</td>\n      <td>CS028414000014</td>\n      <td>P060101005</td>\n    </tr>\n    <tr>\n      <th>3</th>\n      <td>20190205</td>\n      <td>ZZ000000000000</td>\n      <td>P050301001</td>\n    </tr>\n    <tr>\n      <th>4</th>\n      <td>20180821</td>\n      <td>CS025415000050</td>\n      <td>P060102007</td>\n    </tr>\n    <tr>\n      <th>5</th>\n      <td>20190605</td>\n      <td>CS003515000195</td>\n      <td>P050102002</td>\n    </tr>\n    <tr>\n      <th>6</th>\n      <td>20181205</td>\n      <td>CS024514000042</td>\n      <td>P080101005</td>\n    </tr>\n    <tr>\n      <th>7</th>\n      <td>20190922</td>\n      <td>CS040415000178</td>\n      <td>P070501004</td>\n    </tr>\n    <tr>\n      <th>8</th>\n      <td>20170504</td>\n      <td>ZZ000000000000</td>\n      <td>P071302010</td>\n    </tr>\n    <tr>\n      <th>9</th>\n      <td>20191010</td>\n      <td>CS027514000015</td>\n      <td>P071101003</td>\n    </tr>\n  </tbody>\n</table>\n</div>"
     },
     "execution_count": 6,
     "metadata": {},
     "output_type": "execute_result"
    }
   ],
   "source": [
    "# SELECT CỘT\n",
    "df_receipt[['sales_ymd','customer_id','product_cd']].head(10)"
   ]
  },
  {
   "cell_type": "markdown",
   "metadata": {},
   "source": [
    "---\n",
    "> P-003: From the receipt details data (df_receipt), specify the columns in the order of sales date (sales_ymd), customer ID (customer_id), product code (product_cd), and sales amount (amount), and display 10 rows. However, change the item name sales_ymd to sales_date when extracting."
   ]
  },
  {
   "cell_type": "code",
   "execution_count": 8,
   "metadata": {
    "ExecuteTime": {
     "end_time": "2024-09-05T08:36:07.002085400Z",
     "start_time": "2024-09-05T08:36:06.911748400Z"
    }
   },
   "outputs": [
    {
     "data": {
      "text/plain": "   sales_date     customer_id  product_cd  amount\n0    20181103  CS006214000001  P070305012     158\n1    20181118  CS008415000097  P070701017      81\n2    20170712  CS028414000014  P060101005     170\n3    20190205  ZZ000000000000  P050301001      25\n4    20180821  CS025415000050  P060102007      90\n5    20190605  CS003515000195  P050102002     138\n6    20181205  CS024514000042  P080101005      30\n7    20190922  CS040415000178  P070501004     128\n8    20170504  ZZ000000000000  P071302010     770\n9    20191010  CS027514000015  P071101003     680",
      "text/html": "<div>\n<style scoped>\n    .dataframe tbody tr th:only-of-type {\n        vertical-align: middle;\n    }\n\n    .dataframe tbody tr th {\n        vertical-align: top;\n    }\n\n    .dataframe thead th {\n        text-align: right;\n    }\n</style>\n<table border=\"1\" class=\"dataframe\">\n  <thead>\n    <tr style=\"text-align: right;\">\n      <th></th>\n      <th>sales_date</th>\n      <th>customer_id</th>\n      <th>product_cd</th>\n      <th>amount</th>\n    </tr>\n  </thead>\n  <tbody>\n    <tr>\n      <th>0</th>\n      <td>20181103</td>\n      <td>CS006214000001</td>\n      <td>P070305012</td>\n      <td>158</td>\n    </tr>\n    <tr>\n      <th>1</th>\n      <td>20181118</td>\n      <td>CS008415000097</td>\n      <td>P070701017</td>\n      <td>81</td>\n    </tr>\n    <tr>\n      <th>2</th>\n      <td>20170712</td>\n      <td>CS028414000014</td>\n      <td>P060101005</td>\n      <td>170</td>\n    </tr>\n    <tr>\n      <th>3</th>\n      <td>20190205</td>\n      <td>ZZ000000000000</td>\n      <td>P050301001</td>\n      <td>25</td>\n    </tr>\n    <tr>\n      <th>4</th>\n      <td>20180821</td>\n      <td>CS025415000050</td>\n      <td>P060102007</td>\n      <td>90</td>\n    </tr>\n    <tr>\n      <th>5</th>\n      <td>20190605</td>\n      <td>CS003515000195</td>\n      <td>P050102002</td>\n      <td>138</td>\n    </tr>\n    <tr>\n      <th>6</th>\n      <td>20181205</td>\n      <td>CS024514000042</td>\n      <td>P080101005</td>\n      <td>30</td>\n    </tr>\n    <tr>\n      <th>7</th>\n      <td>20190922</td>\n      <td>CS040415000178</td>\n      <td>P070501004</td>\n      <td>128</td>\n    </tr>\n    <tr>\n      <th>8</th>\n      <td>20170504</td>\n      <td>ZZ000000000000</td>\n      <td>P071302010</td>\n      <td>770</td>\n    </tr>\n    <tr>\n      <th>9</th>\n      <td>20191010</td>\n      <td>CS027514000015</td>\n      <td>P071101003</td>\n      <td>680</td>\n    </tr>\n  </tbody>\n</table>\n</div>"
     },
     "execution_count": 8,
     "metadata": {},
     "output_type": "execute_result"
    }
   ],
   "source": [
    "(\n",
    "    df_receipt[['sales_ymd','customer_id','product_cd','amount']].head(10)\n",
    "    .rename(columns = {\"sales_ymd\" : \"sales_date\"})\n",
    ")"
   ]
  },
  {
   "cell_type": "markdown",
   "metadata": {},
   "source": [
    "\n",
    "> P-004: From the receipt details data (df_receipt), specify the columns in the order of sales date (sales_ymd), customer ID (customer_id), product code (product_cd), and sales amount (amount), and extract the data that meets the following condition:\n",
    "> * The customer ID (customer_id) is \"CS018205000001\"."
   ]
  },
  {
   "cell_type": "code",
   "execution_count": 11,
   "metadata": {
    "ExecuteTime": {
     "end_time": "2024-09-05T08:50:50.471566400Z",
     "start_time": "2024-09-05T08:50:50.330330200Z"
    }
   },
   "outputs": [
    {
     "data": {
      "text/plain": "       sales_ymd     customer_id  product_cd  amount\n36      20180911  CS018205000001  P071401012    2200\n9843    20180414  CS018205000001  P060104007     600\n21110   20170614  CS018205000001  P050206001     990\n27673   20170614  CS018205000001  P060702015     108\n27840   20190216  CS018205000001  P071005024     102\n28757   20180414  CS018205000001  P071101002     278\n39256   20190226  CS018205000001  P070902035     168\n58121   20190924  CS018205000001  P060805001     495\n68117   20190226  CS018205000001  P071401020    2200\n72254   20180911  CS018205000001  P071401005    1100\n88508   20190216  CS018205000001  P040101002     218\n91525   20190924  CS018205000001  P091503001     280",
      "text/html": "<div>\n<style scoped>\n    .dataframe tbody tr th:only-of-type {\n        vertical-align: middle;\n    }\n\n    .dataframe tbody tr th {\n        vertical-align: top;\n    }\n\n    .dataframe thead th {\n        text-align: right;\n    }\n</style>\n<table border=\"1\" class=\"dataframe\">\n  <thead>\n    <tr style=\"text-align: right;\">\n      <th></th>\n      <th>sales_ymd</th>\n      <th>customer_id</th>\n      <th>product_cd</th>\n      <th>amount</th>\n    </tr>\n  </thead>\n  <tbody>\n    <tr>\n      <th>36</th>\n      <td>20180911</td>\n      <td>CS018205000001</td>\n      <td>P071401012</td>\n      <td>2200</td>\n    </tr>\n    <tr>\n      <th>9843</th>\n      <td>20180414</td>\n      <td>CS018205000001</td>\n      <td>P060104007</td>\n      <td>600</td>\n    </tr>\n    <tr>\n      <th>21110</th>\n      <td>20170614</td>\n      <td>CS018205000001</td>\n      <td>P050206001</td>\n      <td>990</td>\n    </tr>\n    <tr>\n      <th>27673</th>\n      <td>20170614</td>\n      <td>CS018205000001</td>\n      <td>P060702015</td>\n      <td>108</td>\n    </tr>\n    <tr>\n      <th>27840</th>\n      <td>20190216</td>\n      <td>CS018205000001</td>\n      <td>P071005024</td>\n      <td>102</td>\n    </tr>\n    <tr>\n      <th>28757</th>\n      <td>20180414</td>\n      <td>CS018205000001</td>\n      <td>P071101002</td>\n      <td>278</td>\n    </tr>\n    <tr>\n      <th>39256</th>\n      <td>20190226</td>\n      <td>CS018205000001</td>\n      <td>P070902035</td>\n      <td>168</td>\n    </tr>\n    <tr>\n      <th>58121</th>\n      <td>20190924</td>\n      <td>CS018205000001</td>\n      <td>P060805001</td>\n      <td>495</td>\n    </tr>\n    <tr>\n      <th>68117</th>\n      <td>20190226</td>\n      <td>CS018205000001</td>\n      <td>P071401020</td>\n      <td>2200</td>\n    </tr>\n    <tr>\n      <th>72254</th>\n      <td>20180911</td>\n      <td>CS018205000001</td>\n      <td>P071401005</td>\n      <td>1100</td>\n    </tr>\n    <tr>\n      <th>88508</th>\n      <td>20190216</td>\n      <td>CS018205000001</td>\n      <td>P040101002</td>\n      <td>218</td>\n    </tr>\n    <tr>\n      <th>91525</th>\n      <td>20190924</td>\n      <td>CS018205000001</td>\n      <td>P091503001</td>\n      <td>280</td>\n    </tr>\n  </tbody>\n</table>\n</div>"
     },
     "execution_count": 11,
     "metadata": {},
     "output_type": "execute_result"
    }
   ],
   "source": [
    "(\n",
    "   df_receipt[['sales_ymd','customer_id','product_cd','amount']]\n",
    "    .query(\"customer_id == 'CS018205000001'\")\n",
    ")"
   ]
  },
  {
   "cell_type": "markdown",
   "metadata": {},
   "source": [
    "---\n",
    "> P-005: From the receipt details data (df_receipt), specify the columns in the order of sales date (sales_ymd), customer ID (customer_id), product code (product_cd), and sales amount (amount), and extract the data that meets all of the following conditions:\n",
    "> * The customer ID (customer_id) is \"CS018205000001\".\n",
    "> * The sales amount (amount) is 1,000 or more."
   ]
  },
  {
   "cell_type": "code",
   "execution_count": 12,
   "metadata": {
    "ExecuteTime": {
     "end_time": "2024-09-05T08:53:16.491947600Z",
     "start_time": "2024-09-05T08:53:16.412442900Z"
    }
   },
   "outputs": [
    {
     "data": {
      "text/plain": "       sales_ymd     customer_id  product_cd  amount\n36      20180911  CS018205000001  P071401012    2200\n68117   20190226  CS018205000001  P071401020    2200\n72254   20180911  CS018205000001  P071401005    1100",
      "text/html": "<div>\n<style scoped>\n    .dataframe tbody tr th:only-of-type {\n        vertical-align: middle;\n    }\n\n    .dataframe tbody tr th {\n        vertical-align: top;\n    }\n\n    .dataframe thead th {\n        text-align: right;\n    }\n</style>\n<table border=\"1\" class=\"dataframe\">\n  <thead>\n    <tr style=\"text-align: right;\">\n      <th></th>\n      <th>sales_ymd</th>\n      <th>customer_id</th>\n      <th>product_cd</th>\n      <th>amount</th>\n    </tr>\n  </thead>\n  <tbody>\n    <tr>\n      <th>36</th>\n      <td>20180911</td>\n      <td>CS018205000001</td>\n      <td>P071401012</td>\n      <td>2200</td>\n    </tr>\n    <tr>\n      <th>68117</th>\n      <td>20190226</td>\n      <td>CS018205000001</td>\n      <td>P071401020</td>\n      <td>2200</td>\n    </tr>\n    <tr>\n      <th>72254</th>\n      <td>20180911</td>\n      <td>CS018205000001</td>\n      <td>P071401005</td>\n      <td>1100</td>\n    </tr>\n  </tbody>\n</table>\n</div>"
     },
     "execution_count": 12,
     "metadata": {},
     "output_type": "execute_result"
    }
   ],
   "source": [
    "(\n",
    "    df_receipt[['sales_ymd','customer_id','product_cd','amount']]\n",
    "    .query(\"customer_id == 'CS018205000001' & amount >= 1000\")\n",
    ")"
   ]
  },
  {
   "cell_type": "markdown",
   "metadata": {},
   "source": [
    "---\n",
    "> P-006: From the receipt details data (df_receipt), specify the columns in the order of sales date (sales_ymd), customer ID (customer_id), product code (product_cd), sales quantity (quantity), and sales amount (amount), and extract the data that meets all of the following conditions:\n",
    "> * The customer ID (customer_id) is \"CS018205000001\".\n",
    "> * The sales amount (amount) is 1,000 or more or the sales quantity (quantity) is 5 or more."
   ]
  },
  {
   "cell_type": "code",
   "execution_count": 14,
   "metadata": {
    "ExecuteTime": {
     "end_time": "2024-09-05T08:57:47.217211100Z",
     "start_time": "2024-09-05T08:57:47.085154800Z"
    }
   },
   "outputs": [
    {
     "data": {
      "text/plain": "       sales_ymd     customer_id  product_cd  quantity  amount\n36      20180911  CS018205000001  P071401012         1    2200\n9843    20180414  CS018205000001  P060104007         6     600\n21110   20170614  CS018205000001  P050206001         5     990\n68117   20190226  CS018205000001  P071401020         1    2200\n72254   20180911  CS018205000001  P071401005         1    1100",
      "text/html": "<div>\n<style scoped>\n    .dataframe tbody tr th:only-of-type {\n        vertical-align: middle;\n    }\n\n    .dataframe tbody tr th {\n        vertical-align: top;\n    }\n\n    .dataframe thead th {\n        text-align: right;\n    }\n</style>\n<table border=\"1\" class=\"dataframe\">\n  <thead>\n    <tr style=\"text-align: right;\">\n      <th></th>\n      <th>sales_ymd</th>\n      <th>customer_id</th>\n      <th>product_cd</th>\n      <th>quantity</th>\n      <th>amount</th>\n    </tr>\n  </thead>\n  <tbody>\n    <tr>\n      <th>36</th>\n      <td>20180911</td>\n      <td>CS018205000001</td>\n      <td>P071401012</td>\n      <td>1</td>\n      <td>2200</td>\n    </tr>\n    <tr>\n      <th>9843</th>\n      <td>20180414</td>\n      <td>CS018205000001</td>\n      <td>P060104007</td>\n      <td>6</td>\n      <td>600</td>\n    </tr>\n    <tr>\n      <th>21110</th>\n      <td>20170614</td>\n      <td>CS018205000001</td>\n      <td>P050206001</td>\n      <td>5</td>\n      <td>990</td>\n    </tr>\n    <tr>\n      <th>68117</th>\n      <td>20190226</td>\n      <td>CS018205000001</td>\n      <td>P071401020</td>\n      <td>1</td>\n      <td>2200</td>\n    </tr>\n    <tr>\n      <th>72254</th>\n      <td>20180911</td>\n      <td>CS018205000001</td>\n      <td>P071401005</td>\n      <td>1</td>\n      <td>1100</td>\n    </tr>\n  </tbody>\n</table>\n</div>"
     },
     "execution_count": 14,
     "metadata": {},
     "output_type": "execute_result"
    }
   ],
   "source": [
    "(\n",
    "    df_receipt[['sales_ymd','customer_id','product_cd','quantity','amount']].query(\"(customer_id == 'CS018205000001') & (amount >= 1000 | quantity >= 5)\")\n",
    ")"
   ]
  },
  {
   "cell_type": "markdown",
   "metadata": {},
   "source": [
    "---\n",
    "> P-007: From the receipt details data (df_receipt), specify the columns in the order of sales date (sales_ymd), customer ID (customer_id), product code (product_cd), and sales amount (amount), and extract the data that meets all of the following conditions:\n",
    "> * The customer ID (customer_id) is \"CS018205000001\".\n",
    "> * The sales amount (amount) is 1,000 or more and 2,000 or less."
   ]
  },
  {
   "cell_type": "code",
   "execution_count": 15,
   "metadata": {
    "ExecuteTime": {
     "end_time": "2024-09-05T09:00:41.912858400Z",
     "start_time": "2024-09-05T09:00:41.787657900Z"
    }
   },
   "outputs": [
    {
     "data": {
      "text/plain": "       sales_ymd     customer_id  product_cd  amount\n72254   20180911  CS018205000001  P071401005    1100",
      "text/html": "<div>\n<style scoped>\n    .dataframe tbody tr th:only-of-type {\n        vertical-align: middle;\n    }\n\n    .dataframe tbody tr th {\n        vertical-align: top;\n    }\n\n    .dataframe thead th {\n        text-align: right;\n    }\n</style>\n<table border=\"1\" class=\"dataframe\">\n  <thead>\n    <tr style=\"text-align: right;\">\n      <th></th>\n      <th>sales_ymd</th>\n      <th>customer_id</th>\n      <th>product_cd</th>\n      <th>amount</th>\n    </tr>\n  </thead>\n  <tbody>\n    <tr>\n      <th>72254</th>\n      <td>20180911</td>\n      <td>CS018205000001</td>\n      <td>P071401005</td>\n      <td>1100</td>\n    </tr>\n  </tbody>\n</table>\n</div>"
     },
     "execution_count": 15,
     "metadata": {},
     "output_type": "execute_result"
    }
   ],
   "source": [
    "(\n",
    "    df_receipt[['sales_ymd','customer_id','product_cd','amount']]\n",
    "    .query(\"(customer_id == 'CS018205000001') & (1000 <= amount <= 2000)\")\n",
    ")"
   ]
  },
  {
   "cell_type": "markdown",
   "metadata": {},
   "source": [
    "---\n",
    "> P-008: From the receipt details data (df_receipt), specify the columns in the order of sales date (sales_ymd), customer ID (customer_id), product code (product_cd), and sales amount (amount), and extract the data that meets all of the following conditions:\n",
    "> * The customer ID (customer_id) is \"CS018205000001\".\n",
    "> * The product code (product_cd) is not \"P071401019\"."
   ]
  },
  {
   "cell_type": "code",
   "execution_count": 16,
   "metadata": {
    "ExecuteTime": {
     "end_time": "2024-09-05T09:07:18.225096200Z",
     "start_time": "2024-09-05T09:07:17.975182Z"
    }
   },
   "outputs": [
    {
     "data": {
      "text/plain": "       sales_ymd     customer_id  product_cd  amount\n36      20180911  CS018205000001  P071401012    2200\n9843    20180414  CS018205000001  P060104007     600\n21110   20170614  CS018205000001  P050206001     990\n27673   20170614  CS018205000001  P060702015     108\n27840   20190216  CS018205000001  P071005024     102\n28757   20180414  CS018205000001  P071101002     278\n39256   20190226  CS018205000001  P070902035     168\n58121   20190924  CS018205000001  P060805001     495\n68117   20190226  CS018205000001  P071401020    2200\n72254   20180911  CS018205000001  P071401005    1100\n88508   20190216  CS018205000001  P040101002     218\n91525   20190924  CS018205000001  P091503001     280",
      "text/html": "<div>\n<style scoped>\n    .dataframe tbody tr th:only-of-type {\n        vertical-align: middle;\n    }\n\n    .dataframe tbody tr th {\n        vertical-align: top;\n    }\n\n    .dataframe thead th {\n        text-align: right;\n    }\n</style>\n<table border=\"1\" class=\"dataframe\">\n  <thead>\n    <tr style=\"text-align: right;\">\n      <th></th>\n      <th>sales_ymd</th>\n      <th>customer_id</th>\n      <th>product_cd</th>\n      <th>amount</th>\n    </tr>\n  </thead>\n  <tbody>\n    <tr>\n      <th>36</th>\n      <td>20180911</td>\n      <td>CS018205000001</td>\n      <td>P071401012</td>\n      <td>2200</td>\n    </tr>\n    <tr>\n      <th>9843</th>\n      <td>20180414</td>\n      <td>CS018205000001</td>\n      <td>P060104007</td>\n      <td>600</td>\n    </tr>\n    <tr>\n      <th>21110</th>\n      <td>20170614</td>\n      <td>CS018205000001</td>\n      <td>P050206001</td>\n      <td>990</td>\n    </tr>\n    <tr>\n      <th>27673</th>\n      <td>20170614</td>\n      <td>CS018205000001</td>\n      <td>P060702015</td>\n      <td>108</td>\n    </tr>\n    <tr>\n      <th>27840</th>\n      <td>20190216</td>\n      <td>CS018205000001</td>\n      <td>P071005024</td>\n      <td>102</td>\n    </tr>\n    <tr>\n      <th>28757</th>\n      <td>20180414</td>\n      <td>CS018205000001</td>\n      <td>P071101002</td>\n      <td>278</td>\n    </tr>\n    <tr>\n      <th>39256</th>\n      <td>20190226</td>\n      <td>CS018205000001</td>\n      <td>P070902035</td>\n      <td>168</td>\n    </tr>\n    <tr>\n      <th>58121</th>\n      <td>20190924</td>\n      <td>CS018205000001</td>\n      <td>P060805001</td>\n      <td>495</td>\n    </tr>\n    <tr>\n      <th>68117</th>\n      <td>20190226</td>\n      <td>CS018205000001</td>\n      <td>P071401020</td>\n      <td>2200</td>\n    </tr>\n    <tr>\n      <th>72254</th>\n      <td>20180911</td>\n      <td>CS018205000001</td>\n      <td>P071401005</td>\n      <td>1100</td>\n    </tr>\n    <tr>\n      <th>88508</th>\n      <td>20190216</td>\n      <td>CS018205000001</td>\n      <td>P040101002</td>\n      <td>218</td>\n    </tr>\n    <tr>\n      <th>91525</th>\n      <td>20190924</td>\n      <td>CS018205000001</td>\n      <td>P091503001</td>\n      <td>280</td>\n    </tr>\n  </tbody>\n</table>\n</div>"
     },
     "execution_count": 16,
     "metadata": {},
     "output_type": "execute_result"
    }
   ],
   "source": [
    "(\n",
    "    df_receipt[['sales_ymd','customer_id','product_cd','amount']]\n",
    "    .query(\"(customer_id == 'CS018205000001') & (product_cd != 'P071401019')\")\n",
    ")"
   ]
  },
  {
   "cell_type": "markdown",
   "metadata": {},
   "source": [
    "---\n",
    "> P-009: Rewrite the following process without changing the output results, replacing the OR condition with AND.\n",
    "> \n",
    "> `df_store.query('not(prefecture_cd == \"13\" | floor_area > 900)')`"
   ]
  },
  {
   "cell_type": "code",
   "execution_count": 17,
   "metadata": {
    "ExecuteTime": {
     "end_time": "2024-09-05T09:18:10.489653200Z",
     "start_time": "2024-09-05T09:18:10.392219100Z"
    }
   },
   "outputs": [
    {
     "data": {
      "text/plain": "   store_cd store_name prefecture_cd prefecture            address  \\\n18   S14046       北山田店            14       神奈川県   神奈川県横浜市都筑区北山田一丁目   \n20   S14011      日吉本町店            14       神奈川県  神奈川県横浜市港北区日吉本町四丁目   \n38   S12013       習志野店            12        千葉県       千葉県習志野市芝園一丁目   \n\n                      address_kana        tel_no  longitude  latitude  \\\n18      カナガワケンヨコハマシツヅキクキタヤマタイッチョウメ  045-123-4049   139.5916  35.56189   \n20  カナガワケンヨコハマシコウホククヒヨシホンチョウヨンチョウメ  045-123-4033   139.6316  35.54655   \n38             チバケンナラシノシシバゾノイッチョウメ  047-123-4002   140.0220  35.66122   \n\n    floor_area  \n18       831.0  \n20       890.0  \n38       808.0  ",
      "text/html": "<div>\n<style scoped>\n    .dataframe tbody tr th:only-of-type {\n        vertical-align: middle;\n    }\n\n    .dataframe tbody tr th {\n        vertical-align: top;\n    }\n\n    .dataframe thead th {\n        text-align: right;\n    }\n</style>\n<table border=\"1\" class=\"dataframe\">\n  <thead>\n    <tr style=\"text-align: right;\">\n      <th></th>\n      <th>store_cd</th>\n      <th>store_name</th>\n      <th>prefecture_cd</th>\n      <th>prefecture</th>\n      <th>address</th>\n      <th>address_kana</th>\n      <th>tel_no</th>\n      <th>longitude</th>\n      <th>latitude</th>\n      <th>floor_area</th>\n    </tr>\n  </thead>\n  <tbody>\n    <tr>\n      <th>18</th>\n      <td>S14046</td>\n      <td>北山田店</td>\n      <td>14</td>\n      <td>神奈川県</td>\n      <td>神奈川県横浜市都筑区北山田一丁目</td>\n      <td>カナガワケンヨコハマシツヅキクキタヤマタイッチョウメ</td>\n      <td>045-123-4049</td>\n      <td>139.5916</td>\n      <td>35.56189</td>\n      <td>831.0</td>\n    </tr>\n    <tr>\n      <th>20</th>\n      <td>S14011</td>\n      <td>日吉本町店</td>\n      <td>14</td>\n      <td>神奈川県</td>\n      <td>神奈川県横浜市港北区日吉本町四丁目</td>\n      <td>カナガワケンヨコハマシコウホククヒヨシホンチョウヨンチョウメ</td>\n      <td>045-123-4033</td>\n      <td>139.6316</td>\n      <td>35.54655</td>\n      <td>890.0</td>\n    </tr>\n    <tr>\n      <th>38</th>\n      <td>S12013</td>\n      <td>習志野店</td>\n      <td>12</td>\n      <td>千葉県</td>\n      <td>千葉県習志野市芝園一丁目</td>\n      <td>チバケンナラシノシシバゾノイッチョウメ</td>\n      <td>047-123-4002</td>\n      <td>140.0220</td>\n      <td>35.66122</td>\n      <td>808.0</td>\n    </tr>\n  </tbody>\n</table>\n</div>"
     },
     "execution_count": 17,
     "metadata": {},
     "output_type": "execute_result"
    }
   ],
   "source": [
    "(\n",
    "    df_store.query(\"(prefecture_cd != '13') & (floor_area <= 900)\")\n",
    ")"
   ]
  },
  {
   "cell_type": "markdown",
   "metadata": {},
   "source": [
    "---\n",
    "> P-010: From the store data (df_store), extract and display 10 rows of all items where the store code (store_cd) starts with \"S14\"."
   ]
  },
  {
   "cell_type": "code",
   "execution_count": 18,
   "metadata": {
    "ExecuteTime": {
     "end_time": "2024-09-05T09:22:59.902118500Z",
     "start_time": "2024-09-05T09:22:59.767734500Z"
    }
   },
   "outputs": [
    {
     "data": {
      "text/plain": "   store_cd store_name prefecture_cd prefecture              address  \\\n2    S14010        菊名店            14       神奈川県      神奈川県横浜市港北区菊名一丁目   \n3    S14033       阿久和店            14       神奈川県    神奈川県横浜市瀬谷区阿久和西一丁目   \n4    S14036     相模原中央店            14       神奈川県        神奈川県相模原市中央二丁目   \n7    S14040       長津田店            14       神奈川県  神奈川県横浜市緑区長津田みなみ台五丁目   \n9    S14050      阿久和西店            14       神奈川県    神奈川県横浜市瀬谷区阿久和西一丁目   \n12   S14028       二ツ橋店            14       神奈川県       神奈川県横浜市瀬谷区二ツ橋町   \n16   S14012      本牧和田店            14       神奈川県        神奈川県横浜市中区本牧和田   \n18   S14046       北山田店            14       神奈川県     神奈川県横浜市都筑区北山田一丁目   \n19   S14022        逗子店            14       神奈川県         神奈川県逗子市逗子一丁目   \n20   S14011      日吉本町店            14       神奈川県    神奈川県横浜市港北区日吉本町四丁目   \n\n                      address_kana        tel_no  longitude  latitude  \\\n2        カナガワケンヨコハマシコウホククキクナイッチョウメ  045-123-4032   139.6326  35.50049   \n3        カナガワケンヨコハマシセヤクアクワニシイッチョウメ  045-123-4043   139.4961  35.45918   \n4           カナガワケンサガミハラシチュウオウニチョウメ  042-123-4045   139.3716  35.57327   \n7    カナガワケンヨコハマシミドリクナガツタミナミダイゴチョウメ  045-123-4046   139.4994  35.52398   \n9        カナガワケンヨコハマシセヤクアクワニシイッチョウメ  045-123-4053   139.4961  35.45918   \n12          カナガワケンヨコハマシセヤクフタツバシチョウ  045-123-4042   139.4963  35.46304   \n16            カナガワケンヨコハマシナカクホンモクワダ  045-123-4034   139.6582  35.42156   \n18      カナガワケンヨコハマシツヅキクキタヤマタイッチョウメ  045-123-4049   139.5916  35.56189   \n19               カナガワケンズシシズシイッチョウメ  046-123-4036   139.5789  35.29642   \n20  カナガワケンヨコハマシコウホククヒヨシホンチョウヨンチョウメ  045-123-4033   139.6316  35.54655   \n\n    floor_area  \n2       1732.0  \n3       1495.0  \n4       1679.0  \n7       1548.0  \n9       1830.0  \n12      1574.0  \n16      1341.0  \n18       831.0  \n19      1838.0  \n20       890.0  ",
      "text/html": "<div>\n<style scoped>\n    .dataframe tbody tr th:only-of-type {\n        vertical-align: middle;\n    }\n\n    .dataframe tbody tr th {\n        vertical-align: top;\n    }\n\n    .dataframe thead th {\n        text-align: right;\n    }\n</style>\n<table border=\"1\" class=\"dataframe\">\n  <thead>\n    <tr style=\"text-align: right;\">\n      <th></th>\n      <th>store_cd</th>\n      <th>store_name</th>\n      <th>prefecture_cd</th>\n      <th>prefecture</th>\n      <th>address</th>\n      <th>address_kana</th>\n      <th>tel_no</th>\n      <th>longitude</th>\n      <th>latitude</th>\n      <th>floor_area</th>\n    </tr>\n  </thead>\n  <tbody>\n    <tr>\n      <th>2</th>\n      <td>S14010</td>\n      <td>菊名店</td>\n      <td>14</td>\n      <td>神奈川県</td>\n      <td>神奈川県横浜市港北区菊名一丁目</td>\n      <td>カナガワケンヨコハマシコウホククキクナイッチョウメ</td>\n      <td>045-123-4032</td>\n      <td>139.6326</td>\n      <td>35.50049</td>\n      <td>1732.0</td>\n    </tr>\n    <tr>\n      <th>3</th>\n      <td>S14033</td>\n      <td>阿久和店</td>\n      <td>14</td>\n      <td>神奈川県</td>\n      <td>神奈川県横浜市瀬谷区阿久和西一丁目</td>\n      <td>カナガワケンヨコハマシセヤクアクワニシイッチョウメ</td>\n      <td>045-123-4043</td>\n      <td>139.4961</td>\n      <td>35.45918</td>\n      <td>1495.0</td>\n    </tr>\n    <tr>\n      <th>4</th>\n      <td>S14036</td>\n      <td>相模原中央店</td>\n      <td>14</td>\n      <td>神奈川県</td>\n      <td>神奈川県相模原市中央二丁目</td>\n      <td>カナガワケンサガミハラシチュウオウニチョウメ</td>\n      <td>042-123-4045</td>\n      <td>139.3716</td>\n      <td>35.57327</td>\n      <td>1679.0</td>\n    </tr>\n    <tr>\n      <th>7</th>\n      <td>S14040</td>\n      <td>長津田店</td>\n      <td>14</td>\n      <td>神奈川県</td>\n      <td>神奈川県横浜市緑区長津田みなみ台五丁目</td>\n      <td>カナガワケンヨコハマシミドリクナガツタミナミダイゴチョウメ</td>\n      <td>045-123-4046</td>\n      <td>139.4994</td>\n      <td>35.52398</td>\n      <td>1548.0</td>\n    </tr>\n    <tr>\n      <th>9</th>\n      <td>S14050</td>\n      <td>阿久和西店</td>\n      <td>14</td>\n      <td>神奈川県</td>\n      <td>神奈川県横浜市瀬谷区阿久和西一丁目</td>\n      <td>カナガワケンヨコハマシセヤクアクワニシイッチョウメ</td>\n      <td>045-123-4053</td>\n      <td>139.4961</td>\n      <td>35.45918</td>\n      <td>1830.0</td>\n    </tr>\n    <tr>\n      <th>12</th>\n      <td>S14028</td>\n      <td>二ツ橋店</td>\n      <td>14</td>\n      <td>神奈川県</td>\n      <td>神奈川県横浜市瀬谷区二ツ橋町</td>\n      <td>カナガワケンヨコハマシセヤクフタツバシチョウ</td>\n      <td>045-123-4042</td>\n      <td>139.4963</td>\n      <td>35.46304</td>\n      <td>1574.0</td>\n    </tr>\n    <tr>\n      <th>16</th>\n      <td>S14012</td>\n      <td>本牧和田店</td>\n      <td>14</td>\n      <td>神奈川県</td>\n      <td>神奈川県横浜市中区本牧和田</td>\n      <td>カナガワケンヨコハマシナカクホンモクワダ</td>\n      <td>045-123-4034</td>\n      <td>139.6582</td>\n      <td>35.42156</td>\n      <td>1341.0</td>\n    </tr>\n    <tr>\n      <th>18</th>\n      <td>S14046</td>\n      <td>北山田店</td>\n      <td>14</td>\n      <td>神奈川県</td>\n      <td>神奈川県横浜市都筑区北山田一丁目</td>\n      <td>カナガワケンヨコハマシツヅキクキタヤマタイッチョウメ</td>\n      <td>045-123-4049</td>\n      <td>139.5916</td>\n      <td>35.56189</td>\n      <td>831.0</td>\n    </tr>\n    <tr>\n      <th>19</th>\n      <td>S14022</td>\n      <td>逗子店</td>\n      <td>14</td>\n      <td>神奈川県</td>\n      <td>神奈川県逗子市逗子一丁目</td>\n      <td>カナガワケンズシシズシイッチョウメ</td>\n      <td>046-123-4036</td>\n      <td>139.5789</td>\n      <td>35.29642</td>\n      <td>1838.0</td>\n    </tr>\n    <tr>\n      <th>20</th>\n      <td>S14011</td>\n      <td>日吉本町店</td>\n      <td>14</td>\n      <td>神奈川県</td>\n      <td>神奈川県横浜市港北区日吉本町四丁目</td>\n      <td>カナガワケンヨコハマシコウホククヒヨシホンチョウヨンチョウメ</td>\n      <td>045-123-4033</td>\n      <td>139.6316</td>\n      <td>35.54655</td>\n      <td>890.0</td>\n    </tr>\n  </tbody>\n</table>\n</div>"
     },
     "execution_count": 18,
     "metadata": {},
     "output_type": "execute_result"
    }
   ],
   "source": [
    "(\n",
    "    df_store.query(\"store_cd.str.startswith('S14')\").head(10)\n",
    ")"
   ]
  },
  {
   "cell_type": "markdown",
   "metadata": {},
   "source": [
    "---\n",
    "> P-011: From the customer data (df_customer), extract and display 10 rows of all items where the customer ID (customer_id) ends with \"01\"."
   ]
  },
  {
   "cell_type": "code",
   "execution_count": 19,
   "metadata": {
    "ExecuteTime": {
     "end_time": "2024-09-05T09:25:43.139493500Z",
     "start_time": "2024-09-05T09:25:43.014717300Z"
    }
   },
   "outputs": [
    {
     "data": {
      "text/plain": "        customer_id customer_name gender_cd gender   birth_day  age postal_cd  \\\n3    CS028811000001        堀井 かおり         1     女性  1933-03-27   86  245-0016   \n74   CS041515000001         栗田 千夏         1     女性  1967-01-02   52  206-0001   \n141  CS003512000601         倉本 季衣         1     女性  1967-01-06   52  214-0013   \n170  CS001413000601         大塚 奈央         1     女性  1971-11-04   47  144-0035   \n374  CS037315000101        安部 たまき         9     不明  1981-09-21   37  135-0012   \n387  CS038802000001         草村 雅之         0     男性  1935-08-16   83  132-0015   \n422  CS006605000001        佐久間 信吾         0     男性  1954-08-21   64  224-0057   \n540  CS011612000101        渡部 あや子         1     女性  1949-04-11   69  211-0025   \n555  CS003415000301         小杉 芽以         1     女性  1972-05-15   46  182-0023   \n579  CS038515000001         長尾 千夏         1     女性  1963-06-30   55  279-0042   \n\n                      address application_store_cd  application_date  \\\n3      神奈川県横浜市泉区和泉町**********               S14028          20160115   \n74         東京都多摩市和田**********               S13041          20160422   \n141  神奈川県川崎市多摩区登戸新町**********               S13003          20171013   \n170       東京都大田区南蒲田**********               S13001          20171010   \n374        東京都江東区海辺**********               S13037          20160115   \n387      東京都江戸川区西瑞江**********               S13038          20150901   \n422   神奈川県横浜市都筑区川和町**********               S14006          20150513   \n540    神奈川県川崎市中原区木月**********               S14011          20150711   \n555        東京都調布市染地**********               S13003          20160221   \n579        千葉県浦安市東野**********               S13038          20150310   \n\n        status_cd  \n3    0-00000000-0  \n74   E-20100803-F  \n141  0-00000000-0  \n170  0-00000000-0  \n374  6-20090214-4  \n387  7-20091101-6  \n422  C-20100618-D  \n540  0-00000000-0  \n555  9-20090820-B  \n579  B-20100905-B  ",
      "text/html": "<div>\n<style scoped>\n    .dataframe tbody tr th:only-of-type {\n        vertical-align: middle;\n    }\n\n    .dataframe tbody tr th {\n        vertical-align: top;\n    }\n\n    .dataframe thead th {\n        text-align: right;\n    }\n</style>\n<table border=\"1\" class=\"dataframe\">\n  <thead>\n    <tr style=\"text-align: right;\">\n      <th></th>\n      <th>customer_id</th>\n      <th>customer_name</th>\n      <th>gender_cd</th>\n      <th>gender</th>\n      <th>birth_day</th>\n      <th>age</th>\n      <th>postal_cd</th>\n      <th>address</th>\n      <th>application_store_cd</th>\n      <th>application_date</th>\n      <th>status_cd</th>\n    </tr>\n  </thead>\n  <tbody>\n    <tr>\n      <th>3</th>\n      <td>CS028811000001</td>\n      <td>堀井 かおり</td>\n      <td>1</td>\n      <td>女性</td>\n      <td>1933-03-27</td>\n      <td>86</td>\n      <td>245-0016</td>\n      <td>神奈川県横浜市泉区和泉町**********</td>\n      <td>S14028</td>\n      <td>20160115</td>\n      <td>0-00000000-0</td>\n    </tr>\n    <tr>\n      <th>74</th>\n      <td>CS041515000001</td>\n      <td>栗田 千夏</td>\n      <td>1</td>\n      <td>女性</td>\n      <td>1967-01-02</td>\n      <td>52</td>\n      <td>206-0001</td>\n      <td>東京都多摩市和田**********</td>\n      <td>S13041</td>\n      <td>20160422</td>\n      <td>E-20100803-F</td>\n    </tr>\n    <tr>\n      <th>141</th>\n      <td>CS003512000601</td>\n      <td>倉本 季衣</td>\n      <td>1</td>\n      <td>女性</td>\n      <td>1967-01-06</td>\n      <td>52</td>\n      <td>214-0013</td>\n      <td>神奈川県川崎市多摩区登戸新町**********</td>\n      <td>S13003</td>\n      <td>20171013</td>\n      <td>0-00000000-0</td>\n    </tr>\n    <tr>\n      <th>170</th>\n      <td>CS001413000601</td>\n      <td>大塚 奈央</td>\n      <td>1</td>\n      <td>女性</td>\n      <td>1971-11-04</td>\n      <td>47</td>\n      <td>144-0035</td>\n      <td>東京都大田区南蒲田**********</td>\n      <td>S13001</td>\n      <td>20171010</td>\n      <td>0-00000000-0</td>\n    </tr>\n    <tr>\n      <th>374</th>\n      <td>CS037315000101</td>\n      <td>安部 たまき</td>\n      <td>9</td>\n      <td>不明</td>\n      <td>1981-09-21</td>\n      <td>37</td>\n      <td>135-0012</td>\n      <td>東京都江東区海辺**********</td>\n      <td>S13037</td>\n      <td>20160115</td>\n      <td>6-20090214-4</td>\n    </tr>\n    <tr>\n      <th>387</th>\n      <td>CS038802000001</td>\n      <td>草村 雅之</td>\n      <td>0</td>\n      <td>男性</td>\n      <td>1935-08-16</td>\n      <td>83</td>\n      <td>132-0015</td>\n      <td>東京都江戸川区西瑞江**********</td>\n      <td>S13038</td>\n      <td>20150901</td>\n      <td>7-20091101-6</td>\n    </tr>\n    <tr>\n      <th>422</th>\n      <td>CS006605000001</td>\n      <td>佐久間 信吾</td>\n      <td>0</td>\n      <td>男性</td>\n      <td>1954-08-21</td>\n      <td>64</td>\n      <td>224-0057</td>\n      <td>神奈川県横浜市都筑区川和町**********</td>\n      <td>S14006</td>\n      <td>20150513</td>\n      <td>C-20100618-D</td>\n    </tr>\n    <tr>\n      <th>540</th>\n      <td>CS011612000101</td>\n      <td>渡部 あや子</td>\n      <td>1</td>\n      <td>女性</td>\n      <td>1949-04-11</td>\n      <td>69</td>\n      <td>211-0025</td>\n      <td>神奈川県川崎市中原区木月**********</td>\n      <td>S14011</td>\n      <td>20150711</td>\n      <td>0-00000000-0</td>\n    </tr>\n    <tr>\n      <th>555</th>\n      <td>CS003415000301</td>\n      <td>小杉 芽以</td>\n      <td>1</td>\n      <td>女性</td>\n      <td>1972-05-15</td>\n      <td>46</td>\n      <td>182-0023</td>\n      <td>東京都調布市染地**********</td>\n      <td>S13003</td>\n      <td>20160221</td>\n      <td>9-20090820-B</td>\n    </tr>\n    <tr>\n      <th>579</th>\n      <td>CS038515000001</td>\n      <td>長尾 千夏</td>\n      <td>1</td>\n      <td>女性</td>\n      <td>1963-06-30</td>\n      <td>55</td>\n      <td>279-0042</td>\n      <td>千葉県浦安市東野**********</td>\n      <td>S13038</td>\n      <td>20150310</td>\n      <td>B-20100905-B</td>\n    </tr>\n  </tbody>\n</table>\n</div>"
     },
     "execution_count": 19,
     "metadata": {},
     "output_type": "execute_result"
    }
   ],
   "source": [
    "(\n",
    "    df_customer.query(\"customer_id.str.endswith('01')\").head(10)\n",
    ")"
   ]
  },
  {
   "cell_type": "markdown",
   "metadata": {},
   "source": [
    "---\n",
    "> P-012: From the store data (df_store), display all items that include \"Yokohama City\" in the address (address)."
   ]
  },
  {
   "cell_type": "code",
   "execution_count": 26,
   "metadata": {
    "ExecuteTime": {
     "end_time": "2024-09-05T10:16:42.709239400Z",
     "start_time": "2024-09-05T10:16:42.559086800Z"
    }
   },
   "outputs": [
    {
     "data": {
      "text/plain": "   store_cd store_name prefecture_cd prefecture              address  \\\n2    S14010        菊名店            14       神奈川県      神奈川県横浜市港北区菊名一丁目   \n3    S14033       阿久和店            14       神奈川県    神奈川県横浜市瀬谷区阿久和西一丁目   \n7    S14040       長津田店            14       神奈川県  神奈川県横浜市緑区長津田みなみ台五丁目   \n9    S14050      阿久和西店            14       神奈川県    神奈川県横浜市瀬谷区阿久和西一丁目   \n12   S14028       二ツ橋店            14       神奈川県       神奈川県横浜市瀬谷区二ツ橋町   \n16   S14012      本牧和田店            14       神奈川県        神奈川県横浜市中区本牧和田   \n18   S14046       北山田店            14       神奈川県     神奈川県横浜市都筑区北山田一丁目   \n20   S14011      日吉本町店            14       神奈川県    神奈川県横浜市港北区日吉本町四丁目   \n26   S14048      中川中央店            14       神奈川県    神奈川県横浜市都筑区中川中央二丁目   \n40   S14042       新山下店            14       神奈川県      神奈川県横浜市中区新山下二丁目   \n\n                      address_kana        tel_no  longitude  latitude  \\\n2        カナガワケンヨコハマシコウホククキクナイッチョウメ  045-123-4032   139.6326  35.50049   \n3        カナガワケンヨコハマシセヤクアクワニシイッチョウメ  045-123-4043   139.4961  35.45918   \n7    カナガワケンヨコハマシミドリクナガツタミナミダイゴチョウメ  045-123-4046   139.4994  35.52398   \n9        カナガワケンヨコハマシセヤクアクワニシイッチョウメ  045-123-4053   139.4961  35.45918   \n12          カナガワケンヨコハマシセヤクフタツバシチョウ  045-123-4042   139.4963  35.46304   \n16            カナガワケンヨコハマシナカクホンモクワダ  045-123-4034   139.6582  35.42156   \n18      カナガワケンヨコハマシツヅキクキタヤマタイッチョウメ  045-123-4049   139.5916  35.56189   \n20  カナガワケンヨコハマシコウホククヒヨシホンチョウヨンチョウメ  045-123-4033   139.6316  35.54655   \n26   カナガワケンヨコハマシツヅキクナカガワチュウオウニチョウメ  045-123-4051   139.5758  35.54912   \n40       カナガワケンヨコハマシナカクシンヤマシタニチョウメ  045-123-4047   139.6593  35.43894   \n\n    floor_area  \n2       1732.0  \n3       1495.0  \n7       1548.0  \n9       1830.0  \n12      1574.0  \n16      1341.0  \n18       831.0  \n20       890.0  \n26      1657.0  \n40      1044.0  ",
      "text/html": "<div>\n<style scoped>\n    .dataframe tbody tr th:only-of-type {\n        vertical-align: middle;\n    }\n\n    .dataframe tbody tr th {\n        vertical-align: top;\n    }\n\n    .dataframe thead th {\n        text-align: right;\n    }\n</style>\n<table border=\"1\" class=\"dataframe\">\n  <thead>\n    <tr style=\"text-align: right;\">\n      <th></th>\n      <th>store_cd</th>\n      <th>store_name</th>\n      <th>prefecture_cd</th>\n      <th>prefecture</th>\n      <th>address</th>\n      <th>address_kana</th>\n      <th>tel_no</th>\n      <th>longitude</th>\n      <th>latitude</th>\n      <th>floor_area</th>\n    </tr>\n  </thead>\n  <tbody>\n    <tr>\n      <th>2</th>\n      <td>S14010</td>\n      <td>菊名店</td>\n      <td>14</td>\n      <td>神奈川県</td>\n      <td>神奈川県横浜市港北区菊名一丁目</td>\n      <td>カナガワケンヨコハマシコウホククキクナイッチョウメ</td>\n      <td>045-123-4032</td>\n      <td>139.6326</td>\n      <td>35.50049</td>\n      <td>1732.0</td>\n    </tr>\n    <tr>\n      <th>3</th>\n      <td>S14033</td>\n      <td>阿久和店</td>\n      <td>14</td>\n      <td>神奈川県</td>\n      <td>神奈川県横浜市瀬谷区阿久和西一丁目</td>\n      <td>カナガワケンヨコハマシセヤクアクワニシイッチョウメ</td>\n      <td>045-123-4043</td>\n      <td>139.4961</td>\n      <td>35.45918</td>\n      <td>1495.0</td>\n    </tr>\n    <tr>\n      <th>7</th>\n      <td>S14040</td>\n      <td>長津田店</td>\n      <td>14</td>\n      <td>神奈川県</td>\n      <td>神奈川県横浜市緑区長津田みなみ台五丁目</td>\n      <td>カナガワケンヨコハマシミドリクナガツタミナミダイゴチョウメ</td>\n      <td>045-123-4046</td>\n      <td>139.4994</td>\n      <td>35.52398</td>\n      <td>1548.0</td>\n    </tr>\n    <tr>\n      <th>9</th>\n      <td>S14050</td>\n      <td>阿久和西店</td>\n      <td>14</td>\n      <td>神奈川県</td>\n      <td>神奈川県横浜市瀬谷区阿久和西一丁目</td>\n      <td>カナガワケンヨコハマシセヤクアクワニシイッチョウメ</td>\n      <td>045-123-4053</td>\n      <td>139.4961</td>\n      <td>35.45918</td>\n      <td>1830.0</td>\n    </tr>\n    <tr>\n      <th>12</th>\n      <td>S14028</td>\n      <td>二ツ橋店</td>\n      <td>14</td>\n      <td>神奈川県</td>\n      <td>神奈川県横浜市瀬谷区二ツ橋町</td>\n      <td>カナガワケンヨコハマシセヤクフタツバシチョウ</td>\n      <td>045-123-4042</td>\n      <td>139.4963</td>\n      <td>35.46304</td>\n      <td>1574.0</td>\n    </tr>\n    <tr>\n      <th>16</th>\n      <td>S14012</td>\n      <td>本牧和田店</td>\n      <td>14</td>\n      <td>神奈川県</td>\n      <td>神奈川県横浜市中区本牧和田</td>\n      <td>カナガワケンヨコハマシナカクホンモクワダ</td>\n      <td>045-123-4034</td>\n      <td>139.6582</td>\n      <td>35.42156</td>\n      <td>1341.0</td>\n    </tr>\n    <tr>\n      <th>18</th>\n      <td>S14046</td>\n      <td>北山田店</td>\n      <td>14</td>\n      <td>神奈川県</td>\n      <td>神奈川県横浜市都筑区北山田一丁目</td>\n      <td>カナガワケンヨコハマシツヅキクキタヤマタイッチョウメ</td>\n      <td>045-123-4049</td>\n      <td>139.5916</td>\n      <td>35.56189</td>\n      <td>831.0</td>\n    </tr>\n    <tr>\n      <th>20</th>\n      <td>S14011</td>\n      <td>日吉本町店</td>\n      <td>14</td>\n      <td>神奈川県</td>\n      <td>神奈川県横浜市港北区日吉本町四丁目</td>\n      <td>カナガワケンヨコハマシコウホククヒヨシホンチョウヨンチョウメ</td>\n      <td>045-123-4033</td>\n      <td>139.6316</td>\n      <td>35.54655</td>\n      <td>890.0</td>\n    </tr>\n    <tr>\n      <th>26</th>\n      <td>S14048</td>\n      <td>中川中央店</td>\n      <td>14</td>\n      <td>神奈川県</td>\n      <td>神奈川県横浜市都筑区中川中央二丁目</td>\n      <td>カナガワケンヨコハマシツヅキクナカガワチュウオウニチョウメ</td>\n      <td>045-123-4051</td>\n      <td>139.5758</td>\n      <td>35.54912</td>\n      <td>1657.0</td>\n    </tr>\n    <tr>\n      <th>40</th>\n      <td>S14042</td>\n      <td>新山下店</td>\n      <td>14</td>\n      <td>神奈川県</td>\n      <td>神奈川県横浜市中区新山下二丁目</td>\n      <td>カナガワケンヨコハマシナカクシンヤマシタニチョウメ</td>\n      <td>045-123-4047</td>\n      <td>139.6593</td>\n      <td>35.43894</td>\n      <td>1044.0</td>\n    </tr>\n  </tbody>\n</table>\n</div>"
     },
     "execution_count": 26,
     "metadata": {},
     "output_type": "execute_result"
    }
   ],
   "source": [
    "df_store.query(\"address.str.contains('横浜市')\").head(10)"
   ]
  },
  {
   "cell_type": "markdown",
   "metadata": {},
   "source": [
    "---\n",
    "> P-013: From the customer data (df_customer), extract and display 10 rows of all items where the status code (status_cd) starts with an alphabet from A to F."
   ]
  },
  {
   "cell_type": "code",
   "execution_count": null,
   "metadata": {},
   "outputs": [],
   "source": []
  },
  {
   "cell_type": "markdown",
   "metadata": {},
   "source": [
    "---\n",
    "> P-014: From the customer data (df_customer), extract and display 10 rows of all items where the status code (status_cd) ends with a number from 1 to 9."
   ]
  },
  {
   "cell_type": "code",
   "execution_count": null,
   "metadata": {},
   "outputs": [],
   "source": []
  },
  {
   "cell_type": "markdown",
   "metadata": {},
   "source": [
    "---\n",
    "> P-015: From the customer data (df_customer), extract and display 10 rows of all items where the status code (status_cd) starts with an alphabet from A to F and ends with a number from 1 to 9.\n"
   ]
  },
  {
   "cell_type": "code",
   "execution_count": null,
   "metadata": {},
   "outputs": [],
   "source": []
  },
  {
   "cell_type": "markdown",
   "metadata": {},
   "source": [
    "---\n",
    "> P-016: From the store data (df_store), display all items where the telephone number (tel_no) starts with 3 digits and ends with 4 digits."
   ]
  },
  {
   "cell_type": "code",
   "execution_count": null,
   "metadata": {},
   "outputs": [],
   "source": []
  },
  {
   "cell_type": "markdown",
   "metadata": {},
   "source": [
    "---\n",
    "> P-017: Sort the customer data (df_customer) in descending order by birth date (birth_day), and display the first 10 rows of all items."
   ]
  },
  {
   "cell_type": "code",
   "execution_count": null,
   "metadata": {},
   "outputs": [],
   "source": []
  },
  {
   "cell_type": "markdown",
   "metadata": {},
   "source": [
    "---\n",
    "> P-018: Sort the customer data (df_customer) in ascending order by birth date (birth_day), and display the first 10 rows of all items."
   ]
  },
  {
   "cell_type": "code",
   "execution_count": null,
   "metadata": {},
   "outputs": [],
   "source": []
  },
  {
   "cell_type": "markdown",
   "metadata": {},
   "source": [
    "---\n",
    "> P-019: For the receipt details data (df_receipt), rank the items in descending order by sales amount per item (amount), and display the top 10 rows with the assigned rank. The columns to display are customer ID (customer_id) and sales amount (amount). In the case of ties in sales amount, assign the same rank and skip the next rank."
   ]
  },
  {
   "cell_type": "code",
   "execution_count": null,
   "metadata": {},
   "outputs": [],
   "source": []
  },
  {
   "cell_type": "markdown",
   "metadata": {},
   "source": [
    "---\n",
    "> P-020: For the receipt details data (df_receipt), rank the items in descending order by sales amount per item (amount), and display the top 10 rows with the assigned rank. The columns to display are customer ID (customer_id) and sales amount (amount). In the case of ties in sales amount, assign the same rank but give the next rank to the following item."
   ]
  },
  {
   "cell_type": "code",
   "execution_count": null,
   "metadata": {},
   "outputs": [],
   "source": []
  },
  {
   "cell_type": "markdown",
   "metadata": {},
   "source": [
    "---\n",
    "> P-021: Count the number of items in the receipt details data (df_receipt)."
   ]
  },
  {
   "cell_type": "code",
   "execution_count": null,
   "metadata": {},
   "outputs": [],
   "source": []
  },
  {
   "cell_type": "markdown",
   "metadata": {},
   "source": [
    "---\n",
    "> P-022: Count the number of unique values in the customer ID (customer_id) column in the receipt details data (df_receipt)."
   ]
  },
  {
   "cell_type": "code",
   "execution_count": null,
   "metadata": {},
   "outputs": [],
   "source": []
  },
  {
   "cell_type": "markdown",
   "metadata": {},
   "source": [
    "---\n",
    "> P-023: For the receipt details data (df_receipt), sum the sales amount (amount) and sales quantity (quantity) for each store code (store_cd)."
   ]
  },
  {
   "cell_type": "code",
   "execution_count": null,
   "metadata": {},
   "outputs": [],
   "source": []
  },
  {
   "cell_type": "markdown",
   "metadata": {},
   "source": [
    "---\n",
    "> P-024: For each customer ID (customer_id) in the receipt details data (df_receipt), find the most recent sales date (sales_ymd), and display the top 10 rows."
   ]
  },
  {
   "cell_type": "code",
   "execution_count": null,
   "metadata": {},
   "outputs": [],
   "source": []
  },
  {
   "cell_type": "markdown",
   "metadata": {},
   "source": [
    "---\n",
    "> P-025: For each customer ID (customer_id) in the receipt details data (df_receipt), find the oldest sales date (sales_ymd), and display the top 10 rows."
   ]
  },
  {
   "cell_type": "code",
   "execution_count": null,
   "metadata": {},
   "outputs": [],
   "source": []
  },
  {
   "cell_type": "markdown",
   "metadata": {},
   "source": [
    "---\n",
    "> P-026: For each customer ID (customer_id) in the receipt details data (df_receipt), find the most recent and the oldest sales dates (sales_ymd), and display the top 10 rows where the gap is the smallest."
   ]
  },
  {
   "cell_type": "code",
   "execution_count": null,
   "metadata": {},
   "outputs": [],
   "source": []
  },
  {
   "cell_type": "markdown",
   "metadata": {},
   "source": [
    "---\n",
    "> P-027: For each store code (store_cd) in the receipt details data (df_receipt), calculate the average sales amount (amount), and display the top 5 in descending order."
   ]
  },
  {
   "cell_type": "code",
   "execution_count": null,
   "metadata": {},
   "outputs": [],
   "source": []
  },
  {
   "cell_type": "markdown",
   "metadata": {},
   "source": [
    "---\n",
    "> P-028: For each store code (store_cd) in the receipt details data (df_receipt), calculate the median sales amount (amount), and display the top 5 in descending order."
   ]
  },
  {
   "cell_type": "code",
   "execution_count": null,
   "metadata": {},
   "outputs": [],
   "source": []
  },
  {
   "cell_type": "markdown",
   "metadata": {},
   "source": [
    "---\n",
    "> P-029: For each store code (store_cd) in the receipt details data (df_receipt), find the most frequent product code (product_cd), and display the top 10."
   ]
  },
  {
   "cell_type": "code",
   "execution_count": null,
   "metadata": {},
   "outputs": [],
   "source": []
  },
  {
   "cell_type": "markdown",
   "metadata": {},
   "source": [
    "---\n",
    "> P-030: For each store code (store_cd) in the receipt details data (df_receipt), calculate the variance of the sales amount (amount), and display the top 5 in descending order."
   ]
  },
  {
   "cell_type": "code",
   "execution_count": null,
   "metadata": {},
   "outputs": [],
   "source": []
  },
  {
   "cell_type": "markdown",
   "metadata": {},
   "source": [
    "---\n",
    "> P-031: For each store code (store_cd) in the receipt details data (df_receipt), calculate the standard deviation of the sales amount (amount), and display the top 5 in descending order."
   ]
  },
  {
   "cell_type": "markdown",
   "metadata": {},
   "source": [
    "TIPS:\n",
    "\n",
    "Pay attention to the default ddof value difference between Pandas and Numpy.\n",
    "```\n",
    "Pandas：\n",
    "DataFrame.std(self, axis=None, skipna=None, level=None, ddof=1, numeric_only=None, **kwargs)\n",
    "Numpy:\n",
    "numpy.std(a, axis=None, dtype=None, out=None, ddof=0, keepdims=)\n",
    "```"
   ]
  },
  {
   "cell_type": "code",
   "execution_count": null,
   "metadata": {},
   "outputs": [],
   "source": []
  },
  {
   "cell_type": "markdown",
   "metadata": {},
   "source": [
    "---\n",
    "> P-032: For the sales amount (amount) in the receipt details data (df_receipt), calculate the 25th and 75th percentile values."
   ]
  },
  {
   "cell_type": "code",
   "execution_count": null,
   "metadata": {},
   "outputs": [],
   "source": []
  },
  {
   "cell_type": "markdown",
   "metadata": {},
   "source": [
    "---\n",
    "> P-033: For the receipt details data (df_receipt), calculate the average sales amount (amount) for each store code (store_cd), and extract those that are 330 or more."
   ]
  },
  {
   "cell_type": "code",
   "execution_count": null,
   "metadata": {},
   "outputs": [],
   "source": []
  },
  {
   "cell_type": "markdown",
   "metadata": {},
   "source": [
    "---\n",
    "> P-034: For the receipt details data (df_receipt), calculate the average sales amount (amount) per customer ID (customer_id), and exclude the average sales amount per customer whose ID starts with \"Z\" from the overall average calculation."
   ]
  },
  {
   "cell_type": "code",
   "execution_count": null,
   "metadata": {},
   "outputs": [],
   "source": []
  },
  {
   "cell_type": "markdown",
   "metadata": {},
   "source": [
    "---\n",
    "> P-035: For the receipt details data (df_receipt), calculate the average sales amount (amount) per customer ID (customer_id), and extract the top 10 customers with above-average sales amounts. Exclude the average sales amount per customer whose ID starts with \"Z\" from the overall average calculation."
   ]
  },
  {
   "cell_type": "code",
   "execution_count": null,
   "metadata": {},
   "outputs": [],
   "source": []
  },
  {
   "cell_type": "markdown",
   "metadata": {},
   "source": [
    "---\n",
    "> P-036: Merge the receipt details data (df_receipt) and the store data (df_store), and display 10 rows of all items, including the store name (store_name) from the store data."
   ]
  },
  {
   "cell_type": "code",
   "execution_count": null,
   "metadata": {},
   "outputs": [],
   "source": []
  },
  {
   "cell_type": "markdown",
   "metadata": {},
   "source": [
    "---\n",
    "> P-037: Merge the product data (df_product) and the category data (df_category), and display 10 rows of all items, including the category small name (category_small_name) from the category data."
   ]
  },
  {
   "cell_type": "code",
   "execution_count": null,
   "metadata": {},
   "outputs": [],
   "source": []
  },
  {
   "cell_type": "markdown",
   "metadata": {},
   "source": [
    "---\n",
    "> P-038: From the customer data (df_customer) and the receipt details data (df_receipt), calculate the total sales amount for each customer and display the top 10. However, exclude customers without sales data and only display female customers (gender code (gender_cd) = 1)."
   ]
  },
  {
   "cell_type": "code",
   "execution_count": null,
   "metadata": {},
   "outputs": [],
   "source": []
  },
  {
   "cell_type": "markdown",
   "metadata": {},
   "source": [
    "---\n",
    "> P-039: From the receipt details data (df_receipt), create a dataset of the top 20 customers with the highest number of sales transactions and another dataset of the top 20 customers with the highest total sales amount, then merge these two datasets to display the top 20. Exclude non-members (customer ID (customer_id) starting with \"Z\")."
   ]
  },
  {
   "cell_type": "code",
   "execution_count": null,
   "metadata": {},
   "outputs": [],
   "source": []
  },
  {
   "cell_type": "markdown",
   "metadata": {},
   "source": [
    "---\n",
    "> P-040: Create a dataset combining all products from all stores, and merge it with the store data (df_store) and product data (df_product)."
   ]
  },
  {
   "cell_type": "code",
   "execution_count": null,
   "metadata": {},
   "outputs": [],
   "source": []
  },
  {
   "cell_type": "markdown",
   "metadata": {},
   "source": [
    "---\n",
    "> P-041: For the sales amount (amount) in the receipt details data (df_receipt), calculate the difference in sales amount for each sales date (sales_ymd) compared to the previous day, then display the top 10 results."
   ]
  },
  {
   "cell_type": "code",
   "execution_count": null,
   "metadata": {},
   "outputs": [],
   "source": []
  },
  {
   "cell_type": "markdown",
   "metadata": {},
   "source": [
    "---\n",
    "> P-042: For the sales amount (amount) in the receipt details data (df_receipt), calculate the difference in sales amount for each sales date (sales_ymd) compared to the previous day, two days before, and three days before, then display the top 10 results."
   ]
  },
  {
   "cell_type": "code",
   "execution_count": null,
   "metadata": {},
   "outputs": [],
   "source": []
  },
  {
   "cell_type": "markdown",
   "metadata": {},
   "source": [
    "---\n",
    "> P-043: Merge the receipt details data (df_receipt) and customer data (df_customer), and create a summary dataset of total sales amount (amount) by gender code (gender_cd) and age group. Gender code 0 indicates male, 1 indicates female, and 9 indicates unknown. Display the total sales amount for each gender and age group, as well as a crosstabulation of gender and age group. Also, display the top 10 rows."
   ]
  },
  {
   "cell_type": "code",
   "execution_count": null,
   "metadata": {},
   "outputs": [],
   "source": []
  },
  {
   "cell_type": "markdown",
   "metadata": {},
   "source": [
    "---\n",
    "> P-044: The summary dataset created in P-043 (df_sales_summary) shows the total sales amount by gender and age group. Change the gender code values to \"00\" for male, \"01\" for female, and \"99\" for unknown, then display the top 10 rows."
   ]
  },
  {
   "cell_type": "code",
   "execution_count": null,
   "metadata": {},
   "outputs": [],
   "source": []
  },
  {
   "cell_type": "markdown",
   "metadata": {},
   "source": [
    "---\n",
    "> P-045: The birth date (birth_day) in the customer data (df_customer) is stored as date type data. Convert this to a string in the format YYYYMMDD and display it along with the customer ID (customer_id), showing the top 10 rows."
   ]
  },
  {
   "cell_type": "code",
   "execution_count": null,
   "metadata": {},
   "outputs": [],
   "source": []
  },
  {
   "cell_type": "markdown",
   "metadata": {},
   "source": [
    "---\n",
    "> P-046: The application date (application_date) in the customer data (df_customer) is stored as a string in the format YYYYMMDD. Convert this to date type data and display it along with the customer ID (customer_id), showing the top 10 rows."
   ]
  },
  {
   "cell_type": "code",
   "execution_count": null,
   "metadata": {},
   "outputs": [],
   "source": []
  },
  {
   "cell_type": "markdown",
   "metadata": {},
   "source": [
    "---\n",
    "> P-047: The sales date (sales_ymd) in the receipt details data (df_receipt) is stored as an integer in the format YYYYMMDD. Convert this to date type data and display it along with the receipt number (receipt_no) and receipt sub-number (receipt_sub_no), showing the top 10 rows."
   ]
  },
  {
   "cell_type": "code",
   "execution_count": null,
   "metadata": {},
   "outputs": [],
   "source": []
  },
  {
   "cell_type": "markdown",
   "metadata": {},
   "source": [
    "---\n",
    "> P-048: The sales epoch (sales_epoch) in the receipt details data (df_receipt) is stored as integer UNIX seconds. Convert this to date type data and display it along with the receipt number (receipt_no) and receipt sub-number (receipt_sub_no), showing the top 10 rows."
   ]
  },
  {
   "cell_type": "code",
   "execution_count": null,
   "metadata": {},
   "outputs": [],
   "source": []
  },
  {
   "cell_type": "markdown",
   "metadata": {},
   "source": [
    "---\n",
    "> P-049: Convert the sales epoch (sales_epoch) in the receipt details data (df_receipt) to date type data and extract only the \"year\". Display this along with the receipt number (receipt_no) and receipt sub-number (receipt_sub_no), showing the top 10 rows."
   ]
  },
  {
   "cell_type": "code",
   "execution_count": null,
   "metadata": {},
   "outputs": [],
   "source": []
  },
  {
   "cell_type": "markdown",
   "metadata": {},
   "source": [
    "---\n",
    "> P-050: Convert the sales epoch (sales_epoch) in the receipt details data (df_receipt) to date type data and extract only the \"month\". Display this along with the receipt number (receipt_no) and receipt sub-number (receipt_sub_no), showing the top 10 rows. Note that \"month\" should be extracted as a 2-digit number."
   ]
  },
  {
   "cell_type": "code",
   "execution_count": null,
   "metadata": {},
   "outputs": [],
   "source": []
  },
  {
   "cell_type": "markdown",
   "metadata": {},
   "source": [
    "---\n",
    "> P-051: Convert the sales epoch (sales_epoch) in the receipt details data (df_receipt) to date type data and extract only the \"day\". Display this along with the receipt number (receipt_no) and receipt sub-number (receipt_sub_no), showing the top 10 rows. Note that \"day\" should be extracted as a 2-digit number."
   ]
  },
  {
   "cell_type": "code",
   "execution_count": null,
   "metadata": {},
   "outputs": [],
   "source": []
  },
  {
   "cell_type": "markdown",
   "metadata": {},
   "source": [
    "---\n",
    "> P-052: For the receipt details data (df_receipt), calculate the total sales amount (amount) for each customer ID (customer_id). If the total is 2,000 yen or less, double the amount; if it is more than 2,000 yen, halve the amount. Display the customer ID and the calculated sales amount, showing the top 10 rows. Exclude customers whose ID starts with \"Z\"."
   ]
  },
  {
   "cell_type": "code",
   "execution_count": null,
   "metadata": {},
   "outputs": [],
   "source": []
  },
  {
   "cell_type": "markdown",
   "metadata": {},
   "source": [
    "---\n",
    "> P-053: For the customer data (df_customer), reclassify the postal code (postal_cd) into two categories: \"Tokyo\" (if the first three digits are between 100 and 209) and \"Other\". Merge this with the receipt details data (df_receipt) and count the number of customers with sales records within each category."
   ]
  },
  {
   "cell_type": "code",
   "execution_count": null,
   "metadata": {},
   "outputs": [],
   "source": []
  },
  {
   "cell_type": "markdown",
   "metadata": {},
   "source": [
    "---\n",
    "> P-054: The address (address) in the customer data (df_customer) contains prefectures such as Saitama, Chiba, Tokyo, and Kanagawa. Create a code table for these prefectures and display it along with the customer ID and address, showing the top 10 rows. Assign Saitama a code of 11, Chiba 12, Tokyo 13, and Kanagawa 14."
   ]
  },
  {
   "cell_type": "code",
   "execution_count": null,
   "metadata": {},
   "outputs": [],
   "source": []
  },
  {
   "cell_type": "markdown",
   "metadata": {},
   "source": [
    "---\n",
    "> P-055: For the receipt details data (df_receipt), calculate the total sales amount (amount) for each customer ID (customer_id) and determine its quartile rank. Based on the quartile rank, create a category with the following values and display the customer ID and total sales amount, showing the top 10 rows:\n",
    "> - 1: Bottom quartile (0-25%)\n",
    "> - 2: Second quartile (25-50%)\n",
    "> - 3: Third quartile (50-75%)\n",
    "> - 4: Top quartile (75-100%)"
   ]
  },
  {
   "cell_type": "code",
   "execution_count": null,
   "metadata": {},
   "outputs": [],
   "source": []
  },
  {
   "cell_type": "markdown",
   "metadata": {},
   "source": [
    "---\n",
    "> P-056: Extract the age (age) from the customer data (df_customer) and classify it into age groups by decade. Display the customer ID and birth date (birth_day), showing the top 10 rows. Treat customers aged 60 and above as a single category of \"60+\". The age category should be labeled."
   ]
  },
  {
   "cell_type": "code",
   "execution_count": null,
   "metadata": {},
   "outputs": [],
   "source": []
  },
  {
   "cell_type": "markdown",
   "metadata": {},
   "source": [
    "---\n",
    "> P-057: Using the extracted age groups and gender code (gender_cd) from P-056, create a new categorical dataset representing the combination of age group and gender. Display the top 10 rows and list the unique values of the combined category."
   ]
  },
  {
   "cell_type": "code",
   "execution_count": null,
   "metadata": {},
   "outputs": [],
   "source": []
  },
  {
   "cell_type": "markdown",
   "metadata": {},
   "source": [
    "---\n",
    "> P-058: P-058: Convert the gender code (gender_cd) in the customer data (df_customer) to dummy variables and display it along with the customer ID (customer_id), showing the top 10 rows."
   ]
  },
  {
   "cell_type": "code",
   "execution_count": null,
   "metadata": {},
   "outputs": [],
   "source": []
  },
  {
   "cell_type": "markdown",
   "metadata": {},
   "source": [
    "---\n",
    "> P-059: For the receipt details data (df_receipt), calculate the average, standard deviation, and coefficient of variation of the total sales amount (amount) for each customer ID (customer_id), and display the top 10 rows along with the customer ID and total sales amount. Use either the population standard deviation or the sample standard deviation. Exclude customers whose ID starts with \"Z\"."
   ]
  },
  {
   "cell_type": "markdown",
   "metadata": {},
   "source": [
    "TIPS:\n",
    "- You can specify \"python\" or \"numexpr\" as the query engine in the argument of the query() method. The default is \"numexpr\" if installed, otherwise \"python\" is used. Additionally, the string method engine='python' cannot be used within query().\n"
   ]
  },
  {
   "cell_type": "code",
   "execution_count": null,
   "metadata": {},
   "outputs": [],
   "source": []
  },
  {
   "cell_type": "markdown",
   "metadata": {},
   "source": [
    "---\n",
    "> P-060: For the receipt details data (df_receipt), calculate the minimum and maximum total sales amount (amount) for each customer ID (customer_id), and normalize these values. Display the top 10 rows along with the customer ID and total sales amount. Exclude customers whose ID starts with \"Z\"."
   ]
  },
  {
   "cell_type": "code",
   "execution_count": null,
   "metadata": {},
   "outputs": [],
   "source": []
  },
  {
   "cell_type": "markdown",
   "metadata": {},
   "source": [
    "---\n",
    "> P-061: For the receipt details data (df_receipt), calculate the total sales amount (amount) for each customer ID (customer_id), and apply the natural logarithm transformation (base 10). Display the top 10 rows along with the customer ID and total sales amount. Exclude customers whose ID starts with \"Z\"."
   ]
  },
  {
   "cell_type": "code",
   "execution_count": null,
   "metadata": {},
   "outputs": [],
   "source": []
  },
  {
   "cell_type": "markdown",
   "metadata": {},
   "source": [
    "---\n",
    "> P-062: For the receipt details data (df_receipt), calculate the total sales amount (amount) for each customer ID (customer_id), and apply the natural logarithm transformation (base e). Display the top 10 rows along with the customer ID and total sales amount. Exclude customers whose ID starts with \"Z\"."
   ]
  },
  {
   "cell_type": "code",
   "execution_count": null,
   "metadata": {},
   "outputs": [],
   "source": []
  },
  {
   "cell_type": "markdown",
   "metadata": {},
   "source": [
    "---\n",
    "> P-063: For the product data (df_product), calculate the gross profit for each product using the unit price (unit_price) and unit cost (unit_cost), and display the top 10 rows."
   ]
  },
  {
   "cell_type": "code",
   "execution_count": null,
   "metadata": {},
   "outputs": [],
   "source": []
  },
  {
   "cell_type": "markdown",
   "metadata": {},
   "source": [
    "---\n",
    "> P-064: For each product in the product data (df_product), calculate the average gross profit margin using the unit price (unit_price) and unit cost (unit_cost). Note that the unit price and unit cost may have missing values."
   ]
  },
  {
   "cell_type": "code",
   "execution_count": null,
   "metadata": {},
   "outputs": [],
   "source": []
  },
  {
   "cell_type": "markdown",
   "metadata": {},
   "source": [
    "---\n",
    "> P-065: For each product in the product data (df_product), calculate the new unit price that achieves a gross profit margin of 30%. Round down to the nearest yen. Display the top 10 results and confirm that the gross profit margin is approximately 30%. Note that the unit price (unit_price) and unit cost (unit_cost) may have missing values."
   ]
  },
  {
   "cell_type": "code",
   "execution_count": null,
   "metadata": {},
   "outputs": [],
   "source": []
  },
  {
   "cell_type": "markdown",
   "metadata": {},
   "source": [
    "---\n",
    "> P-066: For each product in the product data (df_product), calculate the new unit price that achieves a gross profit margin of 30%. This time, round up to the nearest yen (ceil). Display the top 10 results and confirm that the gross profit margin is approximately 30%. Note that the unit price (unit_price) and unit cost (unit_cost) may have missing values."
   ]
  },
  {
   "cell_type": "code",
   "execution_count": null,
   "metadata": {},
   "outputs": [],
   "source": []
  },
  {
   "cell_type": "markdown",
   "metadata": {},
   "source": [
    "---\n",
    "> P-067: For each product in the product data (df_product), calculate the new unit price that achieves a gross profit margin of 30%. This time, round up to the nearest yen. Display the top 10 results and confirm that the gross profit margin is approximately 30%. Note that the unit price (unit_price) and unit cost (unit_cost) may have missing values."
   ]
  },
  {
   "cell_type": "code",
   "execution_count": null,
   "metadata": {},
   "outputs": [],
   "source": []
  },
  {
   "cell_type": "markdown",
   "metadata": {},
   "source": [
    "---\n",
    "> P-068: For each product in the product data (df_product), calculate the price including a 10% consumption tax. Round down to the nearest yen and display the top 10 results. Note that the unit price (unit_price) may have missing values."
   ]
  },
  {
   "cell_type": "code",
   "execution_count": null,
   "metadata": {},
   "outputs": [],
   "source": []
  },
  {
   "cell_type": "markdown",
   "metadata": {},
   "source": [
    "---\n",
    "> P-069: Merge the receipt details data (df_receipt) and the product data (df_product), then calculate the total sales amount for each customer annually. Calculate the percentage of sales for the category major code (category_major_cd) \"07\" (Household appliances) and display the top 10 results. The extraction target is the category major code \"07\"."
   ]
  },
  {
   "cell_type": "code",
   "execution_count": null,
   "metadata": {},
   "outputs": [],
   "source": []
  },
  {
   "cell_type": "markdown",
   "metadata": {},
   "source": [
    "---\n",
    "> P-070: For the receipt details data (df_receipt), calculate the number of elapsed days from the application date (application_date) of the customer data (df_customer) for each sales date (sales_ymd). Display the customer ID (customer_id), sales date, and elapsed days along with the application date, showing the top 10 rows. Note that the application date is stored as a string."
   ]
  },
  {
   "cell_type": "code",
   "execution_count": null,
   "metadata": {},
   "outputs": [],
   "source": []
  },
  {
   "cell_type": "markdown",
   "metadata": {},
   "source": [
    "---\n",
    "> P-071: For the receipt details data (df_receipt), calculate the number of elapsed months from the application date (application_date) in the customer data (df_customer) for each sales date (sales_ymd). Display the customer ID (customer_id), sales date, application date, and elapsed months along with the top 10 rows. Note that sales_ymd is stored as an integer."
   ]
  },
  {
   "cell_type": "code",
   "execution_count": null,
   "metadata": {},
   "outputs": [],
   "source": []
  },
  {
   "cell_type": "markdown",
   "metadata": {},
   "source": [
    "---\n",
    "> P-072: For the receipt details data (df_receipt), calculate the number of elapsed years from the application date (application_date) in the customer data (df_customer) for each sales date (sales_ymd). Display the customer ID (customer_id), sales date, application date, and elapsed years along with the top 10 rows. Note that sales_ymd is stored as an integer."
   ]
  },
  {
   "cell_type": "code",
   "execution_count": null,
   "metadata": {},
   "outputs": [],
   "source": []
  },
  {
   "cell_type": "markdown",
   "metadata": {},
   "source": [
    "---\n",
    "> P-073: For the receipt details data (df_receipt), calculate the elapsed time in epochs from the application date (application_date) in the customer data (df_customer) for each sales date (sales_ymd). Display the customer ID (customer_id), sales date, application date, and elapsed time in epochs along with the top 10 rows. Note that sales_ymd and application_date are stored as integers. Also, assume that the default time for dates without a time component is 00:00:00."
   ]
  },
  {
   "cell_type": "code",
   "execution_count": null,
   "metadata": {},
   "outputs": [],
   "source": []
  },
  {
   "cell_type": "markdown",
   "metadata": {},
   "source": [
    "---\n",
    "> P-074: For the receipt details data (df_receipt), calculate the number of elapsed months from the current month to each sales date (sales_ymd). Display the sales date, current month, and elapsed months along with the top 10 rows. Note that sales_ymd is stored as an integer."
   ]
  },
  {
   "cell_type": "code",
   "execution_count": null,
   "metadata": {},
   "outputs": [],
   "source": []
  },
  {
   "cell_type": "markdown",
   "metadata": {},
   "source": [
    "---\n",
    "> P-075: Randomly sample 1% of the data from the customer data (df_customer) and display the top 10 rows."
   ]
  },
  {
   "cell_type": "code",
   "execution_count": null,
   "metadata": {},
   "outputs": [],
   "source": []
  },
  {
   "cell_type": "markdown",
   "metadata": {},
   "source": [
    "---\n",
    "> P-076: Randomly sample 10% of the data from the customer data (df_customer) by gender (gender_cd), and display the frequency count for each gender."
   ]
  },
  {
   "cell_type": "code",
   "execution_count": null,
   "metadata": {},
   "outputs": [],
   "source": []
  },
  {
   "cell_type": "markdown",
   "metadata": {},
   "source": [
    "---\n",
    "> P-077: For the receipt details data (df_receipt), calculate the sales amount per transaction, identify and extract outliers, and calculate the average and standard deviation for the remaining transactions. Consider values that are more than 3 standard deviations away from the average as outliers. Display the results and the top 10 rows."
   ]
  },
  {
   "cell_type": "code",
   "execution_count": null,
   "metadata": {},
   "outputs": [],
   "source": []
  },
  {
   "cell_type": "markdown",
   "metadata": {},
   "source": [
    "---\n",
    "> P-078: For the receipt details data (df_receipt), calculate the sales amount (amount) per transaction and identify outliers. Exclude non-members whose customer ID starts with \"Z\" from the calculation. Use the IQR method to identify outliers, defined as values greater than Q3 + 1.5 * IQR or less than Q1 - 1.5 * IQR. Display the results and the top 10 rows."
   ]
  },
  {
   "cell_type": "code",
   "execution_count": null,
   "metadata": {},
   "outputs": [],
   "source": []
  },
  {
   "cell_type": "markdown",
   "metadata": {},
   "source": [
    "---\n",
    "> P-079: For the product data (df_product), check for missing values in each item."
   ]
  },
  {
   "cell_type": "code",
   "execution_count": null,
   "metadata": {},
   "outputs": [],
   "source": []
  },
  {
   "cell_type": "markdown",
   "metadata": {},
   "source": [
    "---\n",
    "> P-080: For the product data (df_product), create a new dataset by removing records with missing values in any of the items. Confirm that there are no missing values left by verifying the count of records before and after the operation performed in P-079."
   ]
  },
  {
   "cell_type": "code",
   "execution_count": null,
   "metadata": {},
   "outputs": [],
   "source": []
  },
  {
   "cell_type": "markdown",
   "metadata": {},
   "source": [
    "---\n",
    "> P-081: For the product data (df_product), impute missing values in unit price (unit_price) and unit cost (unit_cost) with their respective means, and create a new dataset. Round up the means to the nearest yen if necessary. After imputation, confirm that there are no missing values in any of the items."
   ]
  },
  {
   "cell_type": "code",
   "execution_count": null,
   "metadata": {},
   "outputs": [],
   "source": []
  },
  {
   "cell_type": "markdown",
   "metadata": {
    "tags": []
   },
   "source": [
    "---\n",
    "> P-082: For the product data (df_product), impute missing values in unit price (unit_price) and unit cost (unit_cost) with their respective medians, and create a new dataset. Round up the medians to the nearest yen if necessary. After imputation, confirm that there are no missing values in any of the items."
   ]
  },
  {
   "cell_type": "code",
   "execution_count": null,
   "metadata": {},
   "outputs": [],
   "source": []
  },
  {
   "cell_type": "markdown",
   "metadata": {},
   "source": [
    "---\n",
    "> P-083: For the product data (df_product), impute missing values in unit price (unit_price) and unit cost (unit_cost) by the median of each product's category small code (category_small_cd), and create a new dataset. Round up the medians to the nearest yen if necessary. After imputation, confirm that there are no missing values in any of the items."
   ]
  },
  {
   "cell_type": "code",
   "execution_count": null,
   "metadata": {},
   "outputs": [],
   "source": []
  },
  {
   "cell_type": "markdown",
   "metadata": {},
   "source": [
    "---\n",
    "> P-084: For the customer data (df_customer), calculate the total sales amount by occupation and the proportion of sales in 2019. Create a new dataset with these values, assuming no sales information exists if data is missing. Extract the proportion of sales and display the top 10 rows. Additionally, check for any missing values in the newly created data."
   ]
  },
  {
   "cell_type": "code",
   "execution_count": null,
   "metadata": {},
   "outputs": [],
   "source": []
  },
  {
   "cell_type": "markdown",
   "metadata": {},
   "source": [
    "---\n",
    "> P-085: For the customer data (df_customer), create new data by adding latitude and longitude coordinates for each postal code (postal_cd) using a geocode table (df_geocode). If a postal code has multiple coordinates, use the average latitude and longitude values. Display the top 10 rows to verify the results."
   ]
  },
  {
   "cell_type": "code",
   "execution_count": null,
   "metadata": {},
   "outputs": [],
   "source": []
  },
  {
   "cell_type": "markdown",
   "metadata": {},
   "source": [
    "---\n",
    "> P-086: Using the data created in P-085, combine it with the store data (df_store) based on the application store code (application_store_cd) to create a new dataset. Calculate the distance between the customer's address (latitude, longitude) and the store's address (latitude, longitude) for each application store and display the top 10 rows. You can use a library for distance calculation if necessary.\n",
    "\n",
    "$$\n",
    "\\mbox{緯度（ラジアン）}：\\phi \\\\\n",
    "\\mbox{経度（ラジアン）}：\\lambda \\\\\n",
    "\\mbox{距離}L = 6371 * \\arccos(\\sin \\phi_1 * \\sin \\phi_2\n",
    "+ \\cos \\phi_1 * \\cos \\phi_2 * \\cos(\\lambda_1 − \\lambda_2))\n",
    "$$"
   ]
  },
  {
   "cell_type": "code",
   "execution_count": null,
   "metadata": {},
   "outputs": [],
   "source": []
  },
  {
   "cell_type": "markdown",
   "metadata": {},
   "source": [
    "---\n",
    "> P-087: In the customer data (df_customer), there are cases where the same customer is registered at different stores under slightly different names or addresses. Create a new dataset by consolidating records where the customer name (customer_name) and postal code (postal_cd) are considered the same if they match exactly. In cases where there are discrepancies, prioritize the record with the higher total sales amount, or if sales amounts are equal, prioritize the record with the smaller customer ID."
   ]
  },
  {
   "cell_type": "code",
   "execution_count": null,
   "metadata": {},
   "outputs": [],
   "source": []
  },
  {
   "cell_type": "markdown",
   "metadata": {},
   "source": [
    "---\n",
    "> P-088: Using the data created in P-087, create a new dataset with consolidated customer data according to the following specifications:\n",
    "> - Retain only the customer ID (customer_id).\n",
    "> - For duplicate records, use the receipt number (receipt_no) from the previous extracted receipt record.\n",
    "> - Ensure the uniqueness of the customer ID in the new dataset."
   ]
  },
  {
   "cell_type": "code",
   "execution_count": null,
   "metadata": {},
   "outputs": [],
   "source": []
  },
  {
   "cell_type": "markdown",
   "metadata": {},
   "source": [
    "---\n",
    "> P-089: Split the receipt data (df_receipt) into training and test datasets for predictive modeling. Use an 80:20 ratio for the split."
   ]
  },
  {
   "cell_type": "code",
   "execution_count": null,
   "metadata": {},
   "outputs": [],
   "source": []
  },
  {
   "cell_type": "markdown",
   "metadata": {},
   "source": [
    "---\n",
    "> P-090: For the receipt details data (df_receipt), extract data from January 1, 2017, to October 31, 2019. Create three sets of monthly sequential sales data: 12 months for training, 6 months for testing, and 6 months for validation."
   ]
  },
  {
   "cell_type": "code",
   "execution_count": null,
   "metadata": {},
   "outputs": [],
   "source": []
  },
  {
   "cell_type": "markdown",
   "metadata": {},
   "source": [
    "---\n",
    "> P-091: For the customer data (df_customer), perform undersampling to ensure that the number of customers without sales records is equal to the number of customers with sales records."
   ]
  },
  {
   "cell_type": "code",
   "execution_count": null,
   "metadata": {},
   "outputs": [],
   "source": []
  },
  {
   "cell_type": "markdown",
   "metadata": {},
   "source": [
    "---\n",
    "> P-092: For the customer data (df_customer), normalize the gender code (gender_cd) into three categories: male, female, and unknown."
   ]
  },
  {
   "cell_type": "code",
   "execution_count": null,
   "metadata": {},
   "outputs": [],
   "source": []
  },
  {
   "cell_type": "markdown",
   "metadata": {},
   "source": [
    "---\n",
    "> P-093: For the product data (df_product), merge with the category data (df_category) to retain the category name while keeping the category code intact. Create a new product dataset with this combined information."
   ]
  },
  {
   "cell_type": "code",
   "execution_count": null,
   "metadata": {},
   "outputs": [],
   "source": []
  },
  {
   "cell_type": "markdown",
   "metadata": {},
   "source": [
    "---\n",
    "> P-094: Save the new product dataset created in P-093 with the category names included as a CSV file with the following specifications:\n",
    "> - File format: CSV (comma-separated values)\n",
    "> - Header: No\n",
    "> - Text encoding: UTF-8\n",
    "> - File output path: /data"
   ]
  },
  {
   "cell_type": "code",
   "execution_count": null,
   "metadata": {},
   "outputs": [],
   "source": []
  },
  {
   "cell_type": "markdown",
   "metadata": {},
   "source": [
    "---\n",
    "> P-095: Save the new product dataset created in P-093 with the category names included as a CSV file with the following specifications:\n",
    "> - File format: CSV (comma-separated values)\n",
    "> - Header: Yes\n",
    "> - Text encoding: CP932\n",
    "> - File output path: /data"
   ]
  },
  {
   "cell_type": "code",
   "execution_count": null,
   "metadata": {},
   "outputs": [],
   "source": []
  },
  {
   "cell_type": "markdown",
   "metadata": {},
   "source": [
    "---\n",
    "> P-096: Save the new product dataset created in P-093 with the category names included as a CSV file with the following specifications:\n",
    "> - File format: CSV (comma-separated values)\n",
    "> - Header: No\n",
    "> - Text encoding: UTF-8\n",
    "> - File output path: /data"
   ]
  },
  {
   "cell_type": "code",
   "execution_count": null,
   "metadata": {},
   "outputs": [],
   "source": []
  },
  {
   "cell_type": "markdown",
   "metadata": {},
   "source": [
    "---\n",
    "> P-097: Load the file created in P-094 and display 3 rows to confirm that the data is correctly imported. The file specifications are as follows:\n",
    "> - File format: CSV (comma-separated values)\n",
    "> - Header: Yes\n",
    "> - Text encoding: UTF-8"
   ]
  },
  {
   "cell_type": "code",
   "execution_count": null,
   "metadata": {},
   "outputs": [],
   "source": []
  },
  {
   "cell_type": "markdown",
   "metadata": {},
   "source": [
    "---\n",
    "> P-098: Load the file created in P-096 and display 3 rows to confirm that the data is correctly imported. The file specifications are as follows:\n",
    "> - File format: CSV (comma-separated values)\n",
    "> - Header: No\n",
    "> - Text encoding: UTF-8"
   ]
  },
  {
   "cell_type": "code",
   "execution_count": null,
   "metadata": {},
   "outputs": [],
   "source": []
  },
  {
   "cell_type": "markdown",
   "metadata": {},
   "source": [
    "---\n",
    "> P-099: Save the new product dataset created in P-093 with the category names included as a TSV file with the following specifications:\n",
    "> - File format: TSV (tab-separated values)\n",
    "> - Header: Yes\n",
    "> - Text encoding: UTF-8\n",
    "> -File output path: /data"
   ]
  },
  {
   "cell_type": "code",
   "execution_count": null,
   "metadata": {},
   "outputs": [],
   "source": []
  },
  {
   "cell_type": "markdown",
   "metadata": {},
   "source": [
    "---\n",
    "> P-100: Load the file created in P-099 with the following specifications, display 3 rows of data, and confirm that the data is correctly imported:\n",
    "> - File format: TSV (tab-separated values)\n",
    "> - Header: Yes\n",
    "> - Text encoding: UTF-8"
   ]
  },
  {
   "cell_type": "code",
   "execution_count": null,
   "metadata": {},
   "outputs": [],
   "source": []
  },
  {
   "cell_type": "markdown",
   "metadata": {},
   "source": [
    "## This concludes the 100 exercises. Well done!"
   ]
  },
  {
   "cell_type": "markdown",
   "metadata": {},
   "source": []
  }
 ],
 "metadata": {
  "kernelspec": {
   "display_name": "Python 3 (ipykernel)",
   "language": "python",
   "name": "python3"
  },
  "language_info": {
   "codemirror_mode": {
    "name": "ipython",
    "version": 3
   },
   "file_extension": ".py",
   "mimetype": "text/x-python",
   "name": "python",
   "nbconvert_exporter": "python",
   "pygments_lexer": "ipython3",
   "version": "3.11.0"
  }
 },
 "nbformat": 4,
 "nbformat_minor": 4
}
